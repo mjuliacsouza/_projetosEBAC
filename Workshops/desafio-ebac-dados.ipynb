{
 "cells": [
  {
   "cell_type": "markdown",
   "id": "faa08115",
   "metadata": {
    "id": "gaFYgGPXGQ_2",
    "papermill": {
     "duration": 0.008188,
     "end_time": "2022-06-22T21:54:52.019678",
     "exception": false,
     "start_time": "2022-06-22T21:54:52.011490",
     "status": "completed"
    },
    "tags": []
   },
   "source": [
    "# **Fundamentos da Matemática para Análise de Dados**\n",
    "## **DESAFÍO**"
   ]
  },
  {
   "cell_type": "markdown",
   "id": "70fa7257",
   "metadata": {
    "id": "GYiyg9PMGhLU",
    "papermill": {
     "duration": 0.006988,
     "end_time": "2022-06-22T21:54:52.033962",
     "exception": false,
     "start_time": "2022-06-22T21:54:52.026974",
     "status": "completed"
    },
    "tags": []
   },
   "source": [
    "#### Importando as bibliotecas necessárias"
   ]
  },
  {
   "cell_type": "code",
   "execution_count": 1,
   "id": "2f8d44d7",
   "metadata": {
    "execution": {
     "iopub.execute_input": "2022-06-22T21:54:52.050556Z",
     "iopub.status.busy": "2022-06-22T21:54:52.049974Z",
     "iopub.status.idle": "2022-06-22T21:54:52.062164Z",
     "shell.execute_reply": "2022-06-22T21:54:52.061576Z"
    },
    "id": "M6jxH0WaGKH9",
    "papermill": {
     "duration": 0.023042,
     "end_time": "2022-06-22T21:54:52.064267",
     "exception": false,
     "start_time": "2022-06-22T21:54:52.041225",
     "status": "completed"
    },
    "tags": []
   },
   "outputs": [],
   "source": [
    "import pandas as pd\n",
    "import numpy as np\n",
    "import matplotlib.pyplot as plt\n",
    "import statistics as st"
   ]
  },
  {
   "cell_type": "markdown",
   "id": "4ff0f520",
   "metadata": {
    "id": "RcdaIN_WGopX",
    "papermill": {
     "duration": 0.007234,
     "end_time": "2022-06-22T21:54:52.079088",
     "exception": false,
     "start_time": "2022-06-22T21:54:52.071854",
     "status": "completed"
    },
    "tags": []
   },
   "source": [
    "Importando os dados a serem utilizados (Dataframe = domicilios)"
   ]
  },
  {
   "cell_type": "code",
   "execution_count": 2,
   "id": "3b0bfac7",
   "metadata": {
    "execution": {
     "iopub.execute_input": "2022-06-22T21:54:52.095821Z",
     "iopub.status.busy": "2022-06-22T21:54:52.095471Z",
     "iopub.status.idle": "2022-06-22T21:54:52.759867Z",
     "shell.execute_reply": "2022-06-22T21:54:52.759007Z"
    },
    "id": "AechtWbtGIW_",
    "outputId": "ae75c7f6-7391-4838-86dc-8584b6bb596a",
    "papermill": {
     "duration": 0.675599,
     "end_time": "2022-06-22T21:54:52.762024",
     "exception": false,
     "start_time": "2022-06-22T21:54:52.086425",
     "status": "completed"
    },
    "tags": []
   },
   "outputs": [
    {
     "data": {
      "text/html": [
       "<div>\n",
       "<style scoped>\n",
       "    .dataframe tbody tr th:only-of-type {\n",
       "        vertical-align: middle;\n",
       "    }\n",
       "\n",
       "    .dataframe tbody tr th {\n",
       "        vertical-align: top;\n",
       "    }\n",
       "\n",
       "    .dataframe thead th {\n",
       "        text-align: right;\n",
       "    }\n",
       "</style>\n",
       "<table border=\"1\" class=\"dataframe\">\n",
       "  <thead>\n",
       "    <tr style=\"text-align: right;\">\n",
       "      <th></th>\n",
       "      <th>Ano de referência</th>\n",
       "      <th>Unidade da Federação</th>\n",
       "      <th>Número de controle</th>\n",
       "      <th>Número de série</th>\n",
       "      <th>Tipo de entrevista</th>\n",
       "      <th>Total de moradores</th>\n",
       "      <th>Total de moradores de 10 anos ou mais</th>\n",
       "      <th>Tipo do domicílio</th>\n",
       "      <th>Número de cômodos do domicílio</th>\n",
       "      <th>Número de cômodos servindo de dormitório</th>\n",
       "      <th>Condição de ocupação do domicílio</th>\n",
       "      <th>Aluguel mensal pago no mês de referência</th>\n",
       "      <th>Prestação mensal paga no mês de referência</th>\n",
       "      <th>Tem acesso à Internet no próprio domicilio</th>\n",
       "      <th>Tem carro ou motocicleta de uso pessoal</th>\n",
       "      <th>Rendimento mensal domiciliar</th>\n",
       "      <th>Número de componentes do domícilio</th>\n",
       "      <th>Rendimento mensal domiciliar per capita</th>\n",
       "    </tr>\n",
       "  </thead>\n",
       "  <tbody>\n",
       "    <tr>\n",
       "      <th>0</th>\n",
       "      <td>2015</td>\n",
       "      <td>Rondônia</td>\n",
       "      <td>11000058</td>\n",
       "      <td>8</td>\n",
       "      <td>Realizada</td>\n",
       "      <td>4</td>\n",
       "      <td>3</td>\n",
       "      <td>Casa</td>\n",
       "      <td>5</td>\n",
       "      <td>2</td>\n",
       "      <td>Alugado</td>\n",
       "      <td>650</td>\n",
       "      <td>0</td>\n",
       "      <td>2</td>\n",
       "      <td>4</td>\n",
       "      <td>3350</td>\n",
       "      <td>4</td>\n",
       "      <td>837</td>\n",
       "    </tr>\n",
       "    <tr>\n",
       "      <th>1</th>\n",
       "      <td>2015</td>\n",
       "      <td>Rondônia</td>\n",
       "      <td>11000163</td>\n",
       "      <td>1</td>\n",
       "      <td>Realizada</td>\n",
       "      <td>3</td>\n",
       "      <td>1</td>\n",
       "      <td>Casa</td>\n",
       "      <td>6</td>\n",
       "      <td>2</td>\n",
       "      <td>Próprio – já pago</td>\n",
       "      <td>0</td>\n",
       "      <td>0</td>\n",
       "      <td>4</td>\n",
       "      <td>4</td>\n",
       "      <td>1734</td>\n",
       "      <td>3</td>\n",
       "      <td>578</td>\n",
       "    </tr>\n",
       "    <tr>\n",
       "      <th>2</th>\n",
       "      <td>2015</td>\n",
       "      <td>Rondônia</td>\n",
       "      <td>11000210</td>\n",
       "      <td>19</td>\n",
       "      <td>Realizada</td>\n",
       "      <td>2</td>\n",
       "      <td>2</td>\n",
       "      <td>Casa</td>\n",
       "      <td>4</td>\n",
       "      <td>2</td>\n",
       "      <td>Próprio – já pago</td>\n",
       "      <td>0</td>\n",
       "      <td>0</td>\n",
       "      <td>4</td>\n",
       "      <td>4</td>\n",
       "      <td>1576</td>\n",
       "      <td>2</td>\n",
       "      <td>788</td>\n",
       "    </tr>\n",
       "    <tr>\n",
       "      <th>3</th>\n",
       "      <td>2015</td>\n",
       "      <td>Rondônia</td>\n",
       "      <td>11000341</td>\n",
       "      <td>15</td>\n",
       "      <td>Realizada</td>\n",
       "      <td>5</td>\n",
       "      <td>5</td>\n",
       "      <td>Casa</td>\n",
       "      <td>4</td>\n",
       "      <td>2</td>\n",
       "      <td>Próprio – já pago</td>\n",
       "      <td>0</td>\n",
       "      <td>0</td>\n",
       "      <td>4</td>\n",
       "      <td>2</td>\n",
       "      <td>3427</td>\n",
       "      <td>5</td>\n",
       "      <td>685</td>\n",
       "    </tr>\n",
       "    <tr>\n",
       "      <th>4</th>\n",
       "      <td>2015</td>\n",
       "      <td>Rondônia</td>\n",
       "      <td>11000422</td>\n",
       "      <td>6</td>\n",
       "      <td>Realizada</td>\n",
       "      <td>3</td>\n",
       "      <td>2</td>\n",
       "      <td>Casa</td>\n",
       "      <td>5</td>\n",
       "      <td>2</td>\n",
       "      <td>Próprio – já pago</td>\n",
       "      <td>0</td>\n",
       "      <td>0</td>\n",
       "      <td>4</td>\n",
       "      <td>4</td>\n",
       "      <td>900</td>\n",
       "      <td>3</td>\n",
       "      <td>300</td>\n",
       "    </tr>\n",
       "  </tbody>\n",
       "</table>\n",
       "</div>"
      ],
      "text/plain": [
       "   Ano de referência Unidade da Federação  Número de controle  \\\n",
       "0               2015             Rondônia            11000058   \n",
       "1               2015             Rondônia            11000163   \n",
       "2               2015             Rondônia            11000210   \n",
       "3               2015             Rondônia            11000341   \n",
       "4               2015             Rondônia            11000422   \n",
       "\n",
       "   Número de série Tipo de entrevista  Total de moradores  \\\n",
       "0                8          Realizada                   4   \n",
       "1                1          Realizada                   3   \n",
       "2               19          Realizada                   2   \n",
       "3               15          Realizada                   5   \n",
       "4                6          Realizada                   3   \n",
       "\n",
       "   Total de moradores de 10 anos ou mais Tipo do domicílio  \\\n",
       "0                                      3              Casa   \n",
       "1                                      1              Casa   \n",
       "2                                      2              Casa   \n",
       "3                                      5              Casa   \n",
       "4                                      2              Casa   \n",
       "\n",
       "   Número de cômodos do domicílio  Número de cômodos servindo de dormitório  \\\n",
       "0                               5                                         2   \n",
       "1                               6                                         2   \n",
       "2                               4                                         2   \n",
       "3                               4                                         2   \n",
       "4                               5                                         2   \n",
       "\n",
       "  Condição de ocupação do domicílio  Aluguel mensal pago no mês de referência  \\\n",
       "0                           Alugado                                       650   \n",
       "1                 Próprio – já pago                                         0   \n",
       "2                 Próprio – já pago                                         0   \n",
       "3                 Próprio – já pago                                         0   \n",
       "4                 Próprio – já pago                                         0   \n",
       "\n",
       "   Prestação mensal paga no mês de referência  \\\n",
       "0                                           0   \n",
       "1                                           0   \n",
       "2                                           0   \n",
       "3                                           0   \n",
       "4                                           0   \n",
       "\n",
       "  Tem acesso à Internet no próprio domicilio  \\\n",
       "0                                          2   \n",
       "1                                          4   \n",
       "2                                          4   \n",
       "3                                          4   \n",
       "4                                          4   \n",
       "\n",
       "  Tem carro ou motocicleta de uso pessoal  Rendimento mensal domiciliar  \\\n",
       "0                                       4                          3350   \n",
       "1                                       4                          1734   \n",
       "2                                       4                          1576   \n",
       "3                                       2                          3427   \n",
       "4                                       4                           900   \n",
       "\n",
       "   Número de componentes do domícilio  Rendimento mensal domiciliar per capita  \n",
       "0                                   4                                      837  \n",
       "1                                   3                                      578  \n",
       "2                                   2                                      788  \n",
       "3                                   5                                      685  \n",
       "4                                   3                                      300  "
      ]
     },
     "execution_count": 2,
     "metadata": {},
     "output_type": "execute_result"
    }
   ],
   "source": [
    "!wget -q \"https://raw.githubusercontent.com/rafands/ebac-course-content/main/dados_IBGE_domicilios_2015.csv\" -O dados_IBGE_domicilios_2015.csv \n",
    "\n",
    "domicilios = pd.read_csv('./dados_IBGE_domicilios_2015.csv', sep=';')\n",
    "\n",
    "domicilios.dropna(inplace=True)\n",
    "\n",
    "domicilios.head()"
   ]
  },
  {
   "cell_type": "markdown",
   "id": "5bcdec02",
   "metadata": {
    "id": "h9PDEIFLGuMY",
    "papermill": {
     "duration": 0.007809,
     "end_time": "2022-06-22T21:54:52.778054",
     "exception": false,
     "start_time": "2022-06-22T21:54:52.770245",
     "status": "completed"
    },
    "tags": []
   },
   "source": [
    "1) Mostre as propriedades deste dataframe:\n",
    "- Lista de colunas\n",
    "- Quantidade de linhas e colunas (shape)\n",
    "- Tipo de dados de cada coluna\n",
    "\n",
    "(não se esqueça de imprimir, print(), cada uma dessas informações)"
   ]
  },
  {
   "cell_type": "code",
   "execution_count": 3,
   "id": "1398e44b",
   "metadata": {
    "execution": {
     "iopub.execute_input": "2022-06-22T21:54:52.797168Z",
     "iopub.status.busy": "2022-06-22T21:54:52.796662Z",
     "iopub.status.idle": "2022-06-22T21:54:52.800459Z",
     "shell.execute_reply": "2022-06-22T21:54:52.799910Z"
    },
    "id": "Mnsv14VIHFwF",
    "papermill": {
     "duration": 0.01612,
     "end_time": "2022-06-22T21:54:52.802427",
     "exception": false,
     "start_time": "2022-06-22T21:54:52.786307",
     "status": "completed"
    },
    "tags": []
   },
   "outputs": [],
   "source": [
    "# Resposta 1:"
   ]
  },
  {
   "cell_type": "markdown",
   "id": "3394082f",
   "metadata": {
    "id": "IGxrNijtHg4j",
    "papermill": {
     "duration": 0.007825,
     "end_time": "2022-06-22T21:54:52.818524",
     "exception": false,
     "start_time": "2022-06-22T21:54:52.810699",
     "status": "completed"
    },
    "tags": []
   },
   "source": [
    "2) Altere os nomes das colunas do dataframe a seguir:\n",
    "\n",
    "- 'Ano de referência' por 'ano_ref'\n",
    "- 'Unidade da Federação' por 'uf'\n",
    "- 'Número de controle' por 'num_cont'\n",
    "- 'Número de série' por 'num_ser'\n",
    "- 'Tipo de entrevista' por 'tipo_ent'\n",
    "- 'Total de moradores' por 'num_moradores'\n",
    "- 'Total de moradores de 10 anos ou mais' por 'num_moradores_maiores_10anos'\n",
    "- 'Tipo do domicílio' por 'tipo_domicilio'\n",
    "- 'Número de cômodos do domicílio' por 'num_comodos'\n",
    "- 'Número de cômodos servindo de dormitório' por 'num_dormitorios'\n",
    "- 'Condição de ocupação do domicílio' por 'condicao_domicilio'\n",
    "- 'Aluguel mensal pago no mês de referência' por 'vlr_aluguel_mensal'\n",
    "- 'Prestação mensal paga no mês de referência' por 'prestacao_mensal'\n",
    "- 'Tem acesso à Internet no próprio domicilio' por 'tem_acesso_internet'\n",
    "- 'Tem carro ou motocicleta de uso pessoal' por 'tem_veiculo'\n",
    "- 'Rendimento mensal domiciliar' por 'renda_mensal_domicilio'\n",
    "- 'Número de componentes do domícilio' por 'num_componentes'\n",
    "- 'Rendimento mensal domiciliar per capita' por 'renda_mensal_percapita'"
   ]
  },
  {
   "cell_type": "code",
   "execution_count": 4,
   "id": "fc91a708",
   "metadata": {
    "execution": {
     "iopub.execute_input": "2022-06-22T21:54:52.836375Z",
     "iopub.status.busy": "2022-06-22T21:54:52.835912Z",
     "iopub.status.idle": "2022-06-22T21:54:52.839270Z",
     "shell.execute_reply": "2022-06-22T21:54:52.838673Z"
    },
    "id": "5tw80L1aHZOz",
    "papermill": {
     "duration": 0.01461,
     "end_time": "2022-06-22T21:54:52.841252",
     "exception": false,
     "start_time": "2022-06-22T21:54:52.826642",
     "status": "completed"
    },
    "tags": []
   },
   "outputs": [],
   "source": [
    "# Resposta 2:"
   ]
  },
  {
   "cell_type": "markdown",
   "id": "f7c3a2bd",
   "metadata": {
    "id": "a84lNE3GJDHS",
    "papermill": {
     "duration": 0.00813,
     "end_time": "2022-06-22T21:54:52.857842",
     "exception": false,
     "start_time": "2022-06-22T21:54:52.849712",
     "status": "completed"
    },
    "tags": []
   },
   "source": [
    "3) Crie um dataframe de nome df mantendo apenas as colunas:\n",
    "\n",
    "- 'ano_ref'\n",
    "- 'uf'\n",
    "- 'num_moradores'\n",
    "- 'num_moradores_maiores_10anos'\n",
    "- 'tipo_domicilio'\n",
    "- 'num_comodos'\n",
    "- 'num_dormitorios'\n",
    "- 'condicao_domicilio'\n",
    "- 'vlr_aluguel_mensal'\n",
    "- 'prestacao_mensal'\n",
    "- 'renda_mensal_domicilio'\n"
   ]
  },
  {
   "cell_type": "code",
   "execution_count": 5,
   "id": "253452af",
   "metadata": {
    "execution": {
     "iopub.execute_input": "2022-06-22T21:54:52.875818Z",
     "iopub.status.busy": "2022-06-22T21:54:52.875360Z",
     "iopub.status.idle": "2022-06-22T21:54:52.878772Z",
     "shell.execute_reply": "2022-06-22T21:54:52.878095Z"
    },
    "id": "hZWOIZcXH8CA",
    "papermill": {
     "duration": 0.015113,
     "end_time": "2022-06-22T21:54:52.880954",
     "exception": false,
     "start_time": "2022-06-22T21:54:52.865841",
     "status": "completed"
    },
    "tags": []
   },
   "outputs": [],
   "source": [
    "# Resposta 3:"
   ]
  },
  {
   "cell_type": "markdown",
   "id": "6c930986",
   "metadata": {
    "id": "28d9IA8TJnjP",
    "papermill": {
     "duration": 0.008267,
     "end_time": "2022-06-22T21:54:52.897697",
     "exception": false,
     "start_time": "2022-06-22T21:54:52.889430",
     "status": "completed"
    },
    "tags": []
   },
   "source": [
    "4) Descubra a média e o desvio padrão do número de moradores (num_moradores) por domicílio:"
   ]
  },
  {
   "cell_type": "code",
   "execution_count": 6,
   "id": "914d9451",
   "metadata": {
    "execution": {
     "iopub.execute_input": "2022-06-22T21:54:52.916682Z",
     "iopub.status.busy": "2022-06-22T21:54:52.915702Z",
     "iopub.status.idle": "2022-06-22T21:54:52.919999Z",
     "shell.execute_reply": "2022-06-22T21:54:52.919097Z"
    },
    "id": "NNjlmQWBJRY6",
    "papermill": {
     "duration": 0.015943,
     "end_time": "2022-06-22T21:54:52.922232",
     "exception": false,
     "start_time": "2022-06-22T21:54:52.906289",
     "status": "completed"
    },
    "tags": []
   },
   "outputs": [],
   "source": [
    "# Resposta 4:"
   ]
  },
  {
   "cell_type": "markdown",
   "id": "60ab76e1",
   "metadata": {
    "id": "j4ZpinF7KG9k",
    "papermill": {
     "duration": 0.008081,
     "end_time": "2022-06-22T21:54:52.938841",
     "exception": false,
     "start_time": "2022-06-22T21:54:52.930760",
     "status": "completed"
    },
    "tags": []
   },
   "source": [
    "5) Descubra a média do número de moradores (num_moradores) por tipo de domicilio (tipo_domicilio):"
   ]
  },
  {
   "cell_type": "code",
   "execution_count": 7,
   "id": "14d3e0f8",
   "metadata": {
    "execution": {
     "iopub.execute_input": "2022-06-22T21:54:52.956368Z",
     "iopub.status.busy": "2022-06-22T21:54:52.956083Z",
     "iopub.status.idle": "2022-06-22T21:54:52.960180Z",
     "shell.execute_reply": "2022-06-22T21:54:52.959296Z"
    },
    "id": "afUzzRWOJRcG",
    "papermill": {
     "duration": 0.015277,
     "end_time": "2022-06-22T21:54:52.962234",
     "exception": false,
     "start_time": "2022-06-22T21:54:52.946957",
     "status": "completed"
    },
    "tags": []
   },
   "outputs": [],
   "source": [
    "# Resposta 5:"
   ]
  },
  {
   "cell_type": "markdown",
   "id": "d616b25e",
   "metadata": {
    "id": "ZU6AGxeuKb_3",
    "papermill": {
     "duration": 0.009205,
     "end_time": "2022-06-22T21:54:52.980306",
     "exception": false,
     "start_time": "2022-06-22T21:54:52.971101",
     "status": "completed"
    },
    "tags": []
   },
   "source": [
    "6) Quantos casos existem para cada Condição de ocupação do domicílio (condicao_domicilio)"
   ]
  },
  {
   "cell_type": "code",
   "execution_count": 8,
   "id": "3bf260d8",
   "metadata": {
    "execution": {
     "iopub.execute_input": "2022-06-22T21:54:53.000144Z",
     "iopub.status.busy": "2022-06-22T21:54:52.999807Z",
     "iopub.status.idle": "2022-06-22T21:54:53.003176Z",
     "shell.execute_reply": "2022-06-22T21:54:53.002577Z"
    },
    "id": "ZgfBiMLTKc9X",
    "papermill": {
     "duration": 0.015652,
     "end_time": "2022-06-22T21:54:53.005274",
     "exception": false,
     "start_time": "2022-06-22T21:54:52.989622",
     "status": "completed"
    },
    "tags": []
   },
   "outputs": [],
   "source": [
    "# Resposta 6:"
   ]
  },
  {
   "cell_type": "markdown",
   "id": "b3a1ca77",
   "metadata": {
    "id": "jwZ1QmJoKdEr",
    "papermill": {
     "duration": 0.008669,
     "end_time": "2022-06-22T21:54:53.022751",
     "exception": false,
     "start_time": "2022-06-22T21:54:53.014082",
     "status": "completed"
    },
    "tags": []
   },
   "source": [
    "7) Qual é a média e o desvio padrão do valor de aluguel mensal (vlr_aluguel_mensal)?\n",
    "\n",
    "(não se esqueça que nem todos moram de aluguel, precisamos filtrar os outros casos desta análise)"
   ]
  },
  {
   "cell_type": "code",
   "execution_count": 9,
   "id": "5ea6beb6",
   "metadata": {
    "execution": {
     "iopub.execute_input": "2022-06-22T21:54:53.041868Z",
     "iopub.status.busy": "2022-06-22T21:54:53.041510Z",
     "iopub.status.idle": "2022-06-22T21:54:53.045573Z",
     "shell.execute_reply": "2022-06-22T21:54:53.044544Z"
    },
    "id": "OQad2xnkKdK0",
    "papermill": {
     "duration": 0.015762,
     "end_time": "2022-06-22T21:54:53.047175",
     "exception": false,
     "start_time": "2022-06-22T21:54:53.031413",
     "status": "completed"
    },
    "tags": []
   },
   "outputs": [],
   "source": [
    "# Resposta 7:"
   ]
  },
  {
   "cell_type": "markdown",
   "id": "5016229e",
   "metadata": {
    "id": "l912G0JOKdRO",
    "papermill": {
     "duration": 0.005303,
     "end_time": "2022-06-22T21:54:53.058125",
     "exception": false,
     "start_time": "2022-06-22T21:54:53.052822",
     "status": "completed"
    },
    "tags": []
   },
   "source": [
    "8) Qual é a média e o desvio padrão do valor da prestação mensal (prestacao_mensal)?\n",
    "\n",
    "(não se esqueça que nem todos moram em domicílio próprio e ainda estão pagando prestações, precisamos filtrar os outros casos desta análise)"
   ]
  },
  {
   "cell_type": "code",
   "execution_count": 10,
   "id": "d20c5ecf",
   "metadata": {
    "execution": {
     "iopub.execute_input": "2022-06-22T21:54:53.070925Z",
     "iopub.status.busy": "2022-06-22T21:54:53.070436Z",
     "iopub.status.idle": "2022-06-22T21:54:53.073609Z",
     "shell.execute_reply": "2022-06-22T21:54:53.073082Z"
    },
    "id": "0k8DQTnyKdXb",
    "papermill": {
     "duration": 0.011767,
     "end_time": "2022-06-22T21:54:53.075365",
     "exception": false,
     "start_time": "2022-06-22T21:54:53.063598",
     "status": "completed"
    },
    "tags": []
   },
   "outputs": [],
   "source": [
    "# Resposta 8:"
   ]
  },
  {
   "cell_type": "markdown",
   "id": "90baa235",
   "metadata": {
    "id": "wVcSTJGUKdeF",
    "papermill": {
     "duration": 0.005193,
     "end_time": "2022-06-22T21:54:53.086178",
     "exception": false,
     "start_time": "2022-06-22T21:54:53.080985",
     "status": "completed"
    },
    "tags": []
   },
   "source": [
    "9) Qual é a média de renda mensal por domicílio?"
   ]
  },
  {
   "cell_type": "code",
   "execution_count": 11,
   "id": "1bc9f97c",
   "metadata": {
    "execution": {
     "iopub.execute_input": "2022-06-22T21:54:53.098329Z",
     "iopub.status.busy": "2022-06-22T21:54:53.097811Z",
     "iopub.status.idle": "2022-06-22T21:54:53.100913Z",
     "shell.execute_reply": "2022-06-22T21:54:53.100279Z"
    },
    "id": "jxDWtDqCJRfD",
    "papermill": {
     "duration": 0.01092,
     "end_time": "2022-06-22T21:54:53.102287",
     "exception": false,
     "start_time": "2022-06-22T21:54:53.091367",
     "status": "completed"
    },
    "tags": []
   },
   "outputs": [],
   "source": [
    "# Resposta 9:"
   ]
  },
  {
   "cell_type": "markdown",
   "id": "f7c1bcc6",
   "metadata": {
    "id": "OOs1udooMbgR",
    "papermill": {
     "duration": 0.005247,
     "end_time": "2022-06-22T21:54:53.113056",
     "exception": false,
     "start_time": "2022-06-22T21:54:53.107809",
     "status": "completed"
    },
    "tags": []
   },
   "source": [
    "10) Qual é a média de renda mensal por morador com mais de 10 anos?"
   ]
  },
  {
   "cell_type": "code",
   "execution_count": 12,
   "id": "1869bbbe",
   "metadata": {
    "execution": {
     "iopub.execute_input": "2022-06-22T21:54:53.125012Z",
     "iopub.status.busy": "2022-06-22T21:54:53.124607Z",
     "iopub.status.idle": "2022-06-22T21:54:53.127538Z",
     "shell.execute_reply": "2022-06-22T21:54:53.127004Z"
    },
    "id": "2VgTWhyNJSyS",
    "papermill": {
     "duration": 0.01119,
     "end_time": "2022-06-22T21:54:53.129469",
     "exception": false,
     "start_time": "2022-06-22T21:54:53.118279",
     "status": "completed"
    },
    "tags": []
   },
   "outputs": [],
   "source": [
    "# Resposta 10:"
   ]
  },
  {
   "cell_type": "markdown",
   "id": "41331267",
   "metadata": {
    "id": "1uz0bjmyMhhX",
    "papermill": {
     "duration": 0.005221,
     "end_time": "2022-06-22T21:54:53.140475",
     "exception": false,
     "start_time": "2022-06-22T21:54:53.135254",
     "status": "completed"
    },
    "tags": []
   },
   "source": [
    "11) Plot um histograma com a quantidade de domicilios desta base por UF."
   ]
  },
  {
   "cell_type": "code",
   "execution_count": 13,
   "id": "0e0dd563",
   "metadata": {
    "execution": {
     "iopub.execute_input": "2022-06-22T21:54:53.152638Z",
     "iopub.status.busy": "2022-06-22T21:54:53.152143Z",
     "iopub.status.idle": "2022-06-22T21:54:53.155110Z",
     "shell.execute_reply": "2022-06-22T21:54:53.154616Z"
    },
    "id": "mJyH-uMBMQkS",
    "papermill": {
     "duration": 0.010703,
     "end_time": "2022-06-22T21:54:53.156477",
     "exception": false,
     "start_time": "2022-06-22T21:54:53.145774",
     "status": "completed"
    },
    "tags": []
   },
   "outputs": [],
   "source": [
    "# Resposta 11:"
   ]
  },
  {
   "cell_type": "markdown",
   "id": "e67a5392",
   "metadata": {
    "id": "hy5JbcDuM3oR",
    "papermill": {
     "duration": 0.005379,
     "end_time": "2022-06-22T21:54:53.167414",
     "exception": false,
     "start_time": "2022-06-22T21:54:53.162035",
     "status": "completed"
    },
    "tags": []
   },
   "source": [
    "12) Plot um gráfico de barras com a soma total de moradores desta base por UF."
   ]
  },
  {
   "cell_type": "code",
   "execution_count": 14,
   "id": "484905e9",
   "metadata": {
    "execution": {
     "iopub.execute_input": "2022-06-22T21:54:53.179843Z",
     "iopub.status.busy": "2022-06-22T21:54:53.179370Z",
     "iopub.status.idle": "2022-06-22T21:54:53.182792Z",
     "shell.execute_reply": "2022-06-22T21:54:53.181667Z"
    },
    "id": "-KdynNCCNA1R",
    "papermill": {
     "duration": 0.011328,
     "end_time": "2022-06-22T21:54:53.184227",
     "exception": false,
     "start_time": "2022-06-22T21:54:53.172899",
     "status": "completed"
    },
    "tags": []
   },
   "outputs": [],
   "source": [
    "# Resposta 12:"
   ]
  },
  {
   "cell_type": "markdown",
   "id": "284880df",
   "metadata": {
    "id": "7Mizx4JkNQrp",
    "papermill": {
     "duration": 0.005243,
     "end_time": "2022-06-22T21:54:53.195255",
     "exception": false,
     "start_time": "2022-06-22T21:54:53.190012",
     "status": "completed"
    },
    "tags": []
   },
   "source": [
    "13) Plot um gráfico de dispersão com o número total de moradores (num_moradores) e o número total de dormitorios (num_dormitorios)."
   ]
  },
  {
   "cell_type": "code",
   "execution_count": 15,
   "id": "ee195e31",
   "metadata": {
    "execution": {
     "iopub.execute_input": "2022-06-22T21:54:53.207376Z",
     "iopub.status.busy": "2022-06-22T21:54:53.206906Z",
     "iopub.status.idle": "2022-06-22T21:54:53.209908Z",
     "shell.execute_reply": "2022-06-22T21:54:53.209291Z"
    },
    "id": "XV2AQ_lpNPy_",
    "papermill": {
     "duration": 0.010776,
     "end_time": "2022-06-22T21:54:53.211341",
     "exception": false,
     "start_time": "2022-06-22T21:54:53.200565",
     "status": "completed"
    },
    "tags": []
   },
   "outputs": [],
   "source": [
    "# Resposta 13:"
   ]
  }
 ],
 "metadata": {
  "kernelspec": {
   "display_name": "Python 3",
   "language": "python",
   "name": "python3"
  },
  "language_info": {
   "codemirror_mode": {
    "name": "ipython",
    "version": 3
   },
   "file_extension": ".py",
   "mimetype": "text/x-python",
   "name": "python",
   "nbconvert_exporter": "python",
   "pygments_lexer": "ipython3",
   "version": "3.7.12"
  },
  "papermill": {
   "default_parameters": {},
   "duration": 11.524177,
   "end_time": "2022-06-22T21:54:53.835566",
   "environment_variables": {},
   "exception": null,
   "input_path": "__notebook__.ipynb",
   "output_path": "__notebook__.ipynb",
   "parameters": {},
   "start_time": "2022-06-22T21:54:42.311389",
   "version": "2.3.4"
  }
 },
 "nbformat": 4,
 "nbformat_minor": 5
}
