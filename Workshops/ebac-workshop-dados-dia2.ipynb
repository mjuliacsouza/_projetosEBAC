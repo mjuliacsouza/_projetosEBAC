{
 "cells": [
  {
   "cell_type": "markdown",
   "id": "13f8898e",
   "metadata": {
    "id": "nyFRqNp6rcUb",
    "papermill": {
     "duration": 0.012978,
     "end_time": "2022-06-22T21:08:29.750166",
     "exception": false,
     "start_time": "2022-06-22T21:08:29.737188",
     "status": "completed"
    },
    "tags": []
   },
   "source": [
    "# **Fundamentos da Matemática para Análise de Dados**"
   ]
  },
  {
   "cell_type": "markdown",
   "id": "7852d46d",
   "metadata": {
    "id": "5XzJkxN1zmBM",
    "papermill": {
     "duration": 0.01094,
     "end_time": "2022-06-22T21:08:29.772335",
     "exception": false,
     "start_time": "2022-06-22T21:08:29.761395",
     "status": "completed"
    },
    "tags": []
   },
   "source": [
    "# ***DIA 2 (22/06 das 19h às 21h)***:\n",
    "\n",
    "\n",
    "---\n",
    "- Recap. Dia 1 (DATAFRAMES, LISTAS) + ARRAYS\n",
    "- OPERAÇÕES MATEMÁTICAS USANDO DATAFRAMES.\n",
    "- MEDIDAS DE CENTRALIDADE: Moda, média e mediana.\n",
    "- DESVIO PADRÃO E VARIÂNCIA.\n",
    "- GROUPBY.\n",
    "- PRINCIPAIS VISUALIZAÇÕES DE DADOS.\n",
    "- Desafio para exercitar seus novos conhecimentos. "
   ]
  },
  {
   "cell_type": "markdown",
   "id": "3c39f589",
   "metadata": {
    "id": "LEUBAL00O3da",
    "papermill": {
     "duration": 0.012206,
     "end_time": "2022-06-22T21:08:29.795648",
     "exception": false,
     "start_time": "2022-06-22T21:08:29.783442",
     "status": "completed"
    },
    "tags": []
   },
   "source": [
    "#### Menções interessantes no chat ####"
   ]
  },
  {
   "cell_type": "code",
   "execution_count": 1,
   "id": "c3e59405",
   "metadata": {
    "execution": {
     "iopub.execute_input": "2022-06-22T21:08:29.819614Z",
     "iopub.status.busy": "2022-06-22T21:08:29.819219Z",
     "iopub.status.idle": "2022-06-22T21:08:29.830473Z",
     "shell.execute_reply": "2022-06-22T21:08:29.829762Z"
    },
    "id": "t3th6uNlO2ZU",
    "outputId": "a259f5b9-3c46-4a10-9a4a-4d9fd3c3ed74",
    "papermill": {
     "duration": 0.026515,
     "end_time": "2022-06-22T21:08:29.833151",
     "exception": false,
     "start_time": "2022-06-22T21:08:29.806636",
     "status": "completed"
    },
    "tags": []
   },
   "outputs": [
    {
     "name": "stdout",
     "output_type": "stream",
     "text": [
      "float: 4.0 usando uma barra /\n",
      "integer: 4.0 usando duas barras (arredondamento floor acontece) //\n",
      "Rafael tem 29 anos de idade\n"
     ]
    }
   ],
   "source": [
    "print('float:', 8/2, 'usando uma barra /')\n",
    "print('integer:', 9.9//2, 'usando duas barras (arredondamento floor acontece) //')\n",
    "\n",
    "print('Rafael tem', 29, 'anos de idade')"
   ]
  },
  {
   "cell_type": "markdown",
   "id": "34d7a238",
   "metadata": {
    "id": "OjWTP4Vkmoys",
    "papermill": {
     "duration": 0.010544,
     "end_time": "2022-06-22T21:08:29.854931",
     "exception": false,
     "start_time": "2022-06-22T21:08:29.844387",
     "status": "completed"
    },
    "tags": []
   },
   "source": [
    "### **IMPORTAR AS BIBLIOTECAS NECESSÁRIAS**"
   ]
  },
  {
   "cell_type": "code",
   "execution_count": 2,
   "id": "a5cf6b61",
   "metadata": {
    "execution": {
     "iopub.execute_input": "2022-06-22T21:08:29.878469Z",
     "iopub.status.busy": "2022-06-22T21:08:29.877829Z",
     "iopub.status.idle": "2022-06-22T21:08:29.884047Z",
     "shell.execute_reply": "2022-06-22T21:08:29.883081Z"
    },
    "id": "2iWDMiAKMvwE",
    "papermill": {
     "duration": 0.020293,
     "end_time": "2022-06-22T21:08:29.886133",
     "exception": false,
     "start_time": "2022-06-22T21:08:29.865840",
     "status": "completed"
    },
    "tags": []
   },
   "outputs": [],
   "source": [
    "import pandas as pd\n",
    "import numpy as np\n",
    "import matplotlib.pyplot as plt\n",
    "import statistics as st"
   ]
  },
  {
   "cell_type": "markdown",
   "id": "147b7064",
   "metadata": {
    "id": "7sNsDZRqmVCb",
    "papermill": {
     "duration": 0.013953,
     "end_time": "2022-06-22T21:08:29.911332",
     "exception": false,
     "start_time": "2022-06-22T21:08:29.897379",
     "status": "completed"
    },
    "tags": []
   },
   "source": [
    "### **DATAFRAME**\n",
    "\n",
    "É uma estrutura de dados bidimensional, contendo linhas e colunas. Uma tabela de dados mutável, algo equivalente a uma planilha de excel. O PANDAS proporciona uma série de funcões que podemos utilizar para manipular essa estrutura, a função **'.head()'** sendo uma delas.\n",
    "\n",
    "Documentação: https://pandas.pydata.org/docs/reference/api/pandas.DataFrame.dtypes.html"
   ]
  },
  {
   "cell_type": "code",
   "execution_count": 3,
   "id": "ce3e38e7",
   "metadata": {
    "execution": {
     "iopub.execute_input": "2022-06-22T21:08:29.936351Z",
     "iopub.status.busy": "2022-06-22T21:08:29.935582Z",
     "iopub.status.idle": "2022-06-22T21:08:31.115387Z",
     "shell.execute_reply": "2022-06-22T21:08:31.114359Z"
    },
    "id": "mw594GEjTRfB",
    "papermill": {
     "duration": 1.194725,
     "end_time": "2022-06-22T21:08:31.117623",
     "exception": false,
     "start_time": "2022-06-22T21:08:29.922898",
     "status": "completed"
    },
    "tags": []
   },
   "outputs": [],
   "source": [
    "!wget -q \"https://raw.githubusercontent.com/rafands/ebac-course-content/main/amostra_ficticia.csv\" -O amostra_ficticia.csv \n",
    "\n",
    "af = pd.read_csv('./amostra_ficticia.csv', sep=';')"
   ]
  },
  {
   "cell_type": "code",
   "execution_count": 4,
   "id": "ec695b22",
   "metadata": {
    "execution": {
     "iopub.execute_input": "2022-06-22T21:08:31.142087Z",
     "iopub.status.busy": "2022-06-22T21:08:31.141357Z",
     "iopub.status.idle": "2022-06-22T21:08:31.155494Z",
     "shell.execute_reply": "2022-06-22T21:08:31.154063Z"
    },
    "id": "Pa17D1P_m1B5",
    "outputId": "4d7f0d60-a25d-4de4-93c0-5ffae108c4cd",
    "papermill": {
     "duration": 0.029116,
     "end_time": "2022-06-22T21:08:31.157811",
     "exception": false,
     "start_time": "2022-06-22T21:08:31.128695",
     "status": "completed"
    },
    "tags": []
   },
   "outputs": [
    {
     "name": "stdout",
     "output_type": "stream",
     "text": [
      "   ID  IDADE  PESO  ALTURA\n",
      "0   1     26   112    1.80\n",
      "1   2     38    84    1.78\n",
      "2   3     36    67    1.60\n",
      "3   4     41   106    1.83\n",
      "4   5     36   106    1.72\n",
      "<class 'pandas.core.frame.DataFrame'>\n"
     ]
    }
   ],
   "source": [
    "print(af.head())\n",
    "print(type(af))"
   ]
  },
  {
   "cell_type": "markdown",
   "id": "d1cd0656",
   "metadata": {
    "id": "0Un0Zw0AoMwS",
    "papermill": {
     "duration": 0.010856,
     "end_time": "2022-06-22T21:08:31.179875",
     "exception": false,
     "start_time": "2022-06-22T21:08:31.169019",
     "status": "completed"
    },
    "tags": []
   },
   "source": [
    "### **LISTAS**\n",
    "Outra estrutura que precisaremos neste workshop são as listas. Uma lista é uma variável onde podemos armazenar multiplos valores/itens, não necessariamente do mesmo tipo. Estes itens são colocados entre colchetes [ ].\n",
    "\n",
    "***Não vamos nos aprofundar no tema de listas, mas vamos utilizar esta estrutura na hora de interagir com nosso Dataframe.***"
   ]
  },
  {
   "cell_type": "code",
   "execution_count": 5,
   "id": "f5dc588f",
   "metadata": {
    "execution": {
     "iopub.execute_input": "2022-06-22T21:08:31.204233Z",
     "iopub.status.busy": "2022-06-22T21:08:31.203339Z",
     "iopub.status.idle": "2022-06-22T21:08:31.212797Z",
     "shell.execute_reply": "2022-06-22T21:08:31.211636Z"
    },
    "id": "Mu6ULgejoV6G",
    "outputId": "ba3a9b68-fb48-4d00-fa44-e5a21eebe302",
    "papermill": {
     "duration": 0.023715,
     "end_time": "2022-06-22T21:08:31.214771",
     "exception": false,
     "start_time": "2022-06-22T21:08:31.191056",
     "status": "completed"
    },
    "tags": []
   },
   "outputs": [
    {
     "name": "stdout",
     "output_type": "stream",
     "text": [
      "[1, 2, 3, 4, 5, 6, 'a', 'b']\n"
     ]
    },
    {
     "data": {
      "text/plain": [
       "list"
      ]
     },
     "execution_count": 5,
     "metadata": {},
     "output_type": "execute_result"
    }
   ],
   "source": [
    "# Exemplo de Lista (declarando uma nova variável chamada L)\n",
    "\n",
    "L = [1,2,3,4,5,6,'a','b']\n",
    "print(L)\n",
    "type(L)\n"
   ]
  },
  {
   "cell_type": "markdown",
   "id": "055314f5",
   "metadata": {
    "id": "FVzsNvquoZns",
    "papermill": {
     "duration": 0.011001,
     "end_time": "2022-06-22T21:08:31.237041",
     "exception": false,
     "start_time": "2022-06-22T21:08:31.226040",
     "status": "completed"
    },
    "tags": []
   },
   "source": [
    "### **ARRAY: numpy.array()**\n",
    "\n",
    "Outra estrutura é o array (np.array()). Esta estrutura se diferencia de uma lista por apenas conter valores do mesmo tipo, enquanto a lista pode ter valores de diferentes tipos de dados em um mesmo conjunto.\n",
    "\n",
    "Outra diferença é que um numpy.array pode conter mais de uma dimensão.\n",
    "\n",
    "Utilizaremos a biblioteca Numpy para criar e manipular esta estrutura. Utilizaremos também a biblioteca Numpy para executar tarefas matemáticas nestas estruturas, assim como nos dataframes."
   ]
  },
  {
   "cell_type": "code",
   "execution_count": 6,
   "id": "ac77d5c3",
   "metadata": {
    "execution": {
     "iopub.execute_input": "2022-06-22T21:08:31.261463Z",
     "iopub.status.busy": "2022-06-22T21:08:31.260832Z",
     "iopub.status.idle": "2022-06-22T21:08:31.268433Z",
     "shell.execute_reply": "2022-06-22T21:08:31.267422Z"
    },
    "id": "LYB5OtpepkZI",
    "outputId": "141b62ea-64ef-4aab-eef2-519324d9e98f",
    "papermill": {
     "duration": 0.022077,
     "end_time": "2022-06-22T21:08:31.270359",
     "exception": false,
     "start_time": "2022-06-22T21:08:31.248282",
     "status": "completed"
    },
    "tags": []
   },
   "outputs": [
    {
     "name": "stdout",
     "output_type": "stream",
     "text": [
      "['1' '2' '3' '4' '5' '6' 'a' 'b']\n"
     ]
    },
    {
     "data": {
      "text/plain": [
       "numpy.ndarray"
      ]
     },
     "execution_count": 6,
     "metadata": {},
     "output_type": "execute_result"
    }
   ],
   "source": [
    "# Criando um array a partir de uma lista\n",
    "\n",
    "''' Temos a lista L já criada na célula anterior. vamos transformar esta lista\n",
    "    em um numpy.array() e ver o que acontece.\n",
    "'''\n",
    "\n",
    "L_array = np.array(L)\n",
    "print(L_array)\n",
    "type(L_array)\n"
   ]
  },
  {
   "cell_type": "code",
   "execution_count": 7,
   "id": "a613f5fe",
   "metadata": {
    "execution": {
     "iopub.execute_input": "2022-06-22T21:08:31.294834Z",
     "iopub.status.busy": "2022-06-22T21:08:31.294449Z",
     "iopub.status.idle": "2022-06-22T21:08:31.306381Z",
     "shell.execute_reply": "2022-06-22T21:08:31.305147Z"
    },
    "id": "3mudqsC2JOwJ",
    "outputId": "80a51bcc-fa74-455a-9c0a-a0f440b47f96",
    "papermill": {
     "duration": 0.026412,
     "end_time": "2022-06-22T21:08:31.308365",
     "exception": false,
     "start_time": "2022-06-22T21:08:31.281953",
     "status": "completed"
    },
    "tags": []
   },
   "outputs": [
    {
     "name": "stdout",
     "output_type": "stream",
     "text": [
      "[26 38 36 41 36]\n"
     ]
    },
    {
     "data": {
      "text/plain": [
       "numpy.ndarray"
      ]
     },
     "execution_count": 7,
     "metadata": {},
     "output_type": "execute_result"
    }
   ],
   "source": [
    "# Criando um array a partir de uma coluna do dataframe\n",
    "\n",
    "af_arr = np.array(af['IDADE'].head())\n",
    "print(af_arr)\n",
    "type(af_arr)"
   ]
  },
  {
   "cell_type": "code",
   "execution_count": 8,
   "id": "e37eb5f5",
   "metadata": {
    "execution": {
     "iopub.execute_input": "2022-06-22T21:08:31.333666Z",
     "iopub.status.busy": "2022-06-22T21:08:31.332927Z",
     "iopub.status.idle": "2022-06-22T21:08:31.340654Z",
     "shell.execute_reply": "2022-06-22T21:08:31.339659Z"
    },
    "id": "GnvBrXoeAyI9",
    "outputId": "6a5cf90e-3f6b-4637-fe18-85ebfa80e16a",
    "papermill": {
     "duration": 0.022487,
     "end_time": "2022-06-22T21:08:31.342592",
     "exception": false,
     "start_time": "2022-06-22T21:08:31.320105",
     "status": "completed"
    },
    "tags": []
   },
   "outputs": [
    {
     "data": {
      "text/plain": [
       "array([[1, 2, 4, 5, 6, 7, 8, 9],\n",
       "       [1, 1, 2, 1, 1, 1, 1, 3]])"
      ]
     },
     "execution_count": 8,
     "metadata": {},
     "output_type": "execute_result"
    }
   ],
   "source": [
    "# Algumas funções do numpy que podemos usar com LISTAS e ARRAYS (com valores numéricos)\n",
    "conj = [9,2,9,4,5,4,6,9,7,8,1]\n",
    "\n",
    "'''\n",
    "np.sum(conj)\n",
    "np.mean(conj)\n",
    "np.median(conj)\n",
    "st.mode(conj)\n",
    "np.square(conj)\n",
    "np.sqrt(conj)\n",
    "np.abs(conj)\n",
    "np.min(conj)\n",
    "np.max(conj)\n",
    "np.not_equal(conj,6)\n",
    "np.cumsum(conj)\n",
    "np.floor(conj)\n",
    "np.ceil(conj)\n",
    "np.divide(conj,2)\n",
    "np.multiply(conj,2)\n",
    "'''\n",
    "\n",
    "np.array(np.unique(conj, return_counts=True))"
   ]
  },
  {
   "cell_type": "markdown",
   "id": "dcbbb08d",
   "metadata": {
    "id": "SUp4V8n8byX7",
    "papermill": {
     "duration": 0.011686,
     "end_time": "2022-06-22T21:08:31.366316",
     "exception": false,
     "start_time": "2022-06-22T21:08:31.354630",
     "status": "completed"
    },
    "tags": []
   },
   "source": [
    "### **MEDIDAS DE CENTRALIDADE**: Moda, média e mediana.\n",
    "\n",
    "Além de discutirmos os conceitos vamos utilizar o módulo 'statistics' que tem as funcões necessárias para aplicarmos as medidas de centralidade. Também utilizaremos a biblioteca numpy como alternativa, especialmente para os dataframes que tem uma escala maior.\n",
    "\n",
    "https://docs.python.org/pt-br/dev/library/statistics.html"
   ]
  },
  {
   "cell_type": "markdown",
   "id": "da47369b",
   "metadata": {
    "id": "V_XKYa7ifaNU",
    "papermill": {
     "duration": 0.011575,
     "end_time": "2022-06-22T21:08:31.389697",
     "exception": false,
     "start_time": "2022-06-22T21:08:31.378122",
     "status": "completed"
    },
    "tags": []
   },
   "source": [
    "#### **Média**\n",
    "\n",
    "A média é a soma dos dados dividido pela quantidade de dados no conjunto analisado."
   ]
  },
  {
   "cell_type": "code",
   "execution_count": 9,
   "id": "8df8947f",
   "metadata": {
    "execution": {
     "iopub.execute_input": "2022-06-22T21:08:31.415057Z",
     "iopub.status.busy": "2022-06-22T21:08:31.414640Z",
     "iopub.status.idle": "2022-06-22T21:08:31.420165Z",
     "shell.execute_reply": "2022-06-22T21:08:31.419149Z"
    },
    "id": "wD_0wfW2fzgG",
    "outputId": "f4d250c9-d176-421a-bfd3-17728da1147d",
    "papermill": {
     "duration": 0.020603,
     "end_time": "2022-06-22T21:08:31.422151",
     "exception": false,
     "start_time": "2022-06-22T21:08:31.401548",
     "status": "completed"
    },
    "tags": []
   },
   "outputs": [
    {
     "name": "stdout",
     "output_type": "stream",
     "text": [
      "14.0\n"
     ]
    }
   ],
   "source": [
    "# Usando diferentes variáveis\n",
    "\n",
    "a = 10\n",
    "b = 13\n",
    "c = 14\n",
    "d = 15\n",
    "e = 15\n",
    "f = 17\n",
    "\n",
    "media = (a+b+c+d+e+f)/6\n",
    "print(media)"
   ]
  },
  {
   "cell_type": "code",
   "execution_count": 10,
   "id": "182fd1b7",
   "metadata": {
    "execution": {
     "iopub.execute_input": "2022-06-22T21:08:31.447516Z",
     "iopub.status.busy": "2022-06-22T21:08:31.447137Z",
     "iopub.status.idle": "2022-06-22T21:08:31.452719Z",
     "shell.execute_reply": "2022-06-22T21:08:31.451977Z"
    },
    "id": "PzSgNEkuACXt",
    "outputId": "4f222d9d-c483-4a6f-f000-97d3e7d0a85d",
    "papermill": {
     "duration": 0.020854,
     "end_time": "2022-06-22T21:08:31.454771",
     "exception": false,
     "start_time": "2022-06-22T21:08:31.433917",
     "status": "completed"
    },
    "tags": []
   },
   "outputs": [
    {
     "name": "stdout",
     "output_type": "stream",
     "text": [
      "14\n",
      "14.0\n"
     ]
    }
   ],
   "source": [
    "# Usando listas\n",
    "\n",
    "conjunto = [13,15,17,15,10,14]\n",
    "media_st = st.mean(conjunto)\n",
    "print(media_st)\n",
    "\n",
    "conjunto = [13,15,17,15,10,14]\n",
    "media_np = np.mean(conjunto)\n",
    "print(media_np)"
   ]
  },
  {
   "cell_type": "code",
   "execution_count": 11,
   "id": "112932fa",
   "metadata": {
    "execution": {
     "iopub.execute_input": "2022-06-22T21:08:31.481339Z",
     "iopub.status.busy": "2022-06-22T21:08:31.480443Z",
     "iopub.status.idle": "2022-06-22T21:08:31.487750Z",
     "shell.execute_reply": "2022-06-22T21:08:31.486822Z"
    },
    "id": "ko0tjTQKYXBK",
    "outputId": "237212b1-1e82-4aea-90a9-635938a1e73e",
    "papermill": {
     "duration": 0.022627,
     "end_time": "2022-06-22T21:08:31.489563",
     "exception": false,
     "start_time": "2022-06-22T21:08:31.466936",
     "status": "completed"
    },
    "tags": []
   },
   "outputs": [
    {
     "data": {
      "text/plain": [
       "95.248"
      ]
     },
     "execution_count": 11,
     "metadata": {},
     "output_type": "execute_result"
    }
   ],
   "source": [
    "# Usando o nosso Dataframe (função do python)\n",
    "af['PESO'].agg('mean')"
   ]
  },
  {
   "cell_type": "code",
   "execution_count": 12,
   "id": "ff399f14",
   "metadata": {
    "execution": {
     "iopub.execute_input": "2022-06-22T21:08:31.515955Z",
     "iopub.status.busy": "2022-06-22T21:08:31.515203Z",
     "iopub.status.idle": "2022-06-22T21:08:31.523635Z",
     "shell.execute_reply": "2022-06-22T21:08:31.522865Z"
    },
    "id": "VFq_Cvl_Rm6D",
    "outputId": "aef36198-a0da-46a8-f64a-015526773114",
    "papermill": {
     "duration": 0.023752,
     "end_time": "2022-06-22T21:08:31.525595",
     "exception": false,
     "start_time": "2022-06-22T21:08:31.501843",
     "status": "completed"
    },
    "tags": []
   },
   "outputs": [
    {
     "data": {
      "text/plain": [
       "95.248"
      ]
     },
     "execution_count": 12,
     "metadata": {},
     "output_type": "execute_result"
    }
   ],
   "source": [
    "# Usando o nosso Dataframe (função do numpy)\n",
    "np.mean(af['PESO'])"
   ]
  },
  {
   "cell_type": "code",
   "execution_count": 13,
   "id": "d03b219b",
   "metadata": {
    "execution": {
     "iopub.execute_input": "2022-06-22T21:08:31.552593Z",
     "iopub.status.busy": "2022-06-22T21:08:31.551825Z",
     "iopub.status.idle": "2022-06-22T21:08:31.558711Z",
     "shell.execute_reply": "2022-06-22T21:08:31.557846Z"
    },
    "id": "uzTq13tSkKXZ",
    "outputId": "fa928849-3ff2-4e36-e702-493daedd7a57",
    "papermill": {
     "duration": 0.022615,
     "end_time": "2022-06-22T21:08:31.560539",
     "exception": false,
     "start_time": "2022-06-22T21:08:31.537924",
     "status": "completed"
    },
    "tags": []
   },
   "outputs": [
    {
     "data": {
      "text/plain": [
       "95.248"
      ]
     },
     "execution_count": 13,
     "metadata": {},
     "output_type": "execute_result"
    }
   ],
   "source": [
    "# Usando o nosso Dataframe (função do statistics)\n",
    "st.mean(af['PESO'])"
   ]
  },
  {
   "cell_type": "markdown",
   "id": "aff8cd17",
   "metadata": {
    "id": "Nlk-KuNLf5Lg",
    "papermill": {
     "duration": 0.012243,
     "end_time": "2022-06-22T21:08:31.585231",
     "exception": false,
     "start_time": "2022-06-22T21:08:31.572988",
     "status": "completed"
    },
    "tags": []
   },
   "source": [
    "#### **Mediana**\n",
    "\n",
    "A mediana é aquele número que se encontra no centro do conjunto de dados **ordenados**. Caso o nosso conjunto tenha uma quantidade par de dados, teremos dois elementos no centro, logo a mediana será a média desses dois números."
   ]
  },
  {
   "cell_type": "code",
   "execution_count": 14,
   "id": "c245e90e",
   "metadata": {
    "execution": {
     "iopub.execute_input": "2022-06-22T21:08:31.612273Z",
     "iopub.status.busy": "2022-06-22T21:08:31.611593Z",
     "iopub.status.idle": "2022-06-22T21:08:31.616139Z",
     "shell.execute_reply": "2022-06-22T21:08:31.615198Z"
    },
    "id": "8U80sxhkf69F",
    "papermill": {
     "duration": 0.020452,
     "end_time": "2022-06-22T21:08:31.618260",
     "exception": false,
     "start_time": "2022-06-22T21:08:31.597808",
     "status": "completed"
    },
    "tags": []
   },
   "outputs": [],
   "source": [
    "# Usando diferentes variáveis\n",
    "a = 10\n",
    "b = 13\n",
    "c = 13\n",
    "d = 15\n",
    "e = 15\n",
    "f = 17\n",
    "\n",
    "''' Qual é a mediana neste caso? '''\n",
    "mediana = '?'"
   ]
  },
  {
   "cell_type": "code",
   "execution_count": 15,
   "id": "8739c7e3",
   "metadata": {
    "execution": {
     "iopub.execute_input": "2022-06-22T21:08:31.645102Z",
     "iopub.status.busy": "2022-06-22T21:08:31.644716Z",
     "iopub.status.idle": "2022-06-22T21:08:31.652025Z",
     "shell.execute_reply": "2022-06-22T21:08:31.650668Z"
    },
    "id": "IPbHDF0n-UT3",
    "outputId": "c3e2f18b-7e4a-416a-b12c-9fa2af827d65",
    "papermill": {
     "duration": 0.02396,
     "end_time": "2022-06-22T21:08:31.654870",
     "exception": false,
     "start_time": "2022-06-22T21:08:31.630910",
     "status": "completed"
    },
    "tags": []
   },
   "outputs": [
    {
     "name": "stdout",
     "output_type": "stream",
     "text": [
      "14.5\n",
      "14.5\n"
     ]
    }
   ],
   "source": [
    "# Usando listas\n",
    "\n",
    "conjunto = [13,15,17,15,10,14]\n",
    "median_st = st.median(conjunto)\n",
    "print(median_st)\n",
    "\n",
    "conjunto = [13,15,17,15,10,14]\n",
    "median_np = np.median(conjunto)\n",
    "print(median_np)"
   ]
  },
  {
   "cell_type": "code",
   "execution_count": 16,
   "id": "303aa7d0",
   "metadata": {
    "execution": {
     "iopub.execute_input": "2022-06-22T21:08:31.681929Z",
     "iopub.status.busy": "2022-06-22T21:08:31.681536Z",
     "iopub.status.idle": "2022-06-22T21:08:31.689145Z",
     "shell.execute_reply": "2022-06-22T21:08:31.688162Z"
    },
    "id": "roWmTkGUaCyl",
    "outputId": "639c3c6b-eecd-492e-9c2a-daf6a1ecfd94",
    "papermill": {
     "duration": 0.023732,
     "end_time": "2022-06-22T21:08:31.691312",
     "exception": false,
     "start_time": "2022-06-22T21:08:31.667580",
     "status": "completed"
    },
    "tags": []
   },
   "outputs": [
    {
     "data": {
      "text/plain": [
       "96.0"
      ]
     },
     "execution_count": 16,
     "metadata": {},
     "output_type": "execute_result"
    }
   ],
   "source": [
    "# Usando o nosso Dataframe (função do python)\n",
    "af['PESO'].agg('median')"
   ]
  },
  {
   "cell_type": "code",
   "execution_count": 17,
   "id": "1af35c0b",
   "metadata": {
    "execution": {
     "iopub.execute_input": "2022-06-22T21:08:31.718730Z",
     "iopub.status.busy": "2022-06-22T21:08:31.718275Z",
     "iopub.status.idle": "2022-06-22T21:08:31.725782Z",
     "shell.execute_reply": "2022-06-22T21:08:31.724646Z"
    },
    "id": "0fJT2robndiZ",
    "outputId": "651e6807-a107-4e56-b9ae-7f01fd791684",
    "papermill": {
     "duration": 0.023768,
     "end_time": "2022-06-22T21:08:31.727800",
     "exception": false,
     "start_time": "2022-06-22T21:08:31.704032",
     "status": "completed"
    },
    "tags": []
   },
   "outputs": [
    {
     "data": {
      "text/plain": [
       "96.0"
      ]
     },
     "execution_count": 17,
     "metadata": {},
     "output_type": "execute_result"
    }
   ],
   "source": [
    "# Usando o nosso Dataframe (função do numpy)\n",
    "np.median(af['PESO'])"
   ]
  },
  {
   "cell_type": "code",
   "execution_count": 18,
   "id": "a9d60b18",
   "metadata": {
    "execution": {
     "iopub.execute_input": "2022-06-22T21:08:31.754897Z",
     "iopub.status.busy": "2022-06-22T21:08:31.754291Z",
     "iopub.status.idle": "2022-06-22T21:08:31.760201Z",
     "shell.execute_reply": "2022-06-22T21:08:31.759427Z"
    },
    "id": "ctoIo0e1dsTI",
    "outputId": "0641861e-e9c0-4584-af9f-33bebb42e42b",
    "papermill": {
     "duration": 0.021221,
     "end_time": "2022-06-22T21:08:31.761912",
     "exception": false,
     "start_time": "2022-06-22T21:08:31.740691",
     "status": "completed"
    },
    "tags": []
   },
   "outputs": [
    {
     "data": {
      "text/plain": [
       "96.0"
      ]
     },
     "execution_count": 18,
     "metadata": {},
     "output_type": "execute_result"
    }
   ],
   "source": [
    "# Usando o nosso Dataframe (funções do statistics)\n",
    "st.median(af['PESO'])"
   ]
  },
  {
   "cell_type": "markdown",
   "id": "6ccdc2ca",
   "metadata": {
    "id": "wdfQVKsXfzvs",
    "papermill": {
     "duration": 0.0125,
     "end_time": "2022-06-22T21:08:31.787296",
     "exception": false,
     "start_time": "2022-06-22T21:08:31.774796",
     "status": "completed"
    },
    "tags": []
   },
   "source": [
    "#### **Moda**\n",
    "\n",
    "A moda é aquele número que mais se repete no conjunto de dados. \n",
    "Vale lembrar que podemos ter mais de uma moda no caso de que mais de um número se repita a maior quantidade de vezes."
   ]
  },
  {
   "cell_type": "code",
   "execution_count": 19,
   "id": "1fa75eb5",
   "metadata": {
    "execution": {
     "iopub.execute_input": "2022-06-22T21:08:31.814617Z",
     "iopub.status.busy": "2022-06-22T21:08:31.813961Z",
     "iopub.status.idle": "2022-06-22T21:08:31.819627Z",
     "shell.execute_reply": "2022-06-22T21:08:31.818235Z"
    },
    "id": "ousfGLA4f43m",
    "outputId": "4f6b8c12-4c94-4bc7-d62d-b0a1d3c8ca94",
    "papermill": {
     "duration": 0.021749,
     "end_time": "2022-06-22T21:08:31.821750",
     "exception": false,
     "start_time": "2022-06-22T21:08:31.800001",
     "status": "completed"
    },
    "tags": []
   },
   "outputs": [
    {
     "name": "stdout",
     "output_type": "stream",
     "text": [
      "?\n"
     ]
    }
   ],
   "source": [
    "# Usando diferentes variáveis\n",
    "\n",
    "a = 10\n",
    "b = 13\n",
    "c = 14\n",
    "d = 15\n",
    "e = 15\n",
    "f = 17\n",
    "\n",
    "''' Qual é a moda neste caso? '''\n",
    "moda = '?'\n",
    "print(moda)"
   ]
  },
  {
   "cell_type": "code",
   "execution_count": 20,
   "id": "d4623adb",
   "metadata": {
    "execution": {
     "iopub.execute_input": "2022-06-22T21:08:31.849492Z",
     "iopub.status.busy": "2022-06-22T21:08:31.848800Z",
     "iopub.status.idle": "2022-06-22T21:08:31.854798Z",
     "shell.execute_reply": "2022-06-22T21:08:31.854051Z"
    },
    "id": "8rTuTjaWBJB7",
    "outputId": "afc9ae28-4197-4702-ba4e-a7f0a9baf855",
    "papermill": {
     "duration": 0.021959,
     "end_time": "2022-06-22T21:08:31.856553",
     "exception": false,
     "start_time": "2022-06-22T21:08:31.834594",
     "status": "completed"
    },
    "tags": []
   },
   "outputs": [
    {
     "name": "stdout",
     "output_type": "stream",
     "text": [
      "15\n"
     ]
    }
   ],
   "source": [
    "# Usando listas\n",
    "\n",
    "conjunto = [13,15,17,15,10,14]\n",
    "moda_st = st.mode(conjunto)\n",
    "print(moda_st)"
   ]
  },
  {
   "cell_type": "code",
   "execution_count": 21,
   "id": "c573add1",
   "metadata": {
    "execution": {
     "iopub.execute_input": "2022-06-22T21:08:31.884541Z",
     "iopub.status.busy": "2022-06-22T21:08:31.883899Z",
     "iopub.status.idle": "2022-06-22T21:08:31.894549Z",
     "shell.execute_reply": "2022-06-22T21:08:31.893679Z"
    },
    "id": "6cbEfInkYjfG",
    "outputId": "d39094bf-4c05-46c8-ec6c-7def890e95d9",
    "papermill": {
     "duration": 0.026772,
     "end_time": "2022-06-22T21:08:31.896524",
     "exception": false,
     "start_time": "2022-06-22T21:08:31.869752",
     "status": "completed"
    },
    "tags": []
   },
   "outputs": [
    {
     "data": {
      "text/plain": [
       "0    90\n",
       "dtype: int64"
      ]
     },
     "execution_count": 21,
     "metadata": {},
     "output_type": "execute_result"
    }
   ],
   "source": [
    "# Usando o nosso Dataframe (função do python)\n",
    "af['PESO'].agg('mode')"
   ]
  },
  {
   "cell_type": "code",
   "execution_count": 22,
   "id": "b5c36a7d",
   "metadata": {
    "execution": {
     "iopub.execute_input": "2022-06-22T21:08:31.924758Z",
     "iopub.status.busy": "2022-06-22T21:08:31.924169Z",
     "iopub.status.idle": "2022-06-22T21:08:31.929486Z",
     "shell.execute_reply": "2022-06-22T21:08:31.928749Z"
    },
    "id": "1xUKCJ-oZjJR",
    "outputId": "b2e08646-14f4-45ac-e7da-e1377ab0e308",
    "papermill": {
     "duration": 0.022039,
     "end_time": "2022-06-22T21:08:31.931798",
     "exception": false,
     "start_time": "2022-06-22T21:08:31.909759",
     "status": "completed"
    },
    "tags": []
   },
   "outputs": [
    {
     "data": {
      "text/plain": [
       "90"
      ]
     },
     "execution_count": 22,
     "metadata": {},
     "output_type": "execute_result"
    }
   ],
   "source": [
    "# Usando o nosso Dataframe (função do statistics)\n",
    "st.mode(af['PESO'])"
   ]
  },
  {
   "cell_type": "markdown",
   "id": "63212d65",
   "metadata": {
    "id": "wzAGSvHugGyy",
    "papermill": {
     "duration": 0.013639,
     "end_time": "2022-06-22T21:08:31.964485",
     "exception": false,
     "start_time": "2022-06-22T21:08:31.950846",
     "status": "completed"
    },
    "tags": []
   },
   "source": [
    "### **VARIÂNCIA**\n",
    "\n",
    "A variância é essencial para que possamos chegar ao desvio padrão. Ela também nos diz muito sobre o quão distribuidos os dados de um conjunto se encontram em relação à sua média.\n",
    "\n",
    "Para encontrar a variância precisamos: \n",
    "- calcular o desvio de cada valor em relação à média (a diferença entre cada valor do conjunto e a média do conjunto);\n",
    "- elevar cada desvio ao quadrado e somar todos eles;\n",
    "- dividir a soma pela quantidade de elementos no conjunto.\n",
    "\n",
    "Quanto maior a variância, mais distribuidos os dados estão em relação à média do conjunto."
   ]
  },
  {
   "cell_type": "code",
   "execution_count": 23,
   "id": "3fcd03c9",
   "metadata": {
    "execution": {
     "iopub.execute_input": "2022-06-22T21:08:31.992825Z",
     "iopub.status.busy": "2022-06-22T21:08:31.992423Z",
     "iopub.status.idle": "2022-06-22T21:08:31.999552Z",
     "shell.execute_reply": "2022-06-22T21:08:31.998770Z"
    },
    "id": "Wd1BvZt5gJ5Z",
    "outputId": "8398eac6-4d76-4f02-8475-a3db04c9adce",
    "papermill": {
     "duration": 0.024025,
     "end_time": "2022-06-22T21:08:32.001836",
     "exception": false,
     "start_time": "2022-06-22T21:08:31.977811",
     "status": "completed"
    },
    "tags": []
   },
   "outputs": [
    {
     "name": "stdout",
     "output_type": "stream",
     "text": [
      "14.0\n",
      "1.0 1.0 9.0 1.0 16.0 0.0\n",
      "4.666666666666667\n"
     ]
    }
   ],
   "source": [
    "'''Se temos então o conjunto de dados a seguir, calcule a sua variância'''\n",
    "\n",
    "conjunto = [13,15,17,15,10,14]\n",
    "\n",
    "# Passo 1: Calcular a média\n",
    "media_conj = np.mean(conjunto)\n",
    "print(media_conj)\n",
    "\n",
    "# Passo 2: Calcular o desvío de cada elemento (a diferença entre cada valor e média) e elevamos ao quadrado\n",
    "valor_1 = (13-media_conj)**2\n",
    "valor_2 = (15-media_conj)**2\n",
    "valor_3 = (17-media_conj)**2\n",
    "valor_4 = (15-media_conj)**2\n",
    "valor_5 = (10-media_conj)**2\n",
    "valor_6 = (14-media_conj)**2\n",
    "\n",
    "print(valor_1, valor_2, valor_3, valor_4, valor_5, valor_6)\n",
    "\n",
    "# Passo 3: Tiramos a média dos valores obtidos\n",
    "variancia = np.mean([valor_1, valor_2, valor_3, valor_4, valor_5, valor_6])\n",
    "\n",
    "print(variancia)"
   ]
  },
  {
   "cell_type": "code",
   "execution_count": 24,
   "id": "6c180300",
   "metadata": {
    "execution": {
     "iopub.execute_input": "2022-06-22T21:08:32.030845Z",
     "iopub.status.busy": "2022-06-22T21:08:32.030423Z",
     "iopub.status.idle": "2022-06-22T21:08:32.036095Z",
     "shell.execute_reply": "2022-06-22T21:08:32.035337Z"
    },
    "id": "9gSgoj4HsaM4",
    "outputId": "8cc9cbcc-93dc-43d6-91e4-e96cc426daf8",
    "papermill": {
     "duration": 0.02249,
     "end_time": "2022-06-22T21:08:32.037837",
     "exception": false,
     "start_time": "2022-06-22T21:08:32.015347",
     "status": "completed"
    },
    "tags": []
   },
   "outputs": [
    {
     "data": {
      "text/plain": [
       "4.666666666666667"
      ]
     },
     "execution_count": 24,
     "metadata": {},
     "output_type": "execute_result"
    }
   ],
   "source": [
    "# Usando o numpy na lista\n",
    "np.var(conjunto)"
   ]
  },
  {
   "cell_type": "code",
   "execution_count": 25,
   "id": "a99ab4eb",
   "metadata": {
    "execution": {
     "iopub.execute_input": "2022-06-22T21:08:32.066723Z",
     "iopub.status.busy": "2022-06-22T21:08:32.066045Z",
     "iopub.status.idle": "2022-06-22T21:08:32.071747Z",
     "shell.execute_reply": "2022-06-22T21:08:32.070997Z"
    },
    "id": "0EcWLZoibbHC",
    "outputId": "c63732dd-f691-4997-afee-7e1179e7db57",
    "papermill": {
     "duration": 0.022198,
     "end_time": "2022-06-22T21:08:32.073512",
     "exception": false,
     "start_time": "2022-06-22T21:08:32.051314",
     "status": "completed"
    },
    "tags": []
   },
   "outputs": [
    {
     "data": {
      "text/plain": [
       "397.85849600000006"
      ]
     },
     "execution_count": 25,
     "metadata": {},
     "output_type": "execute_result"
    }
   ],
   "source": [
    "# Usando o nosso Dataframe (função do numpy)\n",
    "np.var(af['PESO'])"
   ]
  },
  {
   "cell_type": "markdown",
   "id": "99a57cff",
   "metadata": {
    "id": "7RaLYsGZb4RU",
    "papermill": {
     "duration": 0.013245,
     "end_time": "2022-06-22T21:08:32.100392",
     "exception": false,
     "start_time": "2022-06-22T21:08:32.087147",
     "status": "completed"
    },
    "tags": []
   },
   "source": [
    "### **DESVIO PADRÃO**\n",
    "\n",
    "O desvio padrão é uma medida que nos ajuda a entender o quão distribuido está o conjunto de dados em relação à sua média. Esta medida, diferente da variância, se encontra na mesma unidade do conjunto dos dados.\n",
    "\n",
    "Podemos calcular o desvio padrão a partir da variância, ou seja, o desvio padrão é a raiz quadrada da variância."
   ]
  },
  {
   "cell_type": "code",
   "execution_count": 26,
   "id": "59d981ad",
   "metadata": {
    "execution": {
     "iopub.execute_input": "2022-06-22T21:08:32.129099Z",
     "iopub.status.busy": "2022-06-22T21:08:32.128717Z",
     "iopub.status.idle": "2022-06-22T21:08:32.136231Z",
     "shell.execute_reply": "2022-06-22T21:08:32.135501Z"
    },
    "id": "ewqTMuHTgGXA",
    "outputId": "1bf7e355-975f-484a-f0af-33685920b200",
    "papermill": {
     "duration": 0.024805,
     "end_time": "2022-06-22T21:08:32.138721",
     "exception": false,
     "start_time": "2022-06-22T21:08:32.113916",
     "status": "completed"
    },
    "tags": []
   },
   "outputs": [
    {
     "name": "stdout",
     "output_type": "stream",
     "text": [
      "14.0\n",
      "1.0 1.0 9.0 1.0 16.0 0.0\n",
      "4.666666666666667\n",
      "2.160246899469287\n"
     ]
    }
   ],
   "source": [
    "'''Se temos então o conjunto de dados a seguir, calcule o seu desvio padrão'''\n",
    "\n",
    "conjunto = [13,15,17,15,10,14]\n",
    "\n",
    "# Passo 1: Calcular a média\n",
    "media_conj = np.mean(conjunto)\n",
    "print(media_conj)\n",
    "\n",
    "# Passo 2: Calcular o desvío de cada elemento (a diferença entre cada valor e média) e elevamos ao quadrado\n",
    "valor_1 = (13-media_conj)**2\n",
    "valor_2 = (15-media_conj)**2\n",
    "valor_3 = (17-media_conj)**2\n",
    "valor_4 = (15-media_conj)**2\n",
    "valor_5 = (10-media_conj)**2\n",
    "valor_6 = (14-media_conj)**2\n",
    "\n",
    "print(valor_1, valor_2, valor_3, valor_4, valor_5, valor_6)\n",
    "\n",
    "# Passo 3: Tiramos a média dos valores obtidos\n",
    "variancia = np.mean([valor_1, valor_2, valor_3, valor_4, valor_5, valor_6])\n",
    "print(variancia)\n",
    "\n",
    "# Passo 3: Tiramos a média dos valores obtidos\n",
    "desvp = variancia**(1/2)\n",
    "print(desvp)"
   ]
  },
  {
   "cell_type": "code",
   "execution_count": 27,
   "id": "7f0a3e24",
   "metadata": {
    "execution": {
     "iopub.execute_input": "2022-06-22T21:08:32.168386Z",
     "iopub.status.busy": "2022-06-22T21:08:32.167762Z",
     "iopub.status.idle": "2022-06-22T21:08:32.173054Z",
     "shell.execute_reply": "2022-06-22T21:08:32.172257Z"
    },
    "id": "P0ZJWQBmaq_H",
    "outputId": "3dd32ed1-c81c-4c51-e02e-720606e84ef9",
    "papermill": {
     "duration": 0.022395,
     "end_time": "2022-06-22T21:08:32.174848",
     "exception": false,
     "start_time": "2022-06-22T21:08:32.152453",
     "status": "completed"
    },
    "tags": []
   },
   "outputs": [
    {
     "data": {
      "text/plain": [
       "2.160246899469287"
      ]
     },
     "execution_count": 27,
     "metadata": {},
     "output_type": "execute_result"
    }
   ],
   "source": [
    "# Usando o numpy na lista\n",
    "np.std(conjunto)"
   ]
  },
  {
   "cell_type": "code",
   "execution_count": 28,
   "id": "60fc2f4b",
   "metadata": {
    "execution": {
     "iopub.execute_input": "2022-06-22T21:08:32.204491Z",
     "iopub.status.busy": "2022-06-22T21:08:32.203842Z",
     "iopub.status.idle": "2022-06-22T21:08:32.212505Z",
     "shell.execute_reply": "2022-06-22T21:08:32.211619Z"
    },
    "id": "t6RqsEgebKO3",
    "outputId": "c19a92b2-5e1b-4bdd-ce7a-64e6d903a6c5",
    "papermill": {
     "duration": 0.025807,
     "end_time": "2022-06-22T21:08:32.214443",
     "exception": false,
     "start_time": "2022-06-22T21:08:32.188636",
     "status": "completed"
    },
    "tags": []
   },
   "outputs": [
    {
     "data": {
      "text/plain": [
       "19.966366910763472"
      ]
     },
     "execution_count": 28,
     "metadata": {},
     "output_type": "execute_result"
    }
   ],
   "source": [
    "# Usando o nosso Dataframe\n",
    "af.agg('std')['PESO']"
   ]
  },
  {
   "cell_type": "markdown",
   "id": "d74cb93b",
   "metadata": {
    "id": "rf6F8fQ4zyWr",
    "papermill": {
     "duration": 0.013779,
     "end_time": "2022-06-22T21:08:32.242315",
     "exception": false,
     "start_time": "2022-06-22T21:08:32.228536",
     "status": "completed"
    },
    "tags": []
   },
   "source": [
    "### **E POR QUE OLHAR PARA O DESVIO PADRÃO?**"
   ]
  },
  {
   "cell_type": "code",
   "execution_count": 29,
   "id": "7857ad8d",
   "metadata": {
    "execution": {
     "iopub.execute_input": "2022-06-22T21:08:32.272374Z",
     "iopub.status.busy": "2022-06-22T21:08:32.271825Z",
     "iopub.status.idle": "2022-06-22T21:08:32.278645Z",
     "shell.execute_reply": "2022-06-22T21:08:32.277195Z"
    },
    "id": "PMRowBORz-GB",
    "outputId": "f0bc3371-42f3-4778-85ff-50b9416e9cbe",
    "papermill": {
     "duration": 0.024464,
     "end_time": "2022-06-22T21:08:32.281005",
     "exception": false,
     "start_time": "2022-06-22T21:08:32.256541",
     "status": "completed"
    },
    "tags": []
   },
   "outputs": [
    {
     "name": "stdout",
     "output_type": "stream",
     "text": [
      "DIA 1\n",
      "media temperatura dia 1: 21.0\n",
      "DesvP temperatura dia 1: 5.408326913195984\n",
      "-------------------------------------\n",
      "media temperatura dia 2: 21.0\n",
      "DesvP temperatura dia 2: 12.668859459319927\n"
     ]
    }
   ],
   "source": [
    "# Consideremos os seguintes conjuntos:\n",
    "\n",
    "temp_dia1 = [16,14,18,25,30,26,23,16]\n",
    "temp_dia2 = [-1,10,15,20,22,27,32,43]\n",
    "\n",
    "print('DIA 1')\n",
    "print('media temperatura dia 1:',np.mean(temp_dia1))\n",
    "print('DesvP temperatura dia 1:',np.std(temp_dia1))\n",
    "print('-------------------------------------')\n",
    "print('media temperatura dia 2:',np.mean(temp_dia2))\n",
    "print('DesvP temperatura dia 2:',np.std(temp_dia2))"
   ]
  },
  {
   "cell_type": "markdown",
   "id": "6fea4771",
   "metadata": {
    "id": "447X49TBRkN2",
    "papermill": {
     "duration": 0.013668,
     "end_time": "2022-06-22T21:08:32.309458",
     "exception": false,
     "start_time": "2022-06-22T21:08:32.295790",
     "status": "completed"
    },
    "tags": []
   },
   "source": [
    "### **RESUMINDO OS DADOS DE UM DATAFRAME**"
   ]
  },
  {
   "cell_type": "code",
   "execution_count": 30,
   "id": "8376e679",
   "metadata": {
    "execution": {
     "iopub.execute_input": "2022-06-22T21:08:32.339139Z",
     "iopub.status.busy": "2022-06-22T21:08:32.338741Z",
     "iopub.status.idle": "2022-06-22T21:08:33.760986Z",
     "shell.execute_reply": "2022-06-22T21:08:33.759803Z"
    },
    "id": "ZDiWYGwKTs4h",
    "outputId": "f2da80c2-669b-40c9-f5ed-a781c11ae35b",
    "papermill": {
     "duration": 1.439852,
     "end_time": "2022-06-22T21:08:33.763299",
     "exception": false,
     "start_time": "2022-06-22T21:08:32.323447",
     "status": "completed"
    },
    "tags": []
   },
   "outputs": [
    {
     "data": {
      "text/html": [
       "<div>\n",
       "<style scoped>\n",
       "    .dataframe tbody tr th:only-of-type {\n",
       "        vertical-align: middle;\n",
       "    }\n",
       "\n",
       "    .dataframe tbody tr th {\n",
       "        vertical-align: top;\n",
       "    }\n",
       "\n",
       "    .dataframe thead th {\n",
       "        text-align: right;\n",
       "    }\n",
       "</style>\n",
       "<table border=\"1\" class=\"dataframe\">\n",
       "  <thead>\n",
       "    <tr style=\"text-align: right;\">\n",
       "      <th></th>\n",
       "      <th>UF_CODE</th>\n",
       "      <th>UF</th>\n",
       "      <th>UF_alt</th>\n",
       "      <th>Sexo</th>\n",
       "      <th>Idade</th>\n",
       "      <th>Anos de Estudo</th>\n",
       "      <th>Renda</th>\n",
       "      <th>Altura</th>\n",
       "    </tr>\n",
       "  </thead>\n",
       "  <tbody>\n",
       "    <tr>\n",
       "      <th>0</th>\n",
       "      <td>11</td>\n",
       "      <td>Rondônia</td>\n",
       "      <td>Rondonia</td>\n",
       "      <td>Masculino</td>\n",
       "      <td>23</td>\n",
       "      <td>12</td>\n",
       "      <td>800</td>\n",
       "      <td>1.603808</td>\n",
       "    </tr>\n",
       "    <tr>\n",
       "      <th>1</th>\n",
       "      <td>11</td>\n",
       "      <td>Rondônia</td>\n",
       "      <td>Rondonia</td>\n",
       "      <td>Feminino</td>\n",
       "      <td>23</td>\n",
       "      <td>12</td>\n",
       "      <td>1150</td>\n",
       "      <td>1.739790</td>\n",
       "    </tr>\n",
       "    <tr>\n",
       "      <th>2</th>\n",
       "      <td>11</td>\n",
       "      <td>Rondônia</td>\n",
       "      <td>Rondonia</td>\n",
       "      <td>Feminino</td>\n",
       "      <td>35</td>\n",
       "      <td>15</td>\n",
       "      <td>880</td>\n",
       "      <td>1.760444</td>\n",
       "    </tr>\n",
       "    <tr>\n",
       "      <th>3</th>\n",
       "      <td>11</td>\n",
       "      <td>Rondônia</td>\n",
       "      <td>Rondonia</td>\n",
       "      <td>Masculino</td>\n",
       "      <td>46</td>\n",
       "      <td>6</td>\n",
       "      <td>3500</td>\n",
       "      <td>1.783158</td>\n",
       "    </tr>\n",
       "    <tr>\n",
       "      <th>4</th>\n",
       "      <td>11</td>\n",
       "      <td>Rondônia</td>\n",
       "      <td>Rondonia</td>\n",
       "      <td>Feminino</td>\n",
       "      <td>47</td>\n",
       "      <td>9</td>\n",
       "      <td>150</td>\n",
       "      <td>1.690631</td>\n",
       "    </tr>\n",
       "  </tbody>\n",
       "</table>\n",
       "</div>"
      ],
      "text/plain": [
       "   UF_CODE        UF    UF_alt       Sexo  Idade  Anos de Estudo  Renda  \\\n",
       "0       11  Rondônia  Rondonia  Masculino     23              12    800   \n",
       "1       11  Rondônia  Rondonia   Feminino     23              12   1150   \n",
       "2       11  Rondônia  Rondonia   Feminino     35              15    880   \n",
       "3       11  Rondônia  Rondonia  Masculino     46               6   3500   \n",
       "4       11  Rondônia  Rondonia   Feminino     47               9    150   \n",
       "\n",
       "     Altura  \n",
       "0  1.603808  \n",
       "1  1.739790  \n",
       "2  1.760444  \n",
       "3  1.783158  \n",
       "4  1.690631  "
      ]
     },
     "execution_count": 30,
     "metadata": {},
     "output_type": "execute_result"
    }
   ],
   "source": [
    "# Vamos criar um dataframe chamado 'pessoas' com o arquivo dados_IBGE_pessoas.csv\n",
    "\n",
    "!wget -q \"https://raw.githubusercontent.com/rafands/ebac-course-content/main/dados_IBGE_pessoas.csv\" -O dados_IBGE_pessoas.csv \n",
    "\n",
    "pessoas = pd.read_csv('./dados_IBGE_pessoas.csv', sep=';')\n",
    "\n",
    "pessoas.head()"
   ]
  },
  {
   "cell_type": "code",
   "execution_count": 31,
   "id": "6555ad69",
   "metadata": {
    "execution": {
     "iopub.execute_input": "2022-06-22T21:08:33.795046Z",
     "iopub.status.busy": "2022-06-22T21:08:33.794629Z",
     "iopub.status.idle": "2022-06-22T21:08:33.801947Z",
     "shell.execute_reply": "2022-06-22T21:08:33.801025Z"
    },
    "id": "oMkU_KKN254Y",
    "outputId": "726e09e3-bdd4-4f26-981e-9df6f3535a86",
    "papermill": {
     "duration": 0.026965,
     "end_time": "2022-06-22T21:08:33.804982",
     "exception": false,
     "start_time": "2022-06-22T21:08:33.778017",
     "status": "completed"
    },
    "tags": []
   },
   "outputs": [
    {
     "name": "stdout",
     "output_type": "stream",
     "text": [
      "--------------------\n",
      "colunas: ['UF_CODE', 'UF', 'UF_alt', 'Sexo', 'Idade', 'Anos de Estudo', 'Renda', 'Altura']\n",
      "--------------------\n",
      "shape: (76840, 8)\n",
      "--------------------\n",
      "quantidade de elementos: 614720\n",
      "--------------------\n",
      "tipos dos dados:\n",
      "UF_CODE             int64\n",
      "UF                 object\n",
      "UF_alt             object\n",
      "Sexo               object\n",
      "Idade               int64\n",
      "Anos de Estudo      int64\n",
      "Renda               int64\n",
      "Altura            float64\n",
      "dtype: object\n"
     ]
    }
   ],
   "source": [
    "# Propriedades do dataframe:\n",
    "print('--------------------')\n",
    "print('colunas:',list(pessoas.columns))\n",
    "print('--------------------')\n",
    "print('shape:',pessoas.shape)\n",
    "print('--------------------')\n",
    "print('quantidade de elementos:',pessoas.size)\n",
    "print('--------------------')\n",
    "print('tipos dos dados:')\n",
    "print(pessoas.dtypes)"
   ]
  },
  {
   "cell_type": "code",
   "execution_count": 32,
   "id": "1ece8e7c",
   "metadata": {
    "execution": {
     "iopub.execute_input": "2022-06-22T21:08:33.837418Z",
     "iopub.status.busy": "2022-06-22T21:08:33.837040Z",
     "iopub.status.idle": "2022-06-22T21:08:34.080177Z",
     "shell.execute_reply": "2022-06-22T21:08:34.078978Z"
    },
    "id": "ehhzz08F5Vux",
    "outputId": "4b783f9f-7a2d-4443-f57c-9fbd78925474",
    "papermill": {
     "duration": 0.261728,
     "end_time": "2022-06-22T21:08:34.082348",
     "exception": false,
     "start_time": "2022-06-22T21:08:33.820620",
     "status": "completed"
    },
    "tags": []
   },
   "outputs": [
    {
     "data": {
      "text/plain": [
       "UF_CODE           object\n",
       "UF                object\n",
       "UF_alt            object\n",
       "Sexo              object\n",
       "Idade             object\n",
       "Anos de Estudo    object\n",
       "Renda             object\n",
       "Altura            object\n",
       "dtype: object"
      ]
     },
     "execution_count": 32,
     "metadata": {},
     "output_type": "execute_result"
    }
   ],
   "source": [
    "# Mudando o tipo de dado de TODAS AS COLUNAS\n",
    "pessoas.astype(str).dtypes"
   ]
  },
  {
   "cell_type": "code",
   "execution_count": 33,
   "id": "768f54ab",
   "metadata": {
    "execution": {
     "iopub.execute_input": "2022-06-22T21:08:34.114072Z",
     "iopub.status.busy": "2022-06-22T21:08:34.113541Z",
     "iopub.status.idle": "2022-06-22T21:08:34.169141Z",
     "shell.execute_reply": "2022-06-22T21:08:34.167912Z"
    },
    "id": "a4Qi6YuF3xjK",
    "outputId": "85e06126-35c0-45c3-8dee-caef34352b80",
    "papermill": {
     "duration": 0.074162,
     "end_time": "2022-06-22T21:08:34.171261",
     "exception": false,
     "start_time": "2022-06-22T21:08:34.097099",
     "status": "completed"
    },
    "tags": []
   },
   "outputs": [
    {
     "data": {
      "text/plain": [
       "UF_CODE            object\n",
       "UF                 object\n",
       "UF_alt             object\n",
       "Sexo               object\n",
       "Idade               int64\n",
       "Anos de Estudo      int64\n",
       "Renda             float64\n",
       "Altura            float64\n",
       "dtype: object"
      ]
     },
     "execution_count": 33,
     "metadata": {},
     "output_type": "execute_result"
    }
   ],
   "source": [
    "# Mudando o tipo de dado de ALGUMAS COLUNAS\n",
    "pessoas.astype({'UF_CODE':str,\n",
    "                'Renda':float}\n",
    "               ).dtypes"
   ]
  },
  {
   "cell_type": "code",
   "execution_count": 34,
   "id": "1bd791c4",
   "metadata": {
    "execution": {
     "iopub.execute_input": "2022-06-22T21:08:34.203403Z",
     "iopub.status.busy": "2022-06-22T21:08:34.202516Z",
     "iopub.status.idle": "2022-06-22T21:08:34.246180Z",
     "shell.execute_reply": "2022-06-22T21:08:34.245105Z"
    },
    "id": "WyzBm9nF-Dxz",
    "outputId": "02f57827-4754-4525-980a-33d1ce76e30a",
    "papermill": {
     "duration": 0.062309,
     "end_time": "2022-06-22T21:08:34.248551",
     "exception": false,
     "start_time": "2022-06-22T21:08:34.186242",
     "status": "completed"
    },
    "tags": []
   },
   "outputs": [
    {
     "data": {
      "text/html": [
       "<div>\n",
       "<style scoped>\n",
       "    .dataframe tbody tr th:only-of-type {\n",
       "        vertical-align: middle;\n",
       "    }\n",
       "\n",
       "    .dataframe tbody tr th {\n",
       "        vertical-align: top;\n",
       "    }\n",
       "\n",
       "    .dataframe thead th {\n",
       "        text-align: right;\n",
       "    }\n",
       "</style>\n",
       "<table border=\"1\" class=\"dataframe\">\n",
       "  <thead>\n",
       "    <tr style=\"text-align: right;\">\n",
       "      <th></th>\n",
       "      <th>UF_CODE</th>\n",
       "      <th>Idade</th>\n",
       "      <th>Anos de Estudo</th>\n",
       "      <th>Renda</th>\n",
       "      <th>Altura</th>\n",
       "    </tr>\n",
       "  </thead>\n",
       "  <tbody>\n",
       "    <tr>\n",
       "      <th>count</th>\n",
       "      <td>76840.000000</td>\n",
       "      <td>76840.000000</td>\n",
       "      <td>76840.000000</td>\n",
       "      <td>76840.000000</td>\n",
       "      <td>76840.000000</td>\n",
       "    </tr>\n",
       "    <tr>\n",
       "      <th>mean</th>\n",
       "      <td>31.912962</td>\n",
       "      <td>44.071421</td>\n",
       "      <td>9.469664</td>\n",
       "      <td>2000.383199</td>\n",
       "      <td>1.699512</td>\n",
       "    </tr>\n",
       "    <tr>\n",
       "      <th>std</th>\n",
       "      <td>11.147830</td>\n",
       "      <td>12.480583</td>\n",
       "      <td>4.539929</td>\n",
       "      <td>3323.387730</td>\n",
       "      <td>0.079717</td>\n",
       "    </tr>\n",
       "    <tr>\n",
       "      <th>min</th>\n",
       "      <td>11.000000</td>\n",
       "      <td>13.000000</td>\n",
       "      <td>1.000000</td>\n",
       "      <td>0.000000</td>\n",
       "      <td>1.339245</td>\n",
       "    </tr>\n",
       "    <tr>\n",
       "      <th>25%</th>\n",
       "      <td>25.000000</td>\n",
       "      <td>34.000000</td>\n",
       "      <td>6.000000</td>\n",
       "      <td>788.000000</td>\n",
       "      <td>1.645785</td>\n",
       "    </tr>\n",
       "    <tr>\n",
       "      <th>50%</th>\n",
       "      <td>31.000000</td>\n",
       "      <td>43.000000</td>\n",
       "      <td>11.000000</td>\n",
       "      <td>1200.000000</td>\n",
       "      <td>1.699325</td>\n",
       "    </tr>\n",
       "    <tr>\n",
       "      <th>75%</th>\n",
       "      <td>41.000000</td>\n",
       "      <td>53.000000</td>\n",
       "      <td>12.000000</td>\n",
       "      <td>2000.000000</td>\n",
       "      <td>1.753062</td>\n",
       "    </tr>\n",
       "    <tr>\n",
       "      <th>max</th>\n",
       "      <td>53.000000</td>\n",
       "      <td>99.000000</td>\n",
       "      <td>17.000000</td>\n",
       "      <td>200000.000000</td>\n",
       "      <td>2.028497</td>\n",
       "    </tr>\n",
       "  </tbody>\n",
       "</table>\n",
       "</div>"
      ],
      "text/plain": [
       "            UF_CODE         Idade  Anos de Estudo          Renda        Altura\n",
       "count  76840.000000  76840.000000    76840.000000   76840.000000  76840.000000\n",
       "mean      31.912962     44.071421        9.469664    2000.383199      1.699512\n",
       "std       11.147830     12.480583        4.539929    3323.387730      0.079717\n",
       "min       11.000000     13.000000        1.000000       0.000000      1.339245\n",
       "25%       25.000000     34.000000        6.000000     788.000000      1.645785\n",
       "50%       31.000000     43.000000       11.000000    1200.000000      1.699325\n",
       "75%       41.000000     53.000000       12.000000    2000.000000      1.753062\n",
       "max       53.000000     99.000000       17.000000  200000.000000      2.028497"
      ]
     },
     "execution_count": 34,
     "metadata": {},
     "output_type": "execute_result"
    }
   ],
   "source": [
    "pessoas.describe()"
   ]
  },
  {
   "cell_type": "markdown",
   "id": "8c818241",
   "metadata": {
    "id": "eVYdtb9A8Sx5",
    "papermill": {
     "duration": 0.015647,
     "end_time": "2022-06-22T21:08:34.279618",
     "exception": false,
     "start_time": "2022-06-22T21:08:34.263971",
     "status": "completed"
    },
    "tags": []
   },
   "source": [
    "#### **AGG** (EDIT)\n",
    "\n",
    "Vamos tentar resumir alguns dados do nosso dataframe 'pessoas'"
   ]
  },
  {
   "cell_type": "code",
   "execution_count": 35,
   "id": "71e6fd82",
   "metadata": {
    "execution": {
     "iopub.execute_input": "2022-06-22T21:08:34.313260Z",
     "iopub.status.busy": "2022-06-22T21:08:34.312895Z",
     "iopub.status.idle": "2022-06-22T21:08:34.320295Z",
     "shell.execute_reply": "2022-06-22T21:08:34.319149Z"
    },
    "id": "Lv-3z8039Vje",
    "outputId": "53352505-d8f3-40d7-fdee-050c064cd09a",
    "papermill": {
     "duration": 0.026809,
     "end_time": "2022-06-22T21:08:34.322428",
     "exception": false,
     "start_time": "2022-06-22T21:08:34.295619",
     "status": "completed"
    },
    "tags": []
   },
   "outputs": [
    {
     "data": {
      "text/plain": [
       "153709445"
      ]
     },
     "execution_count": 35,
     "metadata": {},
     "output_type": "execute_result"
    }
   ],
   "source": [
    "# Qual é a soma da renda desta base?\n",
    "\n",
    "pessoas['Renda'].agg('sum')"
   ]
  },
  {
   "cell_type": "code",
   "execution_count": 36,
   "id": "38da7b88",
   "metadata": {
    "execution": {
     "iopub.execute_input": "2022-06-22T21:08:34.355214Z",
     "iopub.status.busy": "2022-06-22T21:08:34.354806Z",
     "iopub.status.idle": "2022-06-22T21:08:34.365755Z",
     "shell.execute_reply": "2022-06-22T21:08:34.364956Z"
    },
    "id": "tIqVnJi7cKsy",
    "outputId": "8675b008-17e0-432d-c6dd-11bafd066489",
    "papermill": {
     "duration": 0.029781,
     "end_time": "2022-06-22T21:08:34.367799",
     "exception": false,
     "start_time": "2022-06-22T21:08:34.338018",
     "status": "completed"
    },
    "tags": []
   },
   "outputs": [
    {
     "data": {
      "text/plain": [
       "Renda             2000.383199\n",
       "Idade               44.071421\n",
       "Anos de Estudo       9.469664\n",
       "Altura               1.699512\n",
       "dtype: float64"
      ]
     },
     "execution_count": 36,
     "metadata": {},
     "output_type": "execute_result"
    }
   ],
   "source": [
    "# Qual é a média da Renda, Idade, Anos de Estudo e Altura de todas as pessoas deste dataframe?\n",
    "\n",
    "pessoas[['Renda','Idade','Anos de Estudo','Altura']].agg('mean')"
   ]
  },
  {
   "cell_type": "code",
   "execution_count": 37,
   "id": "437b0c70",
   "metadata": {
    "execution": {
     "iopub.execute_input": "2022-06-22T21:08:34.401268Z",
     "iopub.status.busy": "2022-06-22T21:08:34.400859Z",
     "iopub.status.idle": "2022-06-22T21:08:34.435891Z",
     "shell.execute_reply": "2022-06-22T21:08:34.434912Z"
    },
    "id": "YA0GevQA-lUl",
    "outputId": "56e21be8-0b39-4163-e4d0-b120f8573239",
    "papermill": {
     "duration": 0.053969,
     "end_time": "2022-06-22T21:08:34.437857",
     "exception": false,
     "start_time": "2022-06-22T21:08:34.383888",
     "status": "completed"
    },
    "tags": []
   },
   "outputs": [
    {
     "data": {
      "text/html": [
       "<div>\n",
       "<style scoped>\n",
       "    .dataframe tbody tr th:only-of-type {\n",
       "        vertical-align: middle;\n",
       "    }\n",
       "\n",
       "    .dataframe tbody tr th {\n",
       "        vertical-align: top;\n",
       "    }\n",
       "\n",
       "    .dataframe thead th {\n",
       "        text-align: right;\n",
       "    }\n",
       "</style>\n",
       "<table border=\"1\" class=\"dataframe\">\n",
       "  <thead>\n",
       "    <tr style=\"text-align: right;\">\n",
       "      <th></th>\n",
       "      <th>Renda</th>\n",
       "      <th>Idade</th>\n",
       "      <th>Anos de Estudo</th>\n",
       "      <th>Altura</th>\n",
       "    </tr>\n",
       "  </thead>\n",
       "  <tbody>\n",
       "    <tr>\n",
       "      <th>count</th>\n",
       "      <td>76840.000000</td>\n",
       "      <td>76840.000000</td>\n",
       "      <td>76840.000000</td>\n",
       "      <td>76840.000000</td>\n",
       "    </tr>\n",
       "    <tr>\n",
       "      <th>mean</th>\n",
       "      <td>2000.383199</td>\n",
       "      <td>44.071421</td>\n",
       "      <td>9.469664</td>\n",
       "      <td>1.699512</td>\n",
       "    </tr>\n",
       "    <tr>\n",
       "      <th>std</th>\n",
       "      <td>3323.387730</td>\n",
       "      <td>12.480583</td>\n",
       "      <td>4.539929</td>\n",
       "      <td>0.079717</td>\n",
       "    </tr>\n",
       "    <tr>\n",
       "      <th>min</th>\n",
       "      <td>0.000000</td>\n",
       "      <td>13.000000</td>\n",
       "      <td>1.000000</td>\n",
       "      <td>1.339245</td>\n",
       "    </tr>\n",
       "    <tr>\n",
       "      <th>25%</th>\n",
       "      <td>788.000000</td>\n",
       "      <td>34.000000</td>\n",
       "      <td>6.000000</td>\n",
       "      <td>1.645785</td>\n",
       "    </tr>\n",
       "    <tr>\n",
       "      <th>50%</th>\n",
       "      <td>1200.000000</td>\n",
       "      <td>43.000000</td>\n",
       "      <td>11.000000</td>\n",
       "      <td>1.699325</td>\n",
       "    </tr>\n",
       "    <tr>\n",
       "      <th>75%</th>\n",
       "      <td>2000.000000</td>\n",
       "      <td>53.000000</td>\n",
       "      <td>12.000000</td>\n",
       "      <td>1.753062</td>\n",
       "    </tr>\n",
       "    <tr>\n",
       "      <th>max</th>\n",
       "      <td>200000.000000</td>\n",
       "      <td>99.000000</td>\n",
       "      <td>17.000000</td>\n",
       "      <td>2.028497</td>\n",
       "    </tr>\n",
       "  </tbody>\n",
       "</table>\n",
       "</div>"
      ],
      "text/plain": [
       "               Renda         Idade  Anos de Estudo        Altura\n",
       "count   76840.000000  76840.000000    76840.000000  76840.000000\n",
       "mean     2000.383199     44.071421        9.469664      1.699512\n",
       "std      3323.387730     12.480583        4.539929      0.079717\n",
       "min         0.000000     13.000000        1.000000      1.339245\n",
       "25%       788.000000     34.000000        6.000000      1.645785\n",
       "50%      1200.000000     43.000000       11.000000      1.699325\n",
       "75%      2000.000000     53.000000       12.000000      1.753062\n",
       "max    200000.000000     99.000000       17.000000      2.028497"
      ]
     },
     "execution_count": 37,
     "metadata": {},
     "output_type": "execute_result"
    }
   ],
   "source": [
    "# Lista de funções de agregação\n",
    "'''\n",
    "mean: Média da coluna\n",
    "sum: Soma da coluna\n",
    "nunique: Quantidade de valores distinctos da coluna\n",
    "std: Desvio Padrão da coluna\n",
    "var: Variância da coluna\n",
    "min: O menor valor da coluna\n",
    "max: O maior valor da coluna\n",
    "describe: Gera uma lista de estatísticas das colunas\n",
    "'''\n",
    "\n",
    "# Faça você mesmo:\n",
    "\n",
    "pessoas[['Renda','Idade','Anos de Estudo','Altura']].agg('describe')"
   ]
  },
  {
   "cell_type": "markdown",
   "id": "6aa5c485",
   "metadata": {
    "id": "TAHxXMawsNn8",
    "papermill": {
     "duration": 0.015313,
     "end_time": "2022-06-22T21:08:34.469004",
     "exception": false,
     "start_time": "2022-06-22T21:08:34.453691",
     "status": "completed"
    },
    "tags": []
   },
   "source": [
    "### **GROUPBY & AGG**\n",
    "\n",
    "Utilizamos o groupby para agrupar o nosso dataframe baseado em algum valor, neste caso com a intenção de aplicar funções para cada categoria desse valor selectionado, por exemplo:"
   ]
  },
  {
   "cell_type": "code",
   "execution_count": 38,
   "id": "e2037f0b",
   "metadata": {
    "execution": {
     "iopub.execute_input": "2022-06-22T21:08:34.502088Z",
     "iopub.status.busy": "2022-06-22T21:08:34.501741Z",
     "iopub.status.idle": "2022-06-22T21:08:34.513428Z",
     "shell.execute_reply": "2022-06-22T21:08:34.512463Z"
    },
    "id": "8Sb-0JHE2IAd",
    "outputId": "07499178-98dd-4d62-bdef-00d27f10fe53",
    "papermill": {
     "duration": 0.030635,
     "end_time": "2022-06-22T21:08:34.515394",
     "exception": false,
     "start_time": "2022-06-22T21:08:34.484759",
     "status": "completed"
    },
    "tags": []
   },
   "outputs": [
    {
     "data": {
      "text/html": [
       "<div>\n",
       "<style scoped>\n",
       "    .dataframe tbody tr th:only-of-type {\n",
       "        vertical-align: middle;\n",
       "    }\n",
       "\n",
       "    .dataframe tbody tr th {\n",
       "        vertical-align: top;\n",
       "    }\n",
       "\n",
       "    .dataframe thead th {\n",
       "        text-align: right;\n",
       "    }\n",
       "</style>\n",
       "<table border=\"1\" class=\"dataframe\">\n",
       "  <thead>\n",
       "    <tr style=\"text-align: right;\">\n",
       "      <th></th>\n",
       "      <th>UF_CODE</th>\n",
       "      <th>UF</th>\n",
       "      <th>UF_alt</th>\n",
       "      <th>Sexo</th>\n",
       "      <th>Idade</th>\n",
       "      <th>Anos de Estudo</th>\n",
       "      <th>Renda</th>\n",
       "      <th>Altura</th>\n",
       "    </tr>\n",
       "  </thead>\n",
       "  <tbody>\n",
       "    <tr>\n",
       "      <th>0</th>\n",
       "      <td>11</td>\n",
       "      <td>Rondônia</td>\n",
       "      <td>Rondonia</td>\n",
       "      <td>Masculino</td>\n",
       "      <td>23</td>\n",
       "      <td>12</td>\n",
       "      <td>800</td>\n",
       "      <td>1.603808</td>\n",
       "    </tr>\n",
       "    <tr>\n",
       "      <th>1</th>\n",
       "      <td>11</td>\n",
       "      <td>Rondônia</td>\n",
       "      <td>Rondonia</td>\n",
       "      <td>Feminino</td>\n",
       "      <td>23</td>\n",
       "      <td>12</td>\n",
       "      <td>1150</td>\n",
       "      <td>1.739790</td>\n",
       "    </tr>\n",
       "    <tr>\n",
       "      <th>2</th>\n",
       "      <td>11</td>\n",
       "      <td>Rondônia</td>\n",
       "      <td>Rondonia</td>\n",
       "      <td>Feminino</td>\n",
       "      <td>35</td>\n",
       "      <td>15</td>\n",
       "      <td>880</td>\n",
       "      <td>1.760444</td>\n",
       "    </tr>\n",
       "    <tr>\n",
       "      <th>3</th>\n",
       "      <td>11</td>\n",
       "      <td>Rondônia</td>\n",
       "      <td>Rondonia</td>\n",
       "      <td>Masculino</td>\n",
       "      <td>46</td>\n",
       "      <td>6</td>\n",
       "      <td>3500</td>\n",
       "      <td>1.783158</td>\n",
       "    </tr>\n",
       "    <tr>\n",
       "      <th>4</th>\n",
       "      <td>11</td>\n",
       "      <td>Rondônia</td>\n",
       "      <td>Rondonia</td>\n",
       "      <td>Feminino</td>\n",
       "      <td>47</td>\n",
       "      <td>9</td>\n",
       "      <td>150</td>\n",
       "      <td>1.690631</td>\n",
       "    </tr>\n",
       "  </tbody>\n",
       "</table>\n",
       "</div>"
      ],
      "text/plain": [
       "   UF_CODE        UF    UF_alt       Sexo  Idade  Anos de Estudo  Renda  \\\n",
       "0       11  Rondônia  Rondonia  Masculino     23              12    800   \n",
       "1       11  Rondônia  Rondonia   Feminino     23              12   1150   \n",
       "2       11  Rondônia  Rondonia   Feminino     35              15    880   \n",
       "3       11  Rondônia  Rondonia  Masculino     46               6   3500   \n",
       "4       11  Rondônia  Rondonia   Feminino     47               9    150   \n",
       "\n",
       "     Altura  \n",
       "0  1.603808  \n",
       "1  1.739790  \n",
       "2  1.760444  \n",
       "3  1.783158  \n",
       "4  1.690631  "
      ]
     },
     "execution_count": 38,
     "metadata": {},
     "output_type": "execute_result"
    }
   ],
   "source": [
    "pessoas.head()"
   ]
  },
  {
   "cell_type": "code",
   "execution_count": 39,
   "id": "afcee2e6",
   "metadata": {
    "execution": {
     "iopub.execute_input": "2022-06-22T21:08:34.549185Z",
     "iopub.status.busy": "2022-06-22T21:08:34.548797Z",
     "iopub.status.idle": "2022-06-22T21:08:34.571562Z",
     "shell.execute_reply": "2022-06-22T21:08:34.570839Z"
    },
    "id": "YUjjHvfM2M7h",
    "papermill": {
     "duration": 0.041815,
     "end_time": "2022-06-22T21:08:34.573503",
     "exception": false,
     "start_time": "2022-06-22T21:08:34.531688",
     "status": "completed"
    },
    "tags": []
   },
   "outputs": [
    {
     "data": {
      "text/html": [
       "<div>\n",
       "<style scoped>\n",
       "    .dataframe tbody tr th:only-of-type {\n",
       "        vertical-align: middle;\n",
       "    }\n",
       "\n",
       "    .dataframe tbody tr th {\n",
       "        vertical-align: top;\n",
       "    }\n",
       "\n",
       "    .dataframe thead th {\n",
       "        text-align: right;\n",
       "    }\n",
       "</style>\n",
       "<table border=\"1\" class=\"dataframe\">\n",
       "  <thead>\n",
       "    <tr style=\"text-align: right;\">\n",
       "      <th></th>\n",
       "      <th>Renda</th>\n",
       "    </tr>\n",
       "    <tr>\n",
       "      <th>UF</th>\n",
       "      <th></th>\n",
       "    </tr>\n",
       "  </thead>\n",
       "  <tbody>\n",
       "    <tr>\n",
       "      <th>Acre</th>\n",
       "      <td>1411208</td>\n",
       "    </tr>\n",
       "    <tr>\n",
       "      <th>Alagoas</th>\n",
       "      <td>1033531</td>\n",
       "    </tr>\n",
       "    <tr>\n",
       "      <th>Amapá</th>\n",
       "      <td>953013</td>\n",
       "    </tr>\n",
       "    <tr>\n",
       "      <th>Amazonas</th>\n",
       "      <td>3187957</td>\n",
       "    </tr>\n",
       "    <tr>\n",
       "      <th>Bahia</th>\n",
       "      <td>8173281</td>\n",
       "    </tr>\n",
       "    <tr>\n",
       "      <th>Ceará</th>\n",
       "      <td>4216901</td>\n",
       "    </tr>\n",
       "    <tr>\n",
       "      <th>Distrito Federal</th>\n",
       "      <td>8712975</td>\n",
       "    </tr>\n",
       "    <tr>\n",
       "      <th>Espírito Santo</th>\n",
       "      <td>3061866</td>\n",
       "    </tr>\n",
       "    <tr>\n",
       "      <th>Goiás</th>\n",
       "      <td>6937152</td>\n",
       "    </tr>\n",
       "    <tr>\n",
       "      <th>Maranhão</th>\n",
       "      <td>1821725</td>\n",
       "    </tr>\n",
       "    <tr>\n",
       "      <th>Mato Grosso</th>\n",
       "      <td>3835175</td>\n",
       "    </tr>\n",
       "    <tr>\n",
       "      <th>Mato Grosso do Sul</th>\n",
       "      <td>3258150</td>\n",
       "    </tr>\n",
       "    <tr>\n",
       "      <th>Minas Gerais</th>\n",
       "      <td>15805737</td>\n",
       "    </tr>\n",
       "    <tr>\n",
       "      <th>Paraná</th>\n",
       "      <td>10863301</td>\n",
       "    </tr>\n",
       "    <tr>\n",
       "      <th>Paraíba</th>\n",
       "      <td>1647754</td>\n",
       "    </tr>\n",
       "    <tr>\n",
       "      <th>Pará</th>\n",
       "      <td>6224493</td>\n",
       "    </tr>\n",
       "    <tr>\n",
       "      <th>Pernambuco</th>\n",
       "      <td>5833443</td>\n",
       "    </tr>\n",
       "    <tr>\n",
       "      <th>Piauí</th>\n",
       "      <td>1301281</td>\n",
       "    </tr>\n",
       "    <tr>\n",
       "      <th>Rio Grande do Norte</th>\n",
       "      <td>1308414</td>\n",
       "    </tr>\n",
       "    <tr>\n",
       "      <th>Rio Grande do Sul</th>\n",
       "      <td>14636431</td>\n",
       "    </tr>\n",
       "    <tr>\n",
       "      <th>Rio de Janeiro</th>\n",
       "      <td>13870016</td>\n",
       "    </tr>\n",
       "    <tr>\n",
       "      <th>Rondônia</th>\n",
       "      <td>2750863</td>\n",
       "    </tr>\n",
       "    <tr>\n",
       "      <th>Roraima</th>\n",
       "      <td>963138</td>\n",
       "    </tr>\n",
       "    <tr>\n",
       "      <th>Santa Catarina</th>\n",
       "      <td>5621195</td>\n",
       "    </tr>\n",
       "    <tr>\n",
       "      <th>Sergipe</th>\n",
       "      <td>1427426</td>\n",
       "    </tr>\n",
       "    <tr>\n",
       "      <th>São Paulo</th>\n",
       "      <td>22539969</td>\n",
       "    </tr>\n",
       "    <tr>\n",
       "      <th>Tocantins</th>\n",
       "      <td>2313050</td>\n",
       "    </tr>\n",
       "  </tbody>\n",
       "</table>\n",
       "</div>"
      ],
      "text/plain": [
       "                        Renda\n",
       "UF                           \n",
       "Acre                  1411208\n",
       "Alagoas               1033531\n",
       "Amapá                  953013\n",
       "Amazonas              3187957\n",
       "Bahia                 8173281\n",
       "Ceará                 4216901\n",
       "Distrito Federal      8712975\n",
       "Espírito Santo        3061866\n",
       "Goiás                 6937152\n",
       "Maranhão              1821725\n",
       "Mato Grosso           3835175\n",
       "Mato Grosso do Sul    3258150\n",
       "Minas Gerais         15805737\n",
       "Paraná               10863301\n",
       "Paraíba               1647754\n",
       "Pará                  6224493\n",
       "Pernambuco            5833443\n",
       "Piauí                 1301281\n",
       "Rio Grande do Norte   1308414\n",
       "Rio Grande do Sul    14636431\n",
       "Rio de Janeiro       13870016\n",
       "Rondônia              2750863\n",
       "Roraima                963138\n",
       "Santa Catarina        5621195\n",
       "Sergipe               1427426\n",
       "São Paulo            22539969\n",
       "Tocantins             2313050"
      ]
     },
     "execution_count": 39,
     "metadata": {},
     "output_type": "execute_result"
    }
   ],
   "source": [
    "# Encontre a soma total de renda por UF\n",
    "pessoas[['UF','Renda']].groupby('UF').agg('sum')\n"
   ]
  },
  {
   "cell_type": "code",
   "execution_count": 40,
   "id": "96dddd9f",
   "metadata": {
    "execution": {
     "iopub.execute_input": "2022-06-22T21:08:34.607832Z",
     "iopub.status.busy": "2022-06-22T21:08:34.607172Z",
     "iopub.status.idle": "2022-06-22T21:08:34.625465Z",
     "shell.execute_reply": "2022-06-22T21:08:34.624762Z"
    },
    "id": "J543QA15Bpag",
    "outputId": "0b3777d9-09a9-4493-db29-eefde8f594f7",
    "papermill": {
     "duration": 0.037818,
     "end_time": "2022-06-22T21:08:34.627381",
     "exception": false,
     "start_time": "2022-06-22T21:08:34.589563",
     "status": "completed"
    },
    "tags": []
   },
   "outputs": [
    {
     "data": {
      "text/html": [
       "<div>\n",
       "<style scoped>\n",
       "    .dataframe tbody tr th:only-of-type {\n",
       "        vertical-align: middle;\n",
       "    }\n",
       "\n",
       "    .dataframe tbody tr th {\n",
       "        vertical-align: top;\n",
       "    }\n",
       "\n",
       "    .dataframe thead th {\n",
       "        text-align: right;\n",
       "    }\n",
       "</style>\n",
       "<table border=\"1\" class=\"dataframe\">\n",
       "  <thead>\n",
       "    <tr style=\"text-align: right;\">\n",
       "      <th></th>\n",
       "      <th>Renda</th>\n",
       "    </tr>\n",
       "    <tr>\n",
       "      <th>UF</th>\n",
       "      <th></th>\n",
       "    </tr>\n",
       "  </thead>\n",
       "  <tbody>\n",
       "    <tr>\n",
       "      <th>São Paulo</th>\n",
       "      <td>22539969</td>\n",
       "    </tr>\n",
       "    <tr>\n",
       "      <th>Minas Gerais</th>\n",
       "      <td>15805737</td>\n",
       "    </tr>\n",
       "    <tr>\n",
       "      <th>Rio Grande do Sul</th>\n",
       "      <td>14636431</td>\n",
       "    </tr>\n",
       "    <tr>\n",
       "      <th>Rio de Janeiro</th>\n",
       "      <td>13870016</td>\n",
       "    </tr>\n",
       "    <tr>\n",
       "      <th>Paraná</th>\n",
       "      <td>10863301</td>\n",
       "    </tr>\n",
       "  </tbody>\n",
       "</table>\n",
       "</div>"
      ],
      "text/plain": [
       "                      Renda\n",
       "UF                         \n",
       "São Paulo          22539969\n",
       "Minas Gerais       15805737\n",
       "Rio Grande do Sul  14636431\n",
       "Rio de Janeiro     13870016\n",
       "Paraná             10863301"
      ]
     },
     "execution_count": 40,
     "metadata": {},
     "output_type": "execute_result"
    }
   ],
   "source": [
    "# Encontre os 5 UF com maior total de renda\n",
    "pessoas[['UF','Renda']].groupby('UF').agg('sum').sort_values(by='Renda', ascending=False).head(5)"
   ]
  },
  {
   "cell_type": "code",
   "execution_count": 41,
   "id": "c1eee018",
   "metadata": {
    "execution": {
     "iopub.execute_input": "2022-06-22T21:08:34.661692Z",
     "iopub.status.busy": "2022-06-22T21:08:34.661323Z",
     "iopub.status.idle": "2022-06-22T21:08:34.686497Z",
     "shell.execute_reply": "2022-06-22T21:08:34.685759Z"
    },
    "id": "RAlgwhyaB6-0",
    "outputId": "675a1052-2d0f-42ad-b171-0e9eb68b76e3",
    "papermill": {
     "duration": 0.044568,
     "end_time": "2022-06-22T21:08:34.688443",
     "exception": false,
     "start_time": "2022-06-22T21:08:34.643875",
     "status": "completed"
    },
    "tags": []
   },
   "outputs": [
    {
     "data": {
      "text/html": [
       "<div>\n",
       "<style scoped>\n",
       "    .dataframe tbody tr th:only-of-type {\n",
       "        vertical-align: middle;\n",
       "    }\n",
       "\n",
       "    .dataframe tbody tr th {\n",
       "        vertical-align: top;\n",
       "    }\n",
       "\n",
       "    .dataframe thead tr th {\n",
       "        text-align: left;\n",
       "    }\n",
       "\n",
       "    .dataframe thead tr:last-of-type th {\n",
       "        text-align: right;\n",
       "    }\n",
       "</style>\n",
       "<table border=\"1\" class=\"dataframe\">\n",
       "  <thead>\n",
       "    <tr>\n",
       "      <th></th>\n",
       "      <th colspan=\"2\" halign=\"left\">Renda</th>\n",
       "    </tr>\n",
       "    <tr>\n",
       "      <th></th>\n",
       "      <th>mean</th>\n",
       "      <th>std</th>\n",
       "    </tr>\n",
       "    <tr>\n",
       "      <th>UF</th>\n",
       "      <th></th>\n",
       "      <th></th>\n",
       "    </tr>\n",
       "  </thead>\n",
       "  <tbody>\n",
       "    <tr>\n",
       "      <th>Acre</th>\n",
       "      <td>1506.091782</td>\n",
       "      <td>2276.233415</td>\n",
       "    </tr>\n",
       "    <tr>\n",
       "      <th>Alagoas</th>\n",
       "      <td>1144.552602</td>\n",
       "      <td>1237.856197</td>\n",
       "    </tr>\n",
       "    <tr>\n",
       "      <th>Amapá</th>\n",
       "      <td>1861.353516</td>\n",
       "      <td>2020.688632</td>\n",
       "    </tr>\n",
       "    <tr>\n",
       "      <th>Amazonas</th>\n",
       "      <td>1445.130100</td>\n",
       "      <td>1757.935591</td>\n",
       "    </tr>\n",
       "    <tr>\n",
       "      <th>Bahia</th>\n",
       "      <td>1429.645094</td>\n",
       "      <td>3507.917248</td>\n",
       "    </tr>\n",
       "  </tbody>\n",
       "</table>\n",
       "</div>"
      ],
      "text/plain": [
       "                Renda             \n",
       "                 mean          std\n",
       "UF                                \n",
       "Acre      1506.091782  2276.233415\n",
       "Alagoas   1144.552602  1237.856197\n",
       "Amapá     1861.353516  2020.688632\n",
       "Amazonas  1445.130100  1757.935591\n",
       "Bahia     1429.645094  3507.917248"
      ]
     },
     "execution_count": 41,
     "metadata": {},
     "output_type": "execute_result"
    }
   ],
   "source": [
    "# Qual é a média e o desvio padrão da renda para cada UF?\n",
    "pessoas[['UF','Renda']].groupby('UF').agg(['mean','std']).head()"
   ]
  },
  {
   "cell_type": "code",
   "execution_count": 42,
   "id": "36d3e5ca",
   "metadata": {
    "execution": {
     "iopub.execute_input": "2022-06-22T21:08:34.723145Z",
     "iopub.status.busy": "2022-06-22T21:08:34.722479Z",
     "iopub.status.idle": "2022-06-22T21:08:34.747079Z",
     "shell.execute_reply": "2022-06-22T21:08:34.746047Z"
    },
    "id": "t8cfcGB_DCeL",
    "outputId": "965abb4e-52ae-4b8c-bbcf-0fc20214e22f",
    "papermill": {
     "duration": 0.044511,
     "end_time": "2022-06-22T21:08:34.749493",
     "exception": false,
     "start_time": "2022-06-22T21:08:34.704982",
     "status": "completed"
    },
    "tags": []
   },
   "outputs": [
    {
     "data": {
      "text/html": [
       "<div>\n",
       "<style scoped>\n",
       "    .dataframe tbody tr th:only-of-type {\n",
       "        vertical-align: middle;\n",
       "    }\n",
       "\n",
       "    .dataframe tbody tr th {\n",
       "        vertical-align: top;\n",
       "    }\n",
       "\n",
       "    .dataframe thead tr th {\n",
       "        text-align: left;\n",
       "    }\n",
       "\n",
       "    .dataframe thead tr:last-of-type th {\n",
       "        text-align: right;\n",
       "    }\n",
       "</style>\n",
       "<table border=\"1\" class=\"dataframe\">\n",
       "  <thead>\n",
       "    <tr>\n",
       "      <th></th>\n",
       "      <th colspan=\"2\" halign=\"left\">Renda</th>\n",
       "    </tr>\n",
       "    <tr>\n",
       "      <th></th>\n",
       "      <th>mean</th>\n",
       "      <th>std</th>\n",
       "    </tr>\n",
       "    <tr>\n",
       "      <th>UF</th>\n",
       "      <th></th>\n",
       "      <th></th>\n",
       "    </tr>\n",
       "  </thead>\n",
       "  <tbody>\n",
       "    <tr>\n",
       "      <th>Distrito Federal</th>\n",
       "      <td>4241.954722</td>\n",
       "      <td>5550.463338</td>\n",
       "    </tr>\n",
       "    <tr>\n",
       "      <th>São Paulo</th>\n",
       "      <td>2638.104986</td>\n",
       "      <td>3503.777366</td>\n",
       "    </tr>\n",
       "    <tr>\n",
       "      <th>Rio de Janeiro</th>\n",
       "      <td>2496.403168</td>\n",
       "      <td>5214.583518</td>\n",
       "    </tr>\n",
       "    <tr>\n",
       "      <th>Paraná</th>\n",
       "      <td>2493.870753</td>\n",
       "      <td>4302.937995</td>\n",
       "    </tr>\n",
       "    <tr>\n",
       "      <th>Santa Catarina</th>\n",
       "      <td>2470.854945</td>\n",
       "      <td>3137.651112</td>\n",
       "    </tr>\n",
       "  </tbody>\n",
       "</table>\n",
       "</div>"
      ],
      "text/plain": [
       "                        Renda             \n",
       "                         mean          std\n",
       "UF                                        \n",
       "Distrito Federal  4241.954722  5550.463338\n",
       "São Paulo         2638.104986  3503.777366\n",
       "Rio de Janeiro    2496.403168  5214.583518\n",
       "Paraná            2493.870753  4302.937995\n",
       "Santa Catarina    2470.854945  3137.651112"
      ]
     },
     "execution_count": 42,
     "metadata": {},
     "output_type": "execute_result"
    }
   ],
   "source": [
    "# Qual é a média e o desvio padrão dos 5 UFs com a maior média de Renda?\n",
    "\n",
    "pessoas[['UF','Renda']].groupby('UF').agg(['mean','std']).sort_values(('Renda','mean'), ascending=False).head()"
   ]
  },
  {
   "cell_type": "code",
   "execution_count": 43,
   "id": "a7b29450",
   "metadata": {
    "execution": {
     "iopub.execute_input": "2022-06-22T21:08:34.794367Z",
     "iopub.status.busy": "2022-06-22T21:08:34.793648Z",
     "iopub.status.idle": "2022-06-22T21:08:34.831990Z",
     "shell.execute_reply": "2022-06-22T21:08:34.830982Z"
    },
    "id": "uz9nxPiF7pdB",
    "outputId": "ead6660b-3521-435b-b204-0eb44cdcf25e",
    "papermill": {
     "duration": 0.068272,
     "end_time": "2022-06-22T21:08:34.834528",
     "exception": false,
     "start_time": "2022-06-22T21:08:34.766256",
     "status": "completed"
    },
    "tags": []
   },
   "outputs": [
    {
     "data": {
      "text/html": [
       "<div>\n",
       "<style scoped>\n",
       "    .dataframe tbody tr th:only-of-type {\n",
       "        vertical-align: middle;\n",
       "    }\n",
       "\n",
       "    .dataframe tbody tr th {\n",
       "        vertical-align: top;\n",
       "    }\n",
       "\n",
       "    .dataframe thead tr th {\n",
       "        text-align: left;\n",
       "    }\n",
       "\n",
       "    .dataframe thead tr:last-of-type th {\n",
       "        text-align: right;\n",
       "    }\n",
       "</style>\n",
       "<table border=\"1\" class=\"dataframe\">\n",
       "  <thead>\n",
       "    <tr>\n",
       "      <th></th>\n",
       "      <th colspan=\"2\" halign=\"left\">Idade</th>\n",
       "      <th colspan=\"5\" halign=\"left\">Renda</th>\n",
       "    </tr>\n",
       "    <tr>\n",
       "      <th></th>\n",
       "      <th>mean</th>\n",
       "      <th>std</th>\n",
       "      <th>sum</th>\n",
       "      <th>mean</th>\n",
       "      <th>std</th>\n",
       "      <th>min</th>\n",
       "      <th>max</th>\n",
       "    </tr>\n",
       "    <tr>\n",
       "      <th>UF</th>\n",
       "      <th></th>\n",
       "      <th></th>\n",
       "      <th></th>\n",
       "      <th></th>\n",
       "      <th></th>\n",
       "      <th></th>\n",
       "      <th></th>\n",
       "    </tr>\n",
       "  </thead>\n",
       "  <tbody>\n",
       "    <tr>\n",
       "      <th>Acre</th>\n",
       "      <td>41.89</td>\n",
       "      <td>12.46</td>\n",
       "      <td>1411208</td>\n",
       "      <td>1506.09</td>\n",
       "      <td>2276.23</td>\n",
       "      <td>0</td>\n",
       "      <td>30000</td>\n",
       "    </tr>\n",
       "    <tr>\n",
       "      <th>Alagoas</th>\n",
       "      <td>43.08</td>\n",
       "      <td>11.93</td>\n",
       "      <td>1033531</td>\n",
       "      <td>1144.55</td>\n",
       "      <td>1237.86</td>\n",
       "      <td>0</td>\n",
       "      <td>11000</td>\n",
       "    </tr>\n",
       "    <tr>\n",
       "      <th>Amapá</th>\n",
       "      <td>42.10</td>\n",
       "      <td>11.42</td>\n",
       "      <td>953013</td>\n",
       "      <td>1861.35</td>\n",
       "      <td>2020.69</td>\n",
       "      <td>0</td>\n",
       "      <td>15580</td>\n",
       "    </tr>\n",
       "    <tr>\n",
       "      <th>Amazonas</th>\n",
       "      <td>42.79</td>\n",
       "      <td>12.50</td>\n",
       "      <td>3187957</td>\n",
       "      <td>1445.13</td>\n",
       "      <td>1757.94</td>\n",
       "      <td>0</td>\n",
       "      <td>22000</td>\n",
       "    </tr>\n",
       "    <tr>\n",
       "      <th>Bahia</th>\n",
       "      <td>44.32</td>\n",
       "      <td>12.42</td>\n",
       "      <td>8173281</td>\n",
       "      <td>1429.65</td>\n",
       "      <td>3507.92</td>\n",
       "      <td>0</td>\n",
       "      <td>200000</td>\n",
       "    </tr>\n",
       "  </tbody>\n",
       "</table>\n",
       "</div>"
      ],
      "text/plain": [
       "          Idade           Renda                              \n",
       "           mean    std      sum     mean      std min     max\n",
       "UF                                                           \n",
       "Acre      41.89  12.46  1411208  1506.09  2276.23   0   30000\n",
       "Alagoas   43.08  11.93  1033531  1144.55  1237.86   0   11000\n",
       "Amapá     42.10  11.42   953013  1861.35  2020.69   0   15580\n",
       "Amazonas  42.79  12.50  3187957  1445.13  1757.94   0   22000\n",
       "Bahia     44.32  12.42  8173281  1429.65  3507.92   0  200000"
      ]
     },
     "execution_count": 43,
     "metadata": {},
     "output_type": "execute_result"
    }
   ],
   "source": [
    "# Construa uma tabela resumida para cada UF com: \n",
    "## Média e desvio padrão da idade;\n",
    "## Soma total, média, desvio padrão, valor máximo e valor mínimo da renda;\n",
    "\n",
    "pessoas.groupby('UF').agg({'Idade':['mean','std'],'Renda':['sum','mean','std','min','max']}).round(2).head()"
   ]
  },
  {
   "cell_type": "markdown",
   "id": "1a5d5d8d",
   "metadata": {
    "id": "NkyFbQuQ_3pi",
    "papermill": {
     "duration": 0.016799,
     "end_time": "2022-06-22T21:08:34.868562",
     "exception": false,
     "start_time": "2022-06-22T21:08:34.851763",
     "status": "completed"
    },
    "tags": []
   },
   "source": [
    "#### **Faça você mesmo:**"
   ]
  },
  {
   "cell_type": "code",
   "execution_count": 44,
   "id": "97a71e21",
   "metadata": {
    "execution": {
     "iopub.execute_input": "2022-06-22T21:08:34.904062Z",
     "iopub.status.busy": "2022-06-22T21:08:34.903698Z",
     "iopub.status.idle": "2022-06-22T21:08:34.916826Z",
     "shell.execute_reply": "2022-06-22T21:08:34.915940Z"
    },
    "id": "QSlzRnEs_2vF",
    "outputId": "bddd2879-fb1d-4b95-acfb-03d5fea388e7",
    "papermill": {
     "duration": 0.033529,
     "end_time": "2022-06-22T21:08:34.918984",
     "exception": false,
     "start_time": "2022-06-22T21:08:34.885455",
     "status": "completed"
    },
    "tags": []
   },
   "outputs": [
    {
     "data": {
      "text/html": [
       "<div>\n",
       "<style scoped>\n",
       "    .dataframe tbody tr th:only-of-type {\n",
       "        vertical-align: middle;\n",
       "    }\n",
       "\n",
       "    .dataframe tbody tr th {\n",
       "        vertical-align: top;\n",
       "    }\n",
       "\n",
       "    .dataframe thead th {\n",
       "        text-align: right;\n",
       "    }\n",
       "</style>\n",
       "<table border=\"1\" class=\"dataframe\">\n",
       "  <thead>\n",
       "    <tr style=\"text-align: right;\">\n",
       "      <th></th>\n",
       "      <th>UF_CODE</th>\n",
       "      <th>UF</th>\n",
       "      <th>UF_alt</th>\n",
       "      <th>Sexo</th>\n",
       "      <th>Idade</th>\n",
       "      <th>Anos de Estudo</th>\n",
       "      <th>Renda</th>\n",
       "      <th>Altura</th>\n",
       "    </tr>\n",
       "  </thead>\n",
       "  <tbody>\n",
       "    <tr>\n",
       "      <th>0</th>\n",
       "      <td>11</td>\n",
       "      <td>Rondônia</td>\n",
       "      <td>Rondonia</td>\n",
       "      <td>Masculino</td>\n",
       "      <td>23</td>\n",
       "      <td>12</td>\n",
       "      <td>800</td>\n",
       "      <td>1.603808</td>\n",
       "    </tr>\n",
       "    <tr>\n",
       "      <th>1</th>\n",
       "      <td>11</td>\n",
       "      <td>Rondônia</td>\n",
       "      <td>Rondonia</td>\n",
       "      <td>Feminino</td>\n",
       "      <td>23</td>\n",
       "      <td>12</td>\n",
       "      <td>1150</td>\n",
       "      <td>1.739790</td>\n",
       "    </tr>\n",
       "    <tr>\n",
       "      <th>2</th>\n",
       "      <td>11</td>\n",
       "      <td>Rondônia</td>\n",
       "      <td>Rondonia</td>\n",
       "      <td>Feminino</td>\n",
       "      <td>35</td>\n",
       "      <td>15</td>\n",
       "      <td>880</td>\n",
       "      <td>1.760444</td>\n",
       "    </tr>\n",
       "    <tr>\n",
       "      <th>3</th>\n",
       "      <td>11</td>\n",
       "      <td>Rondônia</td>\n",
       "      <td>Rondonia</td>\n",
       "      <td>Masculino</td>\n",
       "      <td>46</td>\n",
       "      <td>6</td>\n",
       "      <td>3500</td>\n",
       "      <td>1.783158</td>\n",
       "    </tr>\n",
       "    <tr>\n",
       "      <th>4</th>\n",
       "      <td>11</td>\n",
       "      <td>Rondônia</td>\n",
       "      <td>Rondonia</td>\n",
       "      <td>Feminino</td>\n",
       "      <td>47</td>\n",
       "      <td>9</td>\n",
       "      <td>150</td>\n",
       "      <td>1.690631</td>\n",
       "    </tr>\n",
       "  </tbody>\n",
       "</table>\n",
       "</div>"
      ],
      "text/plain": [
       "   UF_CODE        UF    UF_alt       Sexo  Idade  Anos de Estudo  Renda  \\\n",
       "0       11  Rondônia  Rondonia  Masculino     23              12    800   \n",
       "1       11  Rondônia  Rondonia   Feminino     23              12   1150   \n",
       "2       11  Rondônia  Rondonia   Feminino     35              15    880   \n",
       "3       11  Rondônia  Rondonia  Masculino     46               6   3500   \n",
       "4       11  Rondônia  Rondonia   Feminino     47               9    150   \n",
       "\n",
       "     Altura  \n",
       "0  1.603808  \n",
       "1  1.739790  \n",
       "2  1.760444  \n",
       "3  1.783158  \n",
       "4  1.690631  "
      ]
     },
     "execution_count": 44,
     "metadata": {},
     "output_type": "execute_result"
    }
   ],
   "source": [
    "# Para cada sexo, qual é a média de altura e a média de idade dos participantes dessa base?\n",
    "\n",
    "pessoas.head()"
   ]
  },
  {
   "cell_type": "markdown",
   "id": "f955d11f",
   "metadata": {
    "id": "fTI8o5e4Gj8B",
    "papermill": {
     "duration": 0.017596,
     "end_time": "2022-06-22T21:08:34.953928",
     "exception": false,
     "start_time": "2022-06-22T21:08:34.936332",
     "status": "completed"
    },
    "tags": []
   },
   "source": [
    "#### **Alternativas de GROUPBY + AGG + SORT_VALUES**"
   ]
  },
  {
   "cell_type": "code",
   "execution_count": 45,
   "id": "80192805",
   "metadata": {
    "execution": {
     "iopub.execute_input": "2022-06-22T21:08:34.991347Z",
     "iopub.status.busy": "2022-06-22T21:08:34.990237Z",
     "iopub.status.idle": "2022-06-22T21:08:35.016833Z",
     "shell.execute_reply": "2022-06-22T21:08:35.015942Z"
    },
    "id": "wEdy-UuGGhe7",
    "outputId": "9127ef2b-c149-4c2f-8459-ce44dedf7347",
    "papermill": {
     "duration": 0.04703,
     "end_time": "2022-06-22T21:08:35.018808",
     "exception": false,
     "start_time": "2022-06-22T21:08:34.971778",
     "status": "completed"
    },
    "tags": []
   },
   "outputs": [
    {
     "data": {
      "text/html": [
       "<div>\n",
       "<style scoped>\n",
       "    .dataframe tbody tr th:only-of-type {\n",
       "        vertical-align: middle;\n",
       "    }\n",
       "\n",
       "    .dataframe tbody tr th {\n",
       "        vertical-align: top;\n",
       "    }\n",
       "\n",
       "    .dataframe thead tr th {\n",
       "        text-align: left;\n",
       "    }\n",
       "\n",
       "    .dataframe thead tr:last-of-type th {\n",
       "        text-align: right;\n",
       "    }\n",
       "</style>\n",
       "<table border=\"1\" class=\"dataframe\">\n",
       "  <thead>\n",
       "    <tr>\n",
       "      <th></th>\n",
       "      <th colspan=\"4\" halign=\"left\">Idade</th>\n",
       "    </tr>\n",
       "    <tr>\n",
       "      <th></th>\n",
       "      <th>mean</th>\n",
       "      <th>max</th>\n",
       "      <th>min</th>\n",
       "      <th>std</th>\n",
       "    </tr>\n",
       "    <tr>\n",
       "      <th>UF</th>\n",
       "      <th></th>\n",
       "      <th></th>\n",
       "      <th></th>\n",
       "      <th></th>\n",
       "    </tr>\n",
       "  </thead>\n",
       "  <tbody>\n",
       "    <tr>\n",
       "      <th>Rio Grande do Sul</th>\n",
       "      <td>45.5</td>\n",
       "      <td>90</td>\n",
       "      <td>16</td>\n",
       "      <td>12.8</td>\n",
       "    </tr>\n",
       "    <tr>\n",
       "      <th>Piauí</th>\n",
       "      <td>45.3</td>\n",
       "      <td>88</td>\n",
       "      <td>18</td>\n",
       "      <td>13.4</td>\n",
       "    </tr>\n",
       "    <tr>\n",
       "      <th>Minas Gerais</th>\n",
       "      <td>45.2</td>\n",
       "      <td>94</td>\n",
       "      <td>15</td>\n",
       "      <td>12.7</td>\n",
       "    </tr>\n",
       "    <tr>\n",
       "      <th>Rio de Janeiro</th>\n",
       "      <td>45.1</td>\n",
       "      <td>91</td>\n",
       "      <td>16</td>\n",
       "      <td>12.1</td>\n",
       "    </tr>\n",
       "    <tr>\n",
       "      <th>Bahia</th>\n",
       "      <td>44.3</td>\n",
       "      <td>92</td>\n",
       "      <td>15</td>\n",
       "      <td>12.4</td>\n",
       "    </tr>\n",
       "  </tbody>\n",
       "</table>\n",
       "</div>"
      ],
      "text/plain": [
       "                  Idade              \n",
       "                   mean max min   std\n",
       "UF                                   \n",
       "Rio Grande do Sul  45.5  90  16  12.8\n",
       "Piauí              45.3  88  18  13.4\n",
       "Minas Gerais       45.2  94  15  12.7\n",
       "Rio de Janeiro     45.1  91  16  12.1\n",
       "Bahia              44.3  92  15  12.4"
      ]
     },
     "execution_count": 45,
     "metadata": {},
     "output_type": "execute_result"
    }
   ],
   "source": [
    "pessoas.groupby('UF').agg(\n",
    "                          {'Idade':['mean','max','min','std']}\n",
    "                          ).sort_values(\n",
    "                              ('Idade','mean'), ascending=False\n",
    "                              ).round(1).head(5)"
   ]
  },
  {
   "cell_type": "code",
   "execution_count": 46,
   "id": "3eb5d8e4",
   "metadata": {
    "execution": {
     "iopub.execute_input": "2022-06-22T21:08:35.055876Z",
     "iopub.status.busy": "2022-06-22T21:08:35.055262Z",
     "iopub.status.idle": "2022-06-22T21:08:35.081177Z",
     "shell.execute_reply": "2022-06-22T21:08:35.080115Z"
    },
    "id": "yXJJOWMOERRj",
    "outputId": "c39ecc6f-1d1d-41b3-c6c0-0003e8bbadfd",
    "papermill": {
     "duration": 0.046861,
     "end_time": "2022-06-22T21:08:35.083313",
     "exception": false,
     "start_time": "2022-06-22T21:08:35.036452",
     "status": "completed"
    },
    "tags": []
   },
   "outputs": [
    {
     "data": {
      "text/html": [
       "<div>\n",
       "<style scoped>\n",
       "    .dataframe tbody tr th:only-of-type {\n",
       "        vertical-align: middle;\n",
       "    }\n",
       "\n",
       "    .dataframe tbody tr th {\n",
       "        vertical-align: top;\n",
       "    }\n",
       "\n",
       "    .dataframe thead th {\n",
       "        text-align: right;\n",
       "    }\n",
       "</style>\n",
       "<table border=\"1\" class=\"dataframe\">\n",
       "  <thead>\n",
       "    <tr style=\"text-align: right;\">\n",
       "      <th></th>\n",
       "      <th>media_IDADE</th>\n",
       "      <th>min_IDADE</th>\n",
       "      <th>max_IDADE</th>\n",
       "      <th>std_IDADE</th>\n",
       "    </tr>\n",
       "    <tr>\n",
       "      <th>UF</th>\n",
       "      <th></th>\n",
       "      <th></th>\n",
       "      <th></th>\n",
       "      <th></th>\n",
       "    </tr>\n",
       "  </thead>\n",
       "  <tbody>\n",
       "    <tr>\n",
       "      <th>Rio Grande do Sul</th>\n",
       "      <td>45.5</td>\n",
       "      <td>16</td>\n",
       "      <td>90</td>\n",
       "      <td>12.8</td>\n",
       "    </tr>\n",
       "    <tr>\n",
       "      <th>Piauí</th>\n",
       "      <td>45.3</td>\n",
       "      <td>18</td>\n",
       "      <td>88</td>\n",
       "      <td>13.4</td>\n",
       "    </tr>\n",
       "    <tr>\n",
       "      <th>Minas Gerais</th>\n",
       "      <td>45.2</td>\n",
       "      <td>15</td>\n",
       "      <td>94</td>\n",
       "      <td>12.7</td>\n",
       "    </tr>\n",
       "    <tr>\n",
       "      <th>Rio de Janeiro</th>\n",
       "      <td>45.1</td>\n",
       "      <td>16</td>\n",
       "      <td>91</td>\n",
       "      <td>12.1</td>\n",
       "    </tr>\n",
       "    <tr>\n",
       "      <th>Bahia</th>\n",
       "      <td>44.3</td>\n",
       "      <td>15</td>\n",
       "      <td>92</td>\n",
       "      <td>12.4</td>\n",
       "    </tr>\n",
       "  </tbody>\n",
       "</table>\n",
       "</div>"
      ],
      "text/plain": [
       "                   media_IDADE  min_IDADE  max_IDADE  std_IDADE\n",
       "UF                                                             \n",
       "Rio Grande do Sul         45.5         16         90       12.8\n",
       "Piauí                     45.3         18         88       13.4\n",
       "Minas Gerais              45.2         15         94       12.7\n",
       "Rio de Janeiro            45.1         16         91       12.1\n",
       "Bahia                     44.3         15         92       12.4"
      ]
     },
     "execution_count": 46,
     "metadata": {},
     "output_type": "execute_result"
    }
   ],
   "source": [
    "pessoas.groupby('UF').agg(media_IDADE=('Idade','mean'),\n",
    "                          min_IDADE=('Idade','min'),\n",
    "                          max_IDADE=('Idade','max'),\n",
    "                          std_IDADE=('Idade','std')).sort_values('media_IDADE', ascending=False\n",
    "                                                                 ).round(1).head(5)\n"
   ]
  },
  {
   "cell_type": "code",
   "execution_count": 47,
   "id": "2611528d",
   "metadata": {
    "execution": {
     "iopub.execute_input": "2022-06-22T21:08:35.120414Z",
     "iopub.status.busy": "2022-06-22T21:08:35.119719Z",
     "iopub.status.idle": "2022-06-22T21:08:35.145999Z",
     "shell.execute_reply": "2022-06-22T21:08:35.145240Z"
    },
    "id": "EQSEKea1XZfX",
    "outputId": "14269a8e-0f44-4c3e-b132-878b672f2d99",
    "papermill": {
     "duration": 0.046962,
     "end_time": "2022-06-22T21:08:35.147792",
     "exception": false,
     "start_time": "2022-06-22T21:08:35.100830",
     "status": "completed"
    },
    "tags": []
   },
   "outputs": [
    {
     "data": {
      "text/html": [
       "<div>\n",
       "<style scoped>\n",
       "    .dataframe tbody tr th:only-of-type {\n",
       "        vertical-align: middle;\n",
       "    }\n",
       "\n",
       "    .dataframe tbody tr th {\n",
       "        vertical-align: top;\n",
       "    }\n",
       "\n",
       "    .dataframe thead th {\n",
       "        text-align: right;\n",
       "    }\n",
       "</style>\n",
       "<table border=\"1\" class=\"dataframe\">\n",
       "  <thead>\n",
       "    <tr style=\"text-align: right;\">\n",
       "      <th></th>\n",
       "      <th>media_IDADE</th>\n",
       "      <th>min_IDADE</th>\n",
       "      <th>max_IDADE</th>\n",
       "      <th>std_IDADE</th>\n",
       "    </tr>\n",
       "    <tr>\n",
       "      <th>UF</th>\n",
       "      <th></th>\n",
       "      <th></th>\n",
       "      <th></th>\n",
       "      <th></th>\n",
       "    </tr>\n",
       "  </thead>\n",
       "  <tbody>\n",
       "    <tr>\n",
       "      <th>Rio Grande do Sul</th>\n",
       "      <td>45.5</td>\n",
       "      <td>16</td>\n",
       "      <td>90</td>\n",
       "      <td>12.8</td>\n",
       "    </tr>\n",
       "    <tr>\n",
       "      <th>Piauí</th>\n",
       "      <td>45.3</td>\n",
       "      <td>18</td>\n",
       "      <td>88</td>\n",
       "      <td>13.4</td>\n",
       "    </tr>\n",
       "    <tr>\n",
       "      <th>Minas Gerais</th>\n",
       "      <td>45.2</td>\n",
       "      <td>15</td>\n",
       "      <td>94</td>\n",
       "      <td>12.7</td>\n",
       "    </tr>\n",
       "    <tr>\n",
       "      <th>Rio de Janeiro</th>\n",
       "      <td>45.1</td>\n",
       "      <td>16</td>\n",
       "      <td>91</td>\n",
       "      <td>12.1</td>\n",
       "    </tr>\n",
       "    <tr>\n",
       "      <th>Bahia</th>\n",
       "      <td>44.3</td>\n",
       "      <td>15</td>\n",
       "      <td>92</td>\n",
       "      <td>12.4</td>\n",
       "    </tr>\n",
       "  </tbody>\n",
       "</table>\n",
       "</div>"
      ],
      "text/plain": [
       "                   media_IDADE  min_IDADE  max_IDADE  std_IDADE\n",
       "UF                                                             \n",
       "Rio Grande do Sul         45.5         16         90       12.8\n",
       "Piauí                     45.3         18         88       13.4\n",
       "Minas Gerais              45.2         15         94       12.7\n",
       "Rio de Janeiro            45.1         16         91       12.1\n",
       "Bahia                     44.3         15         92       12.4"
      ]
     },
     "execution_count": 47,
     "metadata": {},
     "output_type": "execute_result"
    }
   ],
   "source": [
    "# AGG usando funções do numpy\n",
    "\n",
    "pessoas.groupby('UF').agg(\n",
    "    media_IDADE=('Idade',np.mean),\n",
    "    min_IDADE=('Idade',np.min),\n",
    "    max_IDADE=('Idade',np.max),\n",
    "    std_IDADE=('Idade',np.std)\n",
    "    ).sort_values('media_IDADE', ascending=False).round(1).head(5)"
   ]
  },
  {
   "cell_type": "code",
   "execution_count": 48,
   "id": "0627f1f6",
   "metadata": {
    "execution": {
     "iopub.execute_input": "2022-06-22T21:08:35.185586Z",
     "iopub.status.busy": "2022-06-22T21:08:35.184935Z",
     "iopub.status.idle": "2022-06-22T21:08:35.202903Z",
     "shell.execute_reply": "2022-06-22T21:08:35.202167Z"
    },
    "id": "W3YmguRpFAsG",
    "outputId": "1c09bb0d-a198-4e1e-9e6f-4ba790e9f1d4",
    "papermill": {
     "duration": 0.039163,
     "end_time": "2022-06-22T21:08:35.204778",
     "exception": false,
     "start_time": "2022-06-22T21:08:35.165615",
     "status": "completed"
    },
    "tags": []
   },
   "outputs": [
    {
     "data": {
      "text/html": [
       "<div>\n",
       "<style scoped>\n",
       "    .dataframe tbody tr th:only-of-type {\n",
       "        vertical-align: middle;\n",
       "    }\n",
       "\n",
       "    .dataframe tbody tr th {\n",
       "        vertical-align: top;\n",
       "    }\n",
       "\n",
       "    .dataframe thead th {\n",
       "        text-align: right;\n",
       "    }\n",
       "</style>\n",
       "<table border=\"1\" class=\"dataframe\">\n",
       "  <thead>\n",
       "    <tr style=\"text-align: right;\">\n",
       "      <th></th>\n",
       "      <th>media_IDADE</th>\n",
       "    </tr>\n",
       "    <tr>\n",
       "      <th>UF</th>\n",
       "      <th></th>\n",
       "    </tr>\n",
       "  </thead>\n",
       "  <tbody>\n",
       "    <tr>\n",
       "      <th>Acre</th>\n",
       "      <td>95</td>\n",
       "    </tr>\n",
       "    <tr>\n",
       "      <th>Alagoas</th>\n",
       "      <td>78</td>\n",
       "    </tr>\n",
       "    <tr>\n",
       "      <th>Amapá</th>\n",
       "      <td>75</td>\n",
       "    </tr>\n",
       "    <tr>\n",
       "      <th>Amazonas</th>\n",
       "      <td>87</td>\n",
       "    </tr>\n",
       "    <tr>\n",
       "      <th>Bahia</th>\n",
       "      <td>92</td>\n",
       "    </tr>\n",
       "  </tbody>\n",
       "</table>\n",
       "</div>"
      ],
      "text/plain": [
       "          media_IDADE\n",
       "UF                   \n",
       "Acre               95\n",
       "Alagoas            78\n",
       "Amapá              75\n",
       "Amazonas           87\n",
       "Bahia              92"
      ]
     },
     "execution_count": 48,
     "metadata": {},
     "output_type": "execute_result"
    }
   ],
   "source": [
    "'''\n",
    "np.mean: Média da coluna\n",
    "np.sum: Soma da coluna\n",
    "np.std: Desvio Padrão da coluna\n",
    "np.var: Variância da coluna\n",
    "np.min: O menor valor da coluna\n",
    "np.max: O maior valor da coluna\n",
    "'''\n",
    "\n",
    "pessoas.groupby('UF').agg(\n",
    "    media_IDADE=('Idade',np.max)).head()"
   ]
  },
  {
   "cell_type": "markdown",
   "id": "434eaa17",
   "metadata": {
    "id": "tr2dgZzCb_cj",
    "papermill": {
     "duration": 0.017742,
     "end_time": "2022-06-22T21:08:35.240409",
     "exception": false,
     "start_time": "2022-06-22T21:08:35.222667",
     "status": "completed"
    },
    "tags": []
   },
   "source": [
    "### **PRINCIPAIS VISUALIZAÇÕES DE DADOS**"
   ]
  },
  {
   "cell_type": "code",
   "execution_count": 49,
   "id": "673cf831",
   "metadata": {
    "execution": {
     "iopub.execute_input": "2022-06-22T21:08:35.278540Z",
     "iopub.status.busy": "2022-06-22T21:08:35.277995Z",
     "iopub.status.idle": "2022-06-22T21:08:35.513764Z",
     "shell.execute_reply": "2022-06-22T21:08:35.512655Z"
    },
    "id": "71388pkWm4Sz",
    "outputId": "dde923c6-32ae-4915-8c31-bb1c32ccd3fe",
    "papermill": {
     "duration": 0.257928,
     "end_time": "2022-06-22T21:08:35.516387",
     "exception": false,
     "start_time": "2022-06-22T21:08:35.258459",
     "status": "completed"
    },
    "tags": []
   },
   "outputs": [
    {
     "data": {
      "image/png": "[encoded data removed]",
      "text/plain": [
       "<Figure size 720x360 with 1 Axes>"
      ]
     },
     "metadata": {
      "needs_background": "light"
     },
     "output_type": "display_data"
    }
   ],
   "source": [
    "# hist (HISTOGRAMA - Distribuição de Frequência)\n",
    "\n",
    "plt.hist(pessoas['Idade'],bins=range(18,80,5))\n",
    "plt.title('Distribuição x Idade')\n",
    "plt.xlabel('Idade')\n",
    "plt.ylabel('Quantidade de Pessoas')\n",
    "plt.gcf().set_size_inches(10, 5)\n",
    "plt.show()"
   ]
  },
  {
   "cell_type": "code",
   "execution_count": null,
   "id": "6442826f",
   "metadata": {
    "id": "FZr4MJhgBf-d",
    "papermill": {
     "duration": 0.017968,
     "end_time": "2022-06-22T21:08:35.552645",
     "exception": false,
     "start_time": "2022-06-22T21:08:35.534677",
     "status": "completed"
    },
    "tags": []
   },
   "outputs": [],
   "source": []
  },
  {
   "cell_type": "code",
   "execution_count": 50,
   "id": "193e72bf",
   "metadata": {
    "execution": {
     "iopub.execute_input": "2022-06-22T21:08:35.590538Z",
     "iopub.status.busy": "2022-06-22T21:08:35.590156Z",
     "iopub.status.idle": "2022-06-22T21:08:35.899182Z",
     "shell.execute_reply": "2022-06-22T21:08:35.897930Z"
    },
    "id": "ftAFO3S3JN25",
    "outputId": "eada3aa5-9e69-4bd2-fa29-87bb318a0dec",
    "papermill": {
     "duration": 0.330835,
     "end_time": "2022-06-22T21:08:35.901719",
     "exception": false,
     "start_time": "2022-06-22T21:08:35.570884",
     "status": "completed"
    },
    "tags": []
   },
   "outputs": [
    {
     "data": {
      "image/png": "[encoded data removed]",
      "text/plain": [
       "<Figure size 720x360 with 1 Axes>"
      ]
     },
     "metadata": {
      "needs_background": "light"
     },
     "output_type": "display_data"
    }
   ],
   "source": [
    "# Agrupamos os dados por UF (categórica) e fazemos a média da Renda\n",
    "p2_uf = pessoas[['UF','Renda']].groupby('UF').agg(RendaMedia=('Renda','mean'))\n",
    "p2_uf.reset_index(inplace=True)\n",
    "p2_uf.sort_values('RendaMedia', ascending=False, inplace=True)\n",
    "p2_uf.head()\n",
    "\n",
    "# bar (gráfico de BARRAS)\n",
    "plt.bar(p2_uf['UF'],p2_uf['RendaMedia'])\n",
    "plt.title('Renda Média x UF')\n",
    "plt.xlabel('UF')\n",
    "plt.ylabel('Renda Média')\n",
    "#plt.xticks(rotation=90)\n",
    "plt.gcf().set_size_inches(10, 5)\n",
    "plt.show()"
   ]
  },
  {
   "cell_type": "code",
   "execution_count": null,
   "id": "99265100",
   "metadata": {
    "id": "0s3LJqy4FbO5",
    "papermill": {
     "duration": 0.018533,
     "end_time": "2022-06-22T21:08:35.939276",
     "exception": false,
     "start_time": "2022-06-22T21:08:35.920743",
     "status": "completed"
    },
    "tags": []
   },
   "outputs": [],
   "source": []
  },
  {
   "cell_type": "code",
   "execution_count": 51,
   "id": "3049aa92",
   "metadata": {
    "execution": {
     "iopub.execute_input": "2022-06-22T21:08:35.980100Z",
     "iopub.status.busy": "2022-06-22T21:08:35.979367Z",
     "iopub.status.idle": "2022-06-22T21:08:36.000442Z",
     "shell.execute_reply": "2022-06-22T21:08:35.999429Z"
    },
    "id": "XzS2uHjB9SAM",
    "papermill": {
     "duration": 0.044281,
     "end_time": "2022-06-22T21:08:36.002533",
     "exception": false,
     "start_time": "2022-06-22T21:08:35.958252",
     "status": "completed"
    },
    "tags": []
   },
   "outputs": [
    {
     "data": {
      "text/html": [
       "<div>\n",
       "<style scoped>\n",
       "    .dataframe tbody tr th:only-of-type {\n",
       "        vertical-align: middle;\n",
       "    }\n",
       "\n",
       "    .dataframe tbody tr th {\n",
       "        vertical-align: top;\n",
       "    }\n",
       "\n",
       "    .dataframe thead th {\n",
       "        text-align: right;\n",
       "    }\n",
       "</style>\n",
       "<table border=\"1\" class=\"dataframe\">\n",
       "  <thead>\n",
       "    <tr style=\"text-align: right;\">\n",
       "      <th></th>\n",
       "      <th>Idade</th>\n",
       "      <th>media_anos_de_estudo</th>\n",
       "      <th>renda_media</th>\n",
       "      <th>qtd_pessoas</th>\n",
       "    </tr>\n",
       "  </thead>\n",
       "  <tbody>\n",
       "    <tr>\n",
       "      <th>0</th>\n",
       "      <td>13</td>\n",
       "      <td>6.000000</td>\n",
       "      <td>100.000000</td>\n",
       "      <td>1</td>\n",
       "    </tr>\n",
       "    <tr>\n",
       "      <th>1</th>\n",
       "      <td>14</td>\n",
       "      <td>4.000000</td>\n",
       "      <td>300.000000</td>\n",
       "      <td>1</td>\n",
       "    </tr>\n",
       "    <tr>\n",
       "      <th>2</th>\n",
       "      <td>15</td>\n",
       "      <td>6.166667</td>\n",
       "      <td>416.666667</td>\n",
       "      <td>6</td>\n",
       "    </tr>\n",
       "    <tr>\n",
       "      <th>3</th>\n",
       "      <td>16</td>\n",
       "      <td>8.200000</td>\n",
       "      <td>706.500000</td>\n",
       "      <td>10</td>\n",
       "    </tr>\n",
       "    <tr>\n",
       "      <th>4</th>\n",
       "      <td>17</td>\n",
       "      <td>9.081633</td>\n",
       "      <td>829.571429</td>\n",
       "      <td>49</td>\n",
       "    </tr>\n",
       "  </tbody>\n",
       "</table>\n",
       "</div>"
      ],
      "text/plain": [
       "   Idade  media_anos_de_estudo  renda_media  qtd_pessoas\n",
       "0     13              6.000000   100.000000            1\n",
       "1     14              4.000000   300.000000            1\n",
       "2     15              6.166667   416.666667            6\n",
       "3     16              8.200000   706.500000           10\n",
       "4     17              9.081633   829.571429           49"
      ]
     },
     "execution_count": 51,
     "metadata": {},
     "output_type": "execute_result"
    }
   ],
   "source": [
    "p2_idade = pessoas.groupby('Idade').agg(media_anos_de_estudo=('Anos de Estudo','mean'),\n",
    "                                  renda_media=('Renda','mean'),\n",
    "                                  qtd_pessoas=('Anos de Estudo','size')\n",
    "                                  )\n",
    "p2_idade.reset_index(inplace=True)\n",
    "\n",
    "p2_idade.head()"
   ]
  },
  {
   "cell_type": "code",
   "execution_count": 52,
   "id": "d2156c7b",
   "metadata": {
    "execution": {
     "iopub.execute_input": "2022-06-22T21:08:36.043294Z",
     "iopub.status.busy": "2022-06-22T21:08:36.042894Z",
     "iopub.status.idle": "2022-06-22T21:08:36.219825Z",
     "shell.execute_reply": "2022-06-22T21:08:36.218692Z"
    },
    "id": "LPZPsGlIgrnh",
    "outputId": "bd20cb7b-32bd-4167-c69c-5b9baed3aea2",
    "papermill": {
     "duration": 0.19986,
     "end_time": "2022-06-22T21:08:36.222122",
     "exception": false,
     "start_time": "2022-06-22T21:08:36.022262",
     "status": "completed"
    },
    "tags": []
   },
   "outputs": [
    {
     "data": {
      "image/png": "[encoded data removed]",
      "text/plain": [
       "<Figure size 720x360 with 1 Axes>"
      ]
     },
     "metadata": {
      "needs_background": "light"
     },
     "output_type": "display_data"
    }
   ],
   "source": [
    "# plot (gráfico de LINHA)\n",
    "plt.plot(p2_idade['Idade'],p2_idade['media_anos_de_estudo'], color='orange')\n",
    "plt.title('Média de Anos de Estudo x Idade')\n",
    "plt.xlabel('Idade')\n",
    "plt.ylabel('Média de Anos de Estudo')\n",
    "plt.gcf().set_size_inches(10, 5)\n",
    "plt.show()"
   ]
  },
  {
   "cell_type": "code",
   "execution_count": null,
   "id": "d2109e5a",
   "metadata": {
    "id": "vSW4rl5FFZyT",
    "papermill": {
     "duration": 0.019113,
     "end_time": "2022-06-22T21:08:36.260854",
     "exception": false,
     "start_time": "2022-06-22T21:08:36.241741",
     "status": "completed"
    },
    "tags": []
   },
   "outputs": [],
   "source": []
  },
  {
   "cell_type": "code",
   "execution_count": 53,
   "id": "f506041c",
   "metadata": {
    "execution": {
     "iopub.execute_input": "2022-06-22T21:08:36.303906Z",
     "iopub.status.busy": "2022-06-22T21:08:36.303355Z",
     "iopub.status.idle": "2022-06-22T21:08:36.488996Z",
     "shell.execute_reply": "2022-06-22T21:08:36.487923Z"
    },
    "id": "ad5wrfduMXq9",
    "outputId": "acf78f13-715d-406f-cc44-7c16cf6b2612",
    "papermill": {
     "duration": 0.210109,
     "end_time": "2022-06-22T21:08:36.491171",
     "exception": false,
     "start_time": "2022-06-22T21:08:36.281062",
     "status": "completed"
    },
    "tags": []
   },
   "outputs": [
    {
     "data": {
      "image/png": "[encoded data removed]",
      "text/plain": [
       "<Figure size 720x360 with 1 Axes>"
      ]
     },
     "metadata": {
      "needs_background": "light"
     },
     "output_type": "display_data"
    }
   ],
   "source": [
    "# plot (gráfico de LINHA)\n",
    "plt.plot(p2_idade['Idade'],p2_idade['renda_media'], color='green')\n",
    "plt.title('Renda Média x Idade')\n",
    "plt.xlabel('Idade')\n",
    "plt.ylabel('Renda Média')\n",
    "plt.gcf().set_size_inches(10, 5)\n",
    "plt.show()"
   ]
  },
  {
   "cell_type": "code",
   "execution_count": null,
   "id": "7d980f00",
   "metadata": {
    "id": "FGMREaQ_CdJF",
    "papermill": {
     "duration": 0.020128,
     "end_time": "2022-06-22T21:08:36.531720",
     "exception": false,
     "start_time": "2022-06-22T21:08:36.511592",
     "status": "completed"
    },
    "tags": []
   },
   "outputs": [],
   "source": []
  },
  {
   "cell_type": "code",
   "execution_count": 54,
   "id": "7087488b",
   "metadata": {
    "execution": {
     "iopub.execute_input": "2022-06-22T21:08:36.573911Z",
     "iopub.status.busy": "2022-06-22T21:08:36.573280Z",
     "iopub.status.idle": "2022-06-22T21:08:36.882520Z",
     "shell.execute_reply": "2022-06-22T21:08:36.881435Z"
    },
    "id": "8-znGsAJmfPa",
    "outputId": "cb55c36e-aa65-46af-f820-ce5c0ace99e8",
    "papermill": {
     "duration": 0.332654,
     "end_time": "2022-06-22T21:08:36.884694",
     "exception": false,
     "start_time": "2022-06-22T21:08:36.552040",
     "status": "completed"
    },
    "tags": []
   },
   "outputs": [
    {
     "data": {
      "image/png": "[encoded data removed]",
      "text/plain": [
       "<Figure size 720x360 with 1 Axes>"
      ]
     },
     "metadata": {
      "needs_background": "light"
     },
     "output_type": "display_data"
    }
   ],
   "source": [
    "# scatter (gráfico de Dispersão)\n",
    "plt.scatter(p2_idade['Idade'],p2_idade['renda_media'], color='green')\n",
    "plt.title('Renda Média x Idade')\n",
    "plt.xlabel('Idade')\n",
    "plt.ylabel('Renda Média')\n",
    "plt.gcf().set_size_inches(10, 5)\n",
    "plt.show()"
   ]
  },
  {
   "cell_type": "code",
   "execution_count": null,
   "id": "c6eaf395",
   "metadata": {
    "id": "M9kn4jTwc2UG",
    "papermill": {
     "duration": 0.020554,
     "end_time": "2022-06-22T21:08:36.925801",
     "exception": false,
     "start_time": "2022-06-22T21:08:36.905247",
     "status": "completed"
    },
    "tags": []
   },
   "outputs": [],
   "source": []
  }
 ],
 "metadata": {
  "kernelspec": {
   "display_name": "Python 3",
   "language": "python",
   "name": "python3"
  },
  "language_info": {
   "codemirror_mode": {
    "name": "ipython",
    "version": 3
   },
   "file_extension": ".py",
   "mimetype": "text/x-python",
   "name": "python",
   "nbconvert_exporter": "python",
   "pygments_lexer": "ipython3",
   "version": "3.7.12"
  },
  "papermill": {
   "default_parameters": {},
   "duration": 16.867799,
   "end_time": "2022-06-22T21:08:37.569217",
   "environment_variables": {},
   "exception": null,
   "input_path": "__notebook__.ipynb",
   "output_path": "__notebook__.ipynb",
   "parameters": {},
   "start_time": "2022-06-22T21:08:20.701418",
   "version": "2.3.4"
  }
 },
 "nbformat": 4,
 "nbformat_minor": 5
}
