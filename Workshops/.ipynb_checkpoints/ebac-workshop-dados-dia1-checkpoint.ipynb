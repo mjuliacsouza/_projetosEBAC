{
 "cells": [
  {
   "cell_type": "markdown",
   "metadata": {
    "id": "nyFRqNp6rcUb"
   },
   "source": [
    "# **Fundamentos da Matemática para Análise de Dados**"
   ]
  },
  {
   "cell_type": "markdown",
   "metadata": {
    "id": "ZucrsatHq6_g"
   },
   "source": [
    "# *DIA 1 (21/06 das 19h às 21h)*\n",
    "\n",
    "\n",
    "---\n",
    "\n",
    "- PYTHON: Conceitos básicos.\n",
    "- PRINCIPAIS TIPOS DE DADOS: Numéricos, cadeia de caracteres, buleanos.\n",
    "- CONVERSÃO DE DADOS: Como consultar e modificar o tipo de um dado.\n",
    "- PEMDAS: Parêntesis, Exponenciação, Multiplicação, Divisão, Adição e Subtração.\n",
    "- AMOSTRA & POPULAÇÃO.\n",
    "- VARIÁVEIS QUANTITATIVAS E QUALITATIVAS.\n",
    "- LISTAS E DATAFRAMES."
   ]
  },
  {
   "cell_type": "markdown",
   "metadata": {
    "id": "2jgXPOC-umHF"
   },
   "source": [
    "### **Python**\n",
    "Para este workshop, a linguagem de programação que utilizaremos será o python. Esta linguagem pode ser usada para diversas finalidades como desenvolvimento web, desenvolvimento de aplicativos, automação de processos, aprendizado de máquina, entre outros. Nós o utilizaremos para manipulação, análise e visualização de dados.\n",
    "\n",
    "Antes de começar, vamos aprender algumas funcionalidades e regras do python:"
   ]
  },
  {
   "cell_type": "markdown",
   "metadata": {
    "id": "ft9gRG194tGM"
   },
   "source": [
    "#### - **DECLARAR UMA VARIÁVEL**"
   ]
  },
  {
   "cell_type": "code",
   "execution_count": 7,
   "metadata": {
    "id": "gm16xhJWvqZE",
    "outputId": "f9b9441c-d3e9-4f43-89b1-e71e87259847"
   },
   "outputs": [
    {
     "name": "stdout",
     "output_type": "stream",
     "text": [
      "8\n"
     ]
    }
   ],
   "source": [
    "## DECLARAR UMA VARIÁVEL\n",
    "\n",
    "''' Temos a liberdade de criar variáveis para serem reutilizadas ao longo do notebook. \n",
    "    Um exemplo seria criar uma variável de nome 'a' que represente o valor numérico 8\n",
    "'''\n",
    "\n",
    "a = 8\n",
    "\n",
    "''' Podemos então acessar este valor usando a função print()\n",
    "'''\n",
    "\n",
    "print(a)"
   ]
  },
  {
   "cell_type": "code",
   "execution_count": 9,
   "metadata": {
    "id": "d1pjQ8lt_AaN",
    "outputId": "949ce8f3-0771-4d43-fe20-cc314590cbe2"
   },
   "outputs": [
    {
     "ename": "SyntaxError",
     "evalue": "invalid syntax (1132883926.py, line 6)",
     "output_type": "error",
     "traceback": [
      "\u001b[1;36m  Input \u001b[1;32mIn [9]\u001b[1;36m\u001b[0m\n\u001b[1;33m    1a = 8    # Esta linha está ERRADA (SyntaxError: invalid syntax)\u001b[0m\n\u001b[1;37m     ^\u001b[0m\n\u001b[1;31mSyntaxError\u001b[0m\u001b[1;31m:\u001b[0m invalid syntax\n"
     ]
    }
   ],
   "source": [
    "''' ALERTA: Os nomes a serem utilizados para declarar uma variável \n",
    "    nunca podem começar com números ou caracteres especiais:\n",
    "'''\n",
    "\n",
    "a = 8     # Esta linha está CORRETA\n",
    "1a = 8    # Esta linha está ERRADA (SyntaxError: invalid syntax)\n",
    "-a = 8    # Esta linha está ERRADA (SyntaxError: invalid syntax)\n",
    "%a = 8    # Esta linha está ERRADA (SyntaxError: invalid syntax)\n",
    "_a = 8    # Esta linha está CORRETA (underline funtiona)"
   ]
  },
  {
   "cell_type": "code",
   "execution_count": null,
   "metadata": {
    "id": "dvrNDkrr2Jzu",
    "outputId": "0fcedd2d-9e09-4215-cb34-2626a30851fc"
   },
   "outputs": [],
   "source": [
    "# Outro exemplo (sem letras)\n",
    "\n",
    "_2011 = 14000\n",
    "print(_2011)"
   ]
  },
  {
   "cell_type": "markdown",
   "metadata": {
    "id": "dZzO4SZJ4_0F"
   },
   "source": [
    "#### - **PRINCIPAIS TIPOS DE DADOS**: Numéricos, cadeia de caracteres, buleanos"
   ]
  },
  {
   "cell_type": "code",
   "execution_count": null,
   "metadata": {
    "id": "y1_XX_9mxkwc"
   },
   "outputs": [],
   "source": [
    "''' Podemos criar variáveis de todos os tipos de dados:\n",
    "'''\n",
    "\n",
    "# Numérico\n",
    "''' INTEGER: Números inteiros.'''\n",
    "\n",
    "a = 8\n",
    "\n",
    "''' FLOAT: Ponto Flutuante: é um formato de representação digital de \n",
    "    números racionais, que é usada nos computadores.'''\n",
    "\n",
    "b = 5.2\n",
    "\n",
    "\n",
    "# Cadeia de caracteres (string)\n",
    "''' As cadeias de caracteres podem conter todos os tipos de caracteres, \n",
    "    incluindo letras, números e até caracteres especiais. Sempre quando\n",
    "    estejam entre aspas simples ou aspas duplas, serão interpretados \n",
    "    nesta categoria de string.'''\n",
    "\n",
    "g = 'palavra'\n",
    "h = '123456'\n",
    "i = 'AbC13'\n",
    "\n",
    "# Buleano\n",
    "''' O tipo buleano (boolean) se resume a Verdadeiro (True) e Falso (False).\n",
    "    Vale sempre lembrar que na sua forma numérica, o Falso é representado por 0\n",
    "    (zero) enquanto que o Verdadeiro é representado pelo número 1 (um).'''\n",
    "\n",
    "t = True\n",
    "f = False"
   ]
  },
  {
   "cell_type": "code",
   "execution_count": null,
   "metadata": {
    "id": "UvTQfGbPy8of",
    "outputId": "b6e73355-13e6-440c-cee1-b2af69f3d729"
   },
   "outputs": [],
   "source": [
    "''' Agora que declaramos algumas variávieis de tipos diferentes,\n",
    "    vamos apresentar cada uma delas por meio do print()\n",
    "'''\n",
    "\n",
    "# Numérico\n",
    "print(a)\n",
    "\n",
    "# Cadeia de caracteres\n",
    "print(i)\n",
    "\n",
    "# Buleano\n",
    "print(t)"
   ]
  },
  {
   "cell_type": "markdown",
   "metadata": {
    "id": "UNZfDSTf3J-Z"
   },
   "source": [
    "#### - **FAÇA VOCÊ MESMO**: Declare algumas variáveis com:"
   ]
  },
  {
   "cell_type": "code",
   "execution_count": null,
   "metadata": {
    "id": "lL9MMCkd3G7c"
   },
   "outputs": [],
   "source": [
    "# Seu nome (string)\n",
    "nome = 'RESPOSTA'\n",
    "\n",
    "# Sua idade (integer)\n",
    "idade = 'RESPOSTA'\n",
    "\n",
    "# Sua altura (float)\n",
    "altura = 'RESPOSTA'\n",
    "\n",
    "# Seu esporte favorito (string)\n",
    "esporte_favorito = 'RESPOSTA'\n",
    "\n",
    "# Se você está gostando do workshop até agora (boolean)\n",
    "gostando_ws = 'RESPOSTA'"
   ]
  },
  {
   "cell_type": "code",
   "execution_count": null,
   "metadata": {
    "id": "U_Bx4Dle4Uvc",
    "outputId": "285fbc3f-6d07-4b42-db3a-f04691518789"
   },
   "outputs": [],
   "source": [
    "# Agora, apresente todas essas variáveis usando o print()\n",
    "\n",
    "'RESPOSTA'"
   ]
  },
  {
   "cell_type": "markdown",
   "metadata": {
    "id": "sHnKApOM41r2"
   },
   "source": [
    "#### - **CONVERSÃO DE DADOS**: Como consultar e modificar o tipo de um dado."
   ]
  },
  {
   "cell_type": "code",
   "execution_count": null,
   "metadata": {
    "id": "cV4Rbg0Z9cBT",
    "outputId": "66e52498-9d50-4e95-e50f-6eec28aab4d7"
   },
   "outputs": [],
   "source": [
    "## Consultar o tipo da variável com a função type()\n",
    "\n",
    "''' Utilizando as mesmas variáveis que criamos anteriormente, \n",
    "    vamos consultar o tipo de cada uma delas para ver o que o python nos diz:\n",
    "    (utilizaremos a função type() para verificar o tipo da variável\n",
    "'''\n",
    "\n",
    "# Numérico\n",
    "a = 8\n",
    "b = 5.2\n",
    "\n",
    "# Cadeia de caracteres (string)\n",
    "g = 'palavra'\n",
    "h = '123456'\n",
    "i = 'AbC13'\n",
    "\n",
    "# Buleano\n",
    "t = True\n",
    "f = False\n",
    "\n",
    "print(a)\n",
    "print(type(a))\n",
    "\n",
    "print('---------')\n",
    "\n",
    "print(b)\n",
    "print(type(b))\n",
    "\n",
    "print('---------')\n",
    "\n",
    "print(h)\n",
    "print(type(h))\n",
    "\n",
    "print('---------')\n",
    "\n",
    "print(t)\n",
    "print(type(t))"
   ]
  },
  {
   "cell_type": "code",
   "execution_count": null,
   "metadata": {
    "id": "TtuWHZF7-oL1",
    "outputId": "c1f06d9d-0c5a-4357-d25e-15b87a4acb40"
   },
   "outputs": [],
   "source": [
    "## Converter de um tipo para outro.\n",
    "\n",
    "''' Como você pode notar, tivemos uma variável de nome 'h' \n",
    "    cujo valor era um número, porém seu tipo era 'string' (cadeia de caracteres)\n",
    "    por como ela foi declarada (usando aspas). Vamos então converter essa \n",
    "    variável aos diferentes tipos de dados que conhecemos até agora:\n",
    "'''\n",
    "h = '123456'\n",
    "\n",
    "# Print da variável 'h' na forma em que foi criada (str)\n",
    "print(h)\n",
    "print(type(h))\n",
    "\n",
    "print('---------')\n",
    "\n",
    "# h_int: De str para int (inteiro)\n",
    "h_int = int(h)\n",
    "print(h_int)\n",
    "print(type(h_int))\n",
    "\n",
    "print('---------')\n",
    "\n",
    "# h_float: De str para float (ponto flutuante/números racionais)\n",
    "h_float = float(h)\n",
    "print(h_float)\n",
    "print(type(h_float))\n",
    "\n",
    "print('---------')\n",
    "\n",
    "# h_bool: De str para bool (Buleano = True/False)\n",
    "''' O número 0 (zero) na sua forma buleana representa o falso (False).\n",
    "    Todos os outros números representam verdadeiro (True)\n",
    "'''\n",
    "h_bool = bool(h)\n",
    "print(h_bool)\n",
    "print(type(h_bool))"
   ]
  },
  {
   "cell_type": "markdown",
   "metadata": {
    "id": "5H2kWotr4wDm"
   },
   "source": [
    "#### - **PEMDAS**: Parêntesis, Exponenciação, Multiplicação, Divisão, Adição e Subtração.\n",
    "\n",
    "Agora vamos discutir as diferentes operações matemáticas e a ordem de prioridade quando aplicamos mais de uma delas em uma mesma linha de código."
   ]
  },
  {
   "cell_type": "code",
   "execution_count": null,
   "metadata": {
    "id": "XVgwF9xe5yvk",
    "outputId": "678ca0e6-3491-4d32-ef42-959dfe1f5d42"
   },
   "outputs": [],
   "source": [
    "############ Subtração: ############\n",
    "''' A subtração nada mais é do que a operação de restar um valor numérico de \n",
    "    outro, podendo resultar em um valor numérico positivo ou negativo.\n",
    "'''\n",
    "\n",
    "# Inteiros\n",
    "j = -10\n",
    "k = 20\n",
    "\n",
    "print(k-j)\n",
    "print(j-k)\n",
    "\n",
    "# Float\n",
    "m = 0.8\n",
    "o = -0.3\n",
    "\n",
    "print(m-o)\n",
    "print(o-m)"
   ]
  },
  {
   "cell_type": "code",
   "execution_count": null,
   "metadata": {
    "id": "cI_0CE-YBJ3c",
    "outputId": "a6b24ef7-8ef3-4f8a-c47c-c27519d622b7"
   },
   "outputs": [],
   "source": [
    "############ Adição: ############\n",
    "''' A adição nada mais é do que a operação de somar um valor numérico a outro, \n",
    "    podendo resultar em um valor numérico positivo ou negativa.\n",
    "'''\n",
    "\n",
    "# Inteiros\n",
    "j = -10\n",
    "k = 20\n",
    "\n",
    "print(k+j)\n",
    "print(j+k)\n",
    "\n",
    "# Float\n",
    "m = 0.8\n",
    "o = 0.3\n",
    "\n",
    "print(m+o)\n",
    "print(o+m)"
   ]
  },
  {
   "cell_type": "code",
   "execution_count": null,
   "metadata": {
    "id": "hxtw2C9eBKLQ",
    "outputId": "0163d436-0f08-4be6-fdfd-3f6d58826348"
   },
   "outputs": [],
   "source": [
    "############ Divisão: ############\n",
    "\n",
    "# Inteiros\n",
    "j = -10\n",
    "k = 20\n",
    "\n",
    "print(k/j)\n",
    "print(j/k)\n",
    "\n",
    "# Float\n",
    "m = 0.8\n",
    "o = 0.3\n",
    "\n",
    "print(m/o)\n",
    "print(o/m)"
   ]
  },
  {
   "cell_type": "code",
   "execution_count": null,
   "metadata": {
    "id": "FIHhoPSrBLSl",
    "outputId": "0f3c2265-9188-4d7c-acf8-4d0898278ed3"
   },
   "outputs": [],
   "source": [
    "############ Multiplicação: ############\n",
    "\n",
    "# Inteiros\n",
    "j = -10\n",
    "k = 20\n",
    "\n",
    "print(k*j)\n",
    "print(j*k)\n",
    "\n",
    "# Float\n",
    "m = 0.8\n",
    "o = 0.3\n",
    "\n",
    "print(m*o)\n",
    "print(o*m)"
   ]
  },
  {
   "cell_type": "code",
   "execution_count": 10,
   "metadata": {
    "id": "PYEqrSZ_CjZE",
    "outputId": "562d0921-95e7-4b7a-e686-04fde125ccce"
   },
   "outputs": [
    {
     "name": "stdout",
     "output_type": "stream",
     "text": [
      "64\n",
      "81\n",
      "0.9352484478226214\n",
      "0.3816778909618176\n"
     ]
    }
   ],
   "source": [
    "############ Exponenciação: ############\n",
    "\n",
    "# Inteiros\n",
    "j = 3\n",
    "k = 4\n",
    "\n",
    "print(k**j)\n",
    "print(j**k)\n",
    "\n",
    "# Float\n",
    "m = 0.8\n",
    "o = 0.3\n",
    "\n",
    "print(m**o)\n",
    "print(o**m)"
   ]
  },
  {
   "cell_type": "code",
   "execution_count": 11,
   "metadata": {
    "id": "wkQfJfjT7Exa",
    "outputId": "6f2df327-1e1d-4592-88d7-f6c4155a8101"
   },
   "outputs": [
    {
     "name": "stdout",
     "output_type": "stream",
     "text": [
      "1.0\n",
      "-1.5\n"
     ]
    }
   ],
   "source": [
    "############ Parêntesis: ############\n",
    "''' O parêntesis agrupa uma ou mais operações e a trata \n",
    "    prioritariamente em relação à qualquer outra operação na linha de código. \n",
    "    Quando há mais de um parêntesis, estes são tratados de forma independente.\n",
    "'''\n",
    "\n",
    "a = 2\n",
    "b = 4\n",
    "c = 0.5\n",
    "d = -2\n",
    "\n",
    "res_1 = a+b*c/d\n",
    "res_2 = ((a+b)*c)/d\n",
    "\n",
    "print(res_1)\n",
    "print(res_2)"
   ]
  },
  {
   "cell_type": "code",
   "execution_count": 12,
   "metadata": {
    "id": "bqxQtF0C58h-",
    "outputId": "fd9f3dec-798e-4de3-f8ac-4b158642f7f1"
   },
   "outputs": [
    {
     "name": "stdout",
     "output_type": "stream",
     "text": [
      "3.0\n"
     ]
    }
   ],
   "source": [
    "# Outro exemplo usando parênteses\n",
    "a = 2\n",
    "b = 4\n",
    "c = 0.5\n",
    "d = -2\n",
    "\n",
    "res_3 = (a+b)-(b/a)+(d*c)\n",
    "# (6)-(2)+(-1)\n",
    "# 6-2-1 = 3\n",
    "print(res_3)"
   ]
  },
  {
   "cell_type": "markdown",
   "metadata": {
    "id": "oQFtJCnCFru_"
   },
   "source": [
    "#### - **FAÇA VOCÊ MESMO**: Responda algumas perguntas a partir das variáveis que você declarou sobre você:"
   ]
  },
  {
   "cell_type": "code",
   "execution_count": 15,
   "metadata": {
    "id": "oDNYh3sOFlqV"
   },
   "outputs": [
    {
     "name": "stdout",
     "output_type": "stream",
     "text": [
      "Nicolas\n",
      "24\n",
      "160\n",
      "Rubiks cube\n",
      "sim\n"
     ]
    }
   ],
   "source": [
    "nome, idade, altura, esporte_favorito,gostando_ws = 'Nicolas', 24, 160, 'Rubiks cube', 'sim'\n",
    "\n",
    "# Seu nome (string)\n",
    "print(nome)\n",
    "\n",
    "# Sua idade (integer)\n",
    "print(idade)\n",
    "\n",
    "# Sua altura (float)\n",
    "print(altura)\n",
    "\n",
    "# Seu esporte favorito (string)\n",
    "print(esporte_favorito)\n",
    "\n",
    "# Se você está gostando do workshop até agora (boolean)\n",
    "print(gostando_ws)"
   ]
  },
  {
   "cell_type": "code",
   "execution_count": 16,
   "metadata": {
    "id": "PgNNjpwzGFDU"
   },
   "outputs": [],
   "source": [
    "# Quantos anos faltam para você atingir os 100 anos? (Aplique a operação matemática)\n"
   ]
  },
  {
   "cell_type": "code",
   "execution_count": 17,
   "metadata": {
    "id": "3c1rT5XyG1Wh"
   },
   "outputs": [],
   "source": [
    "# Calcule a sua idade ao quadrado:\n"
   ]
  },
  {
   "cell_type": "code",
   "execution_count": 18,
   "metadata": {
    "id": "QZZNtu9oG3Fl"
   },
   "outputs": [],
   "source": [
    "# Calcule a raiz quadrada da sua idade:\n"
   ]
  },
  {
   "cell_type": "code",
   "execution_count": 19,
   "metadata": {
    "id": "O9aXuEwuG5Mf"
   },
   "outputs": [],
   "source": [
    "# De quantos centimetros você precisaria para ter 2.5 metros?\n"
   ]
  },
  {
   "cell_type": "code",
   "execution_count": 20,
   "metadata": {
    "id": "CXPSnxxcHJ0d"
   },
   "outputs": [],
   "source": [
    "# Faça o print() de uma frase usando todas as variáveis criadas sobre você:\n"
   ]
  },
  {
   "cell_type": "markdown",
   "metadata": {
    "id": "8eu2daGeF7wl"
   },
   "source": [
    "### **POPULAÇÃO & AMOSTRA**\n",
    "\n",
    "Supanhamos que queremos fazer uma análise sobre a popularidade da cerveja entre os brasileiros. Queremos entender se a cerveja é a bebida preferida dos brasileiros e queremos entender também se existe uma marca de preferência. "
   ]
  },
  {
   "cell_type": "code",
   "execution_count": 21,
   "metadata": {
    "id": "4xD33LFiGCbL",
    "outputId": "47e0eb1e-e4c2-452f-bc0d-436dc2026b0e"
   },
   "outputs": [
    {
     "data": {
      "text/plain": [
       "' Imagine agora se fôssemos perguntar a todos os elementos\\n    da nossa população estatística, ou seja, todos os brasileiros que consomem\\n    bebidas alcoólicas no Brasil, qual é sua bebida de preferência e, caso seja \\n    cerveja, qual é a sua marca favorita. Claramente isto seria muito custoso,\\n    logo precisamos extrair uma porção que represente a população estatística.\\n    Esta porção se chama AMOSTRA e o processo de extrair esta porção se chama\\n    AMOSTRAGEM.\\n'"
      ]
     },
     "execution_count": 21,
     "metadata": {},
     "output_type": "execute_result"
    }
   ],
   "source": [
    "# População Geográfica\n",
    "''' Geograficamente falando, como diz o enunciado, seriam todos os brasileiros'''\n",
    "\n",
    "# População Estatística\n",
    "''' Sabemos que nem todos os brasileiros são elegíveis a participarem deste estudo,\n",
    "    ou seja, nem todos os brasileiros consomem bebidas alcoólicas, nem todos os\n",
    "    brasileiros são maiores de idade. \n",
    "    Dito isto, a população estatística sempre será menor que a população geográfica\n",
    "'''\n",
    "\n",
    "# Amostra\n",
    "''' Imagine agora se fôssemos perguntar a todos os elementos\n",
    "    da nossa população estatística, ou seja, todos os brasileiros que consomem\n",
    "    bebidas alcoólicas no Brasil, qual é sua bebida de preferência e, caso seja \n",
    "    cerveja, qual é a sua marca favorita. Claramente isto seria muito custoso,\n",
    "    logo precisamos extrair uma porção que represente a população estatística.\n",
    "    Esta porção se chama AMOSTRA e o processo de extrair esta porção se chama\n",
    "    AMOSTRAGEM.\n",
    "''' "
   ]
  },
  {
   "cell_type": "markdown",
   "metadata": {
    "id": "ikxQsPs6GCnI"
   },
   "source": [
    "### **VARIÁVEIS QUANTITATIVAS E QUALITATIVAS**\n",
    "\n",
    "As variáveis de um estudo ou análise podem ser classificadas entre variáveis QUANTITATIVAS e QUALITATIVAS"
   ]
  },
  {
   "cell_type": "code",
   "execution_count": 22,
   "metadata": {
    "id": "Uwr__ZOeGEN9"
   },
   "outputs": [
    {
     "data": {
      "text/plain": [
       "' Quando a variável qualitativa representa apenas uma característica de um \\n    elemento, chamamos de variável qualitativa NOMINAL.\\n    \\n    Por exemplo: Gênero musical, esporte.\\n'"
      ]
     },
     "execution_count": 22,
     "metadata": {},
     "output_type": "execute_result"
    }
   ],
   "source": [
    "############ VARIÁVEIS QUANTITATIVAS ############\n",
    "''' São aquelas variáveis que representam quandidades, ou seja, números usados\n",
    "    para medir alguma coisa. Estes números podem ser inteiros ou números \n",
    "    racionais (que contém casas decimais). \n",
    "'''\n",
    "\n",
    "## Variável Quantitativa Discreta \n",
    "''' Quando os números são inteiros chamamos a variável quantitativa de DISCRETA. \n",
    "    \n",
    "    Por exemplo: Idade, núumero de filhos, quantidade de tênis.\n",
    "'''\n",
    "\n",
    "## Variável Quantitativa Contínua \n",
    "''' Quando os números são racionais, ou seja, contém casas decimais a variável é \n",
    "    chamada de variável quantitativa CONTÍNUA. \n",
    "\n",
    "    Por exemplo: Altura, peso, distância percorrida.\n",
    "'''\n",
    "\n",
    "# ------------------------------------------------------------------------------\n",
    "\n",
    "############ VARIÁVEIS QUALITATIVAS ############\n",
    "''' São aquelas variáveis que representam categorias para descrever ou\n",
    "    identificar alguma coisa. Estas palavras podem ter uma ordem sequencial ou\n",
    "    hierarquica ou podem representar apenas uma característica. \n",
    "'''\n",
    "\n",
    "## Variável Qualitativa Ordinal \n",
    "''' Quando a variável qualitativa tem uma ordem sequencial, ou alguma\n",
    "    ordem específica atrelada, nós chamamos de variável qualitativa ORDINAL.\n",
    "    \n",
    "    Por exemplo: Nível de ensino, nível de experiência.\n",
    "'''\n",
    "\n",
    "## Variável Qualitativa Nominal \n",
    "''' Quando a variável qualitativa representa apenas uma característica de um \n",
    "    elemento, chamamos de variável qualitativa NOMINAL.\n",
    "    \n",
    "    Por exemplo: Gênero musical, esporte.\n",
    "'''"
   ]
  },
  {
   "cell_type": "markdown",
   "metadata": {
    "id": "cNq2tJ7z8w38"
   },
   "source": [
    "### **BIBLIOTECAS**\n",
    "\n",
    "Com os conceitos discutidos até o momento, vamos continuar com alguns dados fictícios e aplicar o conhecimento em uma escala maior. Para isso precisaremos importar algumas **bibliotecas** ao notebook e definir alguns conceitos novos.\n",
    "\n",
    "##### **- Mas o que são bibliotecas?**\n",
    "\n",
    "##### Uma biblioteca é uma coleção de recursos usada por programa de computador, ou seja, é um conjunto de funções que foram escritas e disponibilizadas por desenvolvedores. Neste workshop utilizaremos as bibliotecas: Numpy, Statistics, Matplotlib e principalmente Pandas.\n",
    "\n",
    "##### **- Pandas, Numpy, Statistics e Matplotlib**\n",
    "\n",
    "##### **Pandas**: Uma biblioteca que contém recursos utilizados para manipulação e análise de dados. Vamos utilizar também uma estrutura chamada Dataframe com esta biblioteca.\n",
    "\n",
    "##### **Numpy**: Uma biblioteca muito útil para execução de tarefas matemáticas em grande escala. Neste workshop, essa biblioteca vai nos ajudar a executar tarefas matemáticas no Dataframe.\n",
    "\n",
    "##### **Statistics**: Uma biblioteca que nos ajudará com as medidas de centralidade em uma escala menor.\n",
    "\n",
    "##### **Matplotlib**: Uma biblioteca muito utilizada para visualização de dados por meio de geração de gráficos 2D."
   ]
  },
  {
   "cell_type": "markdown",
   "metadata": {
    "id": "G2bsFdjYEyzo"
   },
   "source": [
    "### **- Como acessar essas bibliotecas?**\n",
    "##### Como primeiro passo do processo vamos importar (**import**) cada uma das bibliotecas e dar um pseudônimo (**alias**) para facilitar na hora de chamar as funções de cada uma dessas bibliotecas:"
   ]
  },
  {
   "cell_type": "code",
   "execution_count": 23,
   "metadata": {
    "id": "zAd5WoOt-IjL"
   },
   "outputs": [],
   "source": [
    "import pandas as pd\n",
    "import numpy as np\n",
    "import statistics as st\n",
    "import matplotlib.pyplot as plt"
   ]
  },
  {
   "cell_type": "markdown",
   "metadata": {
    "id": "oHiGj7HC-Ogb"
   },
   "source": [
    "Agora vamos utilizar a função **pd.read_csv()** para importar os dados ao notebook:"
   ]
  },
  {
   "cell_type": "code",
   "execution_count": 24,
   "metadata": {
    "id": "3xK4X4pa-Xfi"
   },
   "outputs": [],
   "source": [
    "url = \"https://raw.githubusercontent.com/rafands/ebac-course-content/main/amostra_ficticia.csv\" \n",
    "af = pd.read_csv(url, sep=';')"
   ]
  },
  {
   "cell_type": "markdown",
   "metadata": {
    "id": "ZV5qALpR-dmA"
   },
   "source": [
    "Podemos também validar a importação observando as primeiras linhas do arquivo utilizando **head()**"
   ]
  },
  {
   "cell_type": "code",
   "execution_count": 25,
   "metadata": {
    "id": "aVL6t0Bn-oOt",
    "outputId": "f0419a55-0283-4730-d749-a09e1565f209"
   },
   "outputs": [
    {
     "name": "stdout",
     "output_type": "stream",
     "text": [
      "   ID  IDADE  PESO  ALTURA\n",
      "0   1     26   112    1.80\n",
      "1   2     38    84    1.78\n",
      "2   3     36    67    1.60\n",
      "3   4     41   106    1.83\n",
      "4   5     36   106    1.72\n"
     ]
    }
   ],
   "source": [
    "# .head()\n",
    "\n",
    "print(af.head())"
   ]
  },
  {
   "cell_type": "markdown",
   "metadata": {
    "id": "pHFSzSJKBuv4"
   },
   "source": [
    "### **DATAFRAME**\n",
    "\n",
    "É uma estrutura de dados bidimensional, contendo linhas e colunas. Uma tabela de dados mutável, algo equivalente a uma planilha de excel. O PANDAS proporciona uma série de funcões que podemos utilizar para manipular essa estrutura, a função **'.head()'** sendo uma delas.\n",
    "\n",
    "Documentação: https://pandas.pydata.org/docs/reference/api/pandas.DataFrame.dtypes.html"
   ]
  },
  {
   "cell_type": "code",
   "execution_count": 26,
   "metadata": {
    "id": "H2tV6xjEBxg-",
    "outputId": "7eb508ec-675f-48ee-b650-3e4da79ecb3c"
   },
   "outputs": [
    {
     "name": "stdout",
     "output_type": "stream",
     "text": [
      "<class 'pandas.core.frame.DataFrame'>\n"
     ]
    }
   ],
   "source": [
    "print(type(af))"
   ]
  },
  {
   "cell_type": "markdown",
   "metadata": {
    "id": "1qc5-VfFJxfZ"
   },
   "source": [
    "### **LISTAS**\n",
    "Outra estrutura que precisaremos neste workshop são as listas. Uma lista é uma variável onde podemos armazenar multiplos valores/itens, não necessariamente do mesmo tipo. Estes itens são colocados entre colchetes [ ].\n",
    "\n",
    "***Não vamos nos aprofundar no tema de listas, mas vamos utilizar esta estrutura na hora de interagir com nosso Dataframe.***"
   ]
  },
  {
   "cell_type": "code",
   "execution_count": 27,
   "metadata": {
    "id": "OxQoZL0bK7zn",
    "outputId": "947c28b7-77ac-44c8-d0ea-35fa4be79893"
   },
   "outputs": [
    {
     "name": "stdout",
     "output_type": "stream",
     "text": [
      "[1, 2, 3, 4, 5, 6]\n",
      "<class 'list'>\n",
      "------------\n",
      "[1, 2, 3, 4, 5, 6]\n",
      "<class 'list'>\n"
     ]
    },
    {
     "data": {
      "text/plain": [
       "' Não vamos nos aprofundar no tema de listas, mas vamos utilizar esta\\n    estrutura na hora de interagir com nosso Dataframe.\\n'"
      ]
     },
     "execution_count": 27,
     "metadata": {},
     "output_type": "execute_result"
    }
   ],
   "source": [
    "# Exemplo de Lista (declarando uma nova variável chamada L)\n",
    "\n",
    "L = [1,2,3,4,5,6]\n",
    "print(L)\n",
    "print(type(L))\n",
    "\n",
    "# ou\n",
    "print('------------')\n",
    "\n",
    "LL = list([1,2,3,4,5,6])\n",
    "print(LL)\n",
    "print(type(LL))\n",
    "\n",
    "\n",
    "''' Não vamos nos aprofundar no tema de listas, mas vamos utilizar esta\n",
    "    estrutura na hora de interagir com nosso Dataframe.\n",
    "'''"
   ]
  },
  {
   "cell_type": "markdown",
   "metadata": {
    "id": "bGOrUG6NUObW"
   },
   "source": [
    "##### **Propriedades de um Dataframe**\n",
    "\n",
    "Existem algumas funções que podemos utilizar para entender algumas características do nosso Dataframe como: Nomes das colunas, quantidade de colunas e linhas, quantidade de elementos, tipos de dados, entre outros.\n",
    "(repare que as funções que descrevem propriedades do dataframe não tem nenhum parâmetro envolvido, ou seja, não haverão parênteses)"
   ]
  },
  {
   "cell_type": "code",
   "execution_count": 28,
   "metadata": {
    "id": "Qt6gS4T7NZpM",
    "outputId": "d791b333-d55f-4641-be40-eb3e45d4d4f4"
   },
   "outputs": [
    {
     "name": "stdout",
     "output_type": "stream",
     "text": [
      "Index(['ID', 'IDADE', 'PESO', 'ALTURA'], dtype='object')\n"
     ]
    }
   ],
   "source": [
    "# .columns\n",
    "''' Para ver todas as colunas existentes no nosso Dataframe 'af': \n",
    "'''\n",
    "\n",
    "print(af.columns)"
   ]
  },
  {
   "cell_type": "code",
   "execution_count": 29,
   "metadata": {
    "id": "oTv5Sf8QTuV8",
    "outputId": "3c5eeaa3-d15e-4cad-db8e-d0b28e2ea3df"
   },
   "outputs": [
    {
     "name": "stdout",
     "output_type": "stream",
     "text": [
      "(500, 4)\n"
     ]
    }
   ],
   "source": [
    "# .shape\n",
    "''' Para ver a quantidade de colunas e a quantidade de linhas: \n",
    "    (linhas, colunas)\n",
    "'''\n",
    "\n",
    "print(af.shape)"
   ]
  },
  {
   "cell_type": "code",
   "execution_count": 30,
   "metadata": {
    "id": "nqkL4HWlIKuv",
    "outputId": "89d70391-aa56-456f-e0fd-27b2cd0dd0e0"
   },
   "outputs": [
    {
     "name": "stdout",
     "output_type": "stream",
     "text": [
      "2000\n"
     ]
    }
   ],
   "source": [
    "# .size\n",
    "''' Para ver a quantidade de elementos no dataframe, ou seja,\n",
    "    quantidade de colunas x quantidade de linhas: \n",
    "'''\n",
    "\n",
    "print(af.size)"
   ]
  },
  {
   "cell_type": "code",
   "execution_count": 31,
   "metadata": {
    "id": "yF_kv7ynIKx_",
    "outputId": "5ebfecf9-5780-40fa-c5bb-ced7ef425092"
   },
   "outputs": [
    {
     "name": "stdout",
     "output_type": "stream",
     "text": [
      "ID          int64\n",
      "IDADE       int64\n",
      "PESO        int64\n",
      "ALTURA    float64\n",
      "dtype: object\n"
     ]
    }
   ],
   "source": [
    "# .dtype\n",
    "''' Para ver a quantidade de elementos no dataframe, ou seja,\n",
    "    quantidade de colunas x quantidade de linhas: \n",
    "'''\n",
    "\n",
    "print(af.dtypes)"
   ]
  },
  {
   "cell_type": "markdown",
   "metadata": {
    "id": "CiW3zcVbUyqG"
   },
   "source": [
    "##### **Métodos para um Dataframe**\n",
    "\n",
    "As funções que usamos para manipular ou visualizar o dataframe. Estas sim disponibilizam parâmetros que podemos passar para escolhermos o que queremos fazer com a função."
   ]
  },
  {
   "cell_type": "code",
   "execution_count": 32,
   "metadata": {
    "id": "xSjJEYoCMAMC",
    "outputId": "30af8904-b3f0-4292-fcb9-e03758e87e48"
   },
   "outputs": [
    {
     "name": "stdout",
     "output_type": "stream",
     "text": [
      "   ID  IDADE  PESO  ALTURA\n",
      "0   1     26   112    1.80\n",
      "1   2     38    84    1.78\n",
      "2   3     36    67    1.60\n",
      "3   4     41   106    1.83\n",
      "4   5     36   106    1.72\n",
      "5   6     27    82    1.95\n",
      "6   7     25    74    1.86\n"
     ]
    }
   ],
   "source": [
    "# .head()\n",
    "''' Trazer as primeiras 7 linhas do dataframe:\n",
    "'''\n",
    "\n",
    "print(af.head(7))"
   ]
  },
  {
   "cell_type": "code",
   "execution_count": 33,
   "metadata": {
    "id": "y1IS5TBpMAPW",
    "outputId": "ae02c001-2631-4709-b149-3e5dba26e845"
   },
   "outputs": [
    {
     "name": "stdout",
     "output_type": "stream",
     "text": [
      "      ID  IDADE  PESO  ALTURA\n",
      "497  498     45   125    1.76\n",
      "498  499     43   116    1.92\n",
      "499  500     40    87    1.71\n"
     ]
    }
   ],
   "source": [
    "# .tail()\n",
    "''' Trazer as últimas 3 linhas do dataframe:\n",
    "'''\n",
    "\n",
    "print(af.tail(3))"
   ]
  },
  {
   "cell_type": "code",
   "execution_count": 34,
   "metadata": {
    "id": "oOiN3RVBxYPq",
    "outputId": "7e73c7d1-b4db-48ae-ad91-88cfe7e46783"
   },
   "outputs": [
    {
     "name": "stdout",
     "output_type": "stream",
     "text": [
      "      ID  IDADE  PESO  ALTURA\n",
      "458  459     45   108    1.70\n",
      "30    31     45    78    1.73\n",
      "231  232     45   115    1.90\n",
      "454  455     45    96    1.97\n",
      "457  458     45    64    1.99\n"
     ]
    }
   ],
   "source": [
    "# .sort_values\n",
    "''' Trazer o Dataframe ordenado por Idade (em ordem decrescente)\n",
    "'''\n",
    "\n",
    "print(af.sort_values('IDADE', ascending=False).head())"
   ]
  },
  {
   "cell_type": "code",
   "execution_count": 35,
   "metadata": {
    "id": "XUr_UJ2FyCkq",
    "outputId": "8245ef2f-b90e-4df6-be9d-1b6e2b8461a4"
   },
   "outputs": [
    {
     "name": "stdout",
     "output_type": "stream",
     "text": [
      "      ID  IDADE  PESO  ALTURA\n",
      "317  318     45    62    1.97\n",
      "391  392     45    64    1.61\n",
      "457  458     45    64    1.99\n",
      "311  312     45    68    1.98\n",
      "30    31     45    78    1.73\n"
     ]
    }
   ],
   "source": [
    "# .sort_values\n",
    "''' Trazer o Dataframe ordenado por Idade (em ordem decrescente) \n",
    "    e Peso (em ordem crescente)\n",
    "'''\n",
    "\n",
    "print(af.sort_values(['IDADE','PESO'], ascending=[False,True]).head())"
   ]
  },
  {
   "cell_type": "code",
   "execution_count": 36,
   "metadata": {
    "id": "0bNMa-ZRMATp",
    "outputId": "5fb4cd90-effc-43b4-f609-70119be8f58a"
   },
   "outputs": [
    {
     "name": "stdout",
     "output_type": "stream",
     "text": [
      "   IDADE\n",
      "0     26\n",
      "1     38\n",
      "2     36\n",
      "3     41\n",
      "4     36\n"
     ]
    }
   ],
   "source": [
    "# Selecionando uma coluna específica\n",
    "''' Agora que descobrimos como acessar a lista de colunas disponíveis em um \n",
    "    dataframe, vamos selecionar apenas a coluna 'IDADE':\n",
    "'''\n",
    "\n",
    "af_IDADE = af[['IDADE']]\n",
    "\n",
    "print(af_IDADE.head())"
   ]
  },
  {
   "cell_type": "code",
   "execution_count": 37,
   "metadata": {
    "id": "1NTbaUqNMAcT",
    "outputId": "e9d70d23-9ca8-4b20-f09e-ddc9e833f0cf"
   },
   "outputs": [
    {
     "name": "stdout",
     "output_type": "stream",
     "text": [
      "   ALTURA  PESO\n",
      "0    1.80   112\n",
      "1    1.78    84\n",
      "2    1.60    67\n",
      "3    1.83   106\n",
      "4    1.72   106\n"
     ]
    }
   ],
   "source": [
    "# Selecionando colunas específicas\n",
    "''' Agora que descobrimos como acessar a lista de colunas disponíveis em um \n",
    "    dataframe, vamos selecionar apenas algumas colunas:\n",
    "'''\n",
    "\n",
    "af_CORPO = af[['ALTURA','PESO']]\n",
    "\n",
    "print(af_CORPO.head())"
   ]
  },
  {
   "cell_type": "code",
   "execution_count": 38,
   "metadata": {
    "id": "ZRu60I6iyvw0",
    "outputId": "6f7933e7-b16e-4228-ee45-9421c92d379f"
   },
   "outputs": [
    {
     "name": "stdout",
     "output_type": "stream",
     "text": [
      "   IDADE  PESO  ALTURA\n",
      "0     26   112    1.80\n",
      "1     38    84    1.78\n",
      "2     36    67    1.60\n",
      "3     41   106    1.83\n",
      "4     36   106    1.72\n"
     ]
    }
   ],
   "source": [
    "# .drop()\n",
    "\n",
    "''' Para eliminar uma ou mais colunas usamos a função drop()\n",
    "    Vamos eliminar a coluna 'ID' considerando que o dataframe já criou um \n",
    "    ID para cada linha quando importamos o arquivo:\n",
    "'''\n",
    "\n",
    "print(af.drop('ID',axis=1).head())"
   ]
  },
  {
   "cell_type": "code",
   "execution_count": 39,
   "metadata": {
    "id": "6kq4BJ2k0gHF",
    "outputId": "5d70f279-7f3a-4cac-afea-d02303af6447"
   },
   "outputs": [
    {
     "name": "stdout",
     "output_type": "stream",
     "text": [
      "   ID  IDADE  PESO  ALTURA  PESO_AJUSTADO\n",
      "0   1     26   112    1.80            122\n",
      "1   2     38    84    1.78             94\n",
      "2   3     36    67    1.60             77\n",
      "3   4     41   106    1.83            116\n",
      "4   5     36   106    1.72            116\n"
     ]
    }
   ],
   "source": [
    "# Incluir uma nova coluna\n",
    "\n",
    "''' Para incluir uma coluna no dataframe, devemos dar a ela um nome e o\n",
    "    o conteúdo com o qual queremos preencher essa nova coluna\n",
    "'''\n",
    "\n",
    "af[['PESO_AJUSTADO']] = af[['PESO']]+10\n",
    "print(af.head())"
   ]
  },
  {
   "cell_type": "code",
   "execution_count": 40,
   "metadata": {
    "id": "K7dd0_CP1Tc-",
    "outputId": "6de7ce7c-48d7-4532-e165-f515aa6bf6d8"
   },
   "outputs": [
    {
     "name": "stdout",
     "output_type": "stream",
     "text": [
      "   ID  IDADE  PESO  ALTURA  PESO_AJUSTADO  ALTURA_AJUSTADA\n",
      "0   1     26   112    1.80            122             1.76\n",
      "1   2     38    84    1.78             94             1.74\n",
      "2   3     36    67    1.60             77             1.56\n",
      "3   4     41   106    1.83            116             1.79\n",
      "4   5     36   106    1.72            116             1.68\n"
     ]
    }
   ],
   "source": [
    "# Incluir uma nova coluna\n",
    "\n",
    "''' Para incluir uma coluna no dataframe, devemos dar a ela um nome e o\n",
    "    o conteúdo com o qual queremos preencher essa nova coluna\n",
    "'''\n",
    "\n",
    "af[['ALTURA_AJUSTADA']] = af[['ALTURA']]-0.04\n",
    "print(af.head())"
   ]
  },
  {
   "cell_type": "code",
   "execution_count": 41,
   "metadata": {
    "id": "_0Txmi1VFKGH",
    "outputId": "8249d9c6-655c-4588-80dc-df5995a72e1b"
   },
   "outputs": [
    {
     "data": {
      "text/html": [
       "<div>\n",
       "<style scoped>\n",
       "    .dataframe tbody tr th:only-of-type {\n",
       "        vertical-align: middle;\n",
       "    }\n",
       "\n",
       "    .dataframe tbody tr th {\n",
       "        vertical-align: top;\n",
       "    }\n",
       "\n",
       "    .dataframe thead th {\n",
       "        text-align: right;\n",
       "    }\n",
       "</style>\n",
       "<table border=\"1\" class=\"dataframe\">\n",
       "  <thead>\n",
       "    <tr style=\"text-align: right;\">\n",
       "      <th></th>\n",
       "      <th>ID</th>\n",
       "      <th>idade</th>\n",
       "      <th>peso</th>\n",
       "      <th>altura</th>\n",
       "      <th>peso_ajustado</th>\n",
       "      <th>altura_ajustada</th>\n",
       "    </tr>\n",
       "  </thead>\n",
       "  <tbody>\n",
       "    <tr>\n",
       "      <th>0</th>\n",
       "      <td>1</td>\n",
       "      <td>26</td>\n",
       "      <td>112</td>\n",
       "      <td>1.80</td>\n",
       "      <td>122</td>\n",
       "      <td>1.76</td>\n",
       "    </tr>\n",
       "    <tr>\n",
       "      <th>1</th>\n",
       "      <td>2</td>\n",
       "      <td>38</td>\n",
       "      <td>84</td>\n",
       "      <td>1.78</td>\n",
       "      <td>94</td>\n",
       "      <td>1.74</td>\n",
       "    </tr>\n",
       "    <tr>\n",
       "      <th>2</th>\n",
       "      <td>3</td>\n",
       "      <td>36</td>\n",
       "      <td>67</td>\n",
       "      <td>1.60</td>\n",
       "      <td>77</td>\n",
       "      <td>1.56</td>\n",
       "    </tr>\n",
       "    <tr>\n",
       "      <th>3</th>\n",
       "      <td>4</td>\n",
       "      <td>41</td>\n",
       "      <td>106</td>\n",
       "      <td>1.83</td>\n",
       "      <td>116</td>\n",
       "      <td>1.79</td>\n",
       "    </tr>\n",
       "    <tr>\n",
       "      <th>4</th>\n",
       "      <td>5</td>\n",
       "      <td>36</td>\n",
       "      <td>106</td>\n",
       "      <td>1.72</td>\n",
       "      <td>116</td>\n",
       "      <td>1.68</td>\n",
       "    </tr>\n",
       "  </tbody>\n",
       "</table>\n",
       "</div>"
      ],
      "text/plain": [
       "   ID  idade  peso  altura  peso_ajustado  altura_ajustada\n",
       "0   1     26   112    1.80            122             1.76\n",
       "1   2     38    84    1.78             94             1.74\n",
       "2   3     36    67    1.60             77             1.56\n",
       "3   4     41   106    1.83            116             1.79\n",
       "4   5     36   106    1.72            116             1.68"
      ]
     },
     "execution_count": 41,
     "metadata": {},
     "output_type": "execute_result"
    }
   ],
   "source": [
    "# .rename()\n",
    "\n",
    "''' Podemos alterar o nome das colunas de um Dataframe.\n",
    "    Vamos supor que eu quero todas os nomes de colunas com letras minúsculas\n",
    "'''\n",
    "\n",
    "af.rename(columns={'IDADE':'idade',\n",
    "                   'PESO':'peso',\n",
    "                   'ALTURA':'altura',\n",
    "                   'PESO_AJUSTADO':'peso_ajustado',\n",
    "                   'ALTURA_AJUSTADA':'altura_ajustada'\n",
    "                   }\n",
    "          ).head()\n",
    "\n",
    "#af.head()"
   ]
  },
  {
   "cell_type": "code",
   "execution_count": 42,
   "metadata": {
    "id": "oT0JOptRjjag",
    "outputId": "6fdf953b-4996-4b7d-c314-993040379946"
   },
   "outputs": [
    {
     "data": {
      "text/html": [
       "<div>\n",
       "<style scoped>\n",
       "    .dataframe tbody tr th:only-of-type {\n",
       "        vertical-align: middle;\n",
       "    }\n",
       "\n",
       "    .dataframe tbody tr th {\n",
       "        vertical-align: top;\n",
       "    }\n",
       "\n",
       "    .dataframe thead th {\n",
       "        text-align: right;\n",
       "    }\n",
       "</style>\n",
       "<table border=\"1\" class=\"dataframe\">\n",
       "  <thead>\n",
       "    <tr style=\"text-align: right;\">\n",
       "      <th></th>\n",
       "      <th>ID</th>\n",
       "      <th>idade</th>\n",
       "      <th>peso</th>\n",
       "      <th>altura</th>\n",
       "      <th>peso_ajustado</th>\n",
       "      <th>altura_ajustada</th>\n",
       "    </tr>\n",
       "  </thead>\n",
       "  <tbody>\n",
       "    <tr>\n",
       "      <th>0</th>\n",
       "      <td>1</td>\n",
       "      <td>26</td>\n",
       "      <td>112</td>\n",
       "      <td>1.80</td>\n",
       "      <td>122</td>\n",
       "      <td>1.76</td>\n",
       "    </tr>\n",
       "    <tr>\n",
       "      <th>1</th>\n",
       "      <td>2</td>\n",
       "      <td>38</td>\n",
       "      <td>84</td>\n",
       "      <td>1.78</td>\n",
       "      <td>94</td>\n",
       "      <td>1.74</td>\n",
       "    </tr>\n",
       "    <tr>\n",
       "      <th>2</th>\n",
       "      <td>3</td>\n",
       "      <td>36</td>\n",
       "      <td>67</td>\n",
       "      <td>1.60</td>\n",
       "      <td>77</td>\n",
       "      <td>1.56</td>\n",
       "    </tr>\n",
       "    <tr>\n",
       "      <th>3</th>\n",
       "      <td>4</td>\n",
       "      <td>41</td>\n",
       "      <td>106</td>\n",
       "      <td>1.83</td>\n",
       "      <td>116</td>\n",
       "      <td>1.79</td>\n",
       "    </tr>\n",
       "    <tr>\n",
       "      <th>4</th>\n",
       "      <td>5</td>\n",
       "      <td>36</td>\n",
       "      <td>106</td>\n",
       "      <td>1.72</td>\n",
       "      <td>116</td>\n",
       "      <td>1.68</td>\n",
       "    </tr>\n",
       "  </tbody>\n",
       "</table>\n",
       "</div>"
      ],
      "text/plain": [
       "   ID  idade  peso  altura  peso_ajustado  altura_ajustada\n",
       "0   1     26   112    1.80            122             1.76\n",
       "1   2     38    84    1.78             94             1.74\n",
       "2   3     36    67    1.60             77             1.56\n",
       "3   4     41   106    1.83            116             1.79\n",
       "4   5     36   106    1.72            116             1.68"
      ]
     },
     "execution_count": 42,
     "metadata": {},
     "output_type": "execute_result"
    }
   ],
   "source": [
    "''' Para alterar permantemente o nome das colunas, temos que preencher de\n",
    "    forma explícita o parâmetro 'inplace' como True\n",
    "'''\n",
    "\n",
    "af.rename(columns={'IDADE':'idade',\n",
    "                   'PESO':'peso',\n",
    "                   'ALTURA':'altura',\n",
    "                   'PESO_AJUSTADO':'peso_ajustado',\n",
    "                   'ALTURA_AJUSTADA':'altura_ajustada'\n",
    "                   },\n",
    "          inplace=True\n",
    "          )\n",
    "\n",
    "af.head()"
   ]
  },
  {
   "cell_type": "markdown",
   "metadata": {
    "id": "vEXi0YU3lT9O"
   },
   "source": [
    "#***RECAP. DIA 1***\n",
    "\n",
    "\n",
    "---\n",
    "\n",
    "- PYTHON: Conceitos básicos.\n",
    "- PRINCIPAIS TIPOS DE DADOS: Numéricos, cadeia de caracteres, buleanos.\n",
    "- CONVERSÃO DE DADOS: Como consultar e modificar o tipo de um dado.\n",
    "- PEMDAS: Parentesis, Exponenciação, Multiplicação, Divisão, Adição e Subtração.\n",
    "- AMOSTRA & POPULAÇÃO.\n",
    "- VARIÁVEIS QUANTITATIVAS E QUALITATIVAS.\n",
    "- LISTAS E DATAFRAMES."
   ]
  },
  {
   "cell_type": "markdown",
   "metadata": {
    "id": "YWHe6OlLnBaQ"
   },
   "source": [
    "#### **Quer continuar praticando?**"
   ]
  },
  {
   "cell_type": "code",
   "execution_count": 43,
   "metadata": {
    "id": "pDCUpYSIlU3A",
    "outputId": "597c6b8a-0934-40c1-8a7e-bfc8aabcd372"
   },
   "outputs": [
    {
     "data": {
      "text/html": [
       "<div>\n",
       "<style scoped>\n",
       "    .dataframe tbody tr th:only-of-type {\n",
       "        vertical-align: middle;\n",
       "    }\n",
       "\n",
       "    .dataframe tbody tr th {\n",
       "        vertical-align: top;\n",
       "    }\n",
       "\n",
       "    .dataframe thead th {\n",
       "        text-align: right;\n",
       "    }\n",
       "</style>\n",
       "<table border=\"1\" class=\"dataframe\">\n",
       "  <thead>\n",
       "    <tr style=\"text-align: right;\">\n",
       "      <th></th>\n",
       "      <th>UF_CODE</th>\n",
       "      <th>UF</th>\n",
       "      <th>UF_alt</th>\n",
       "      <th>Sexo</th>\n",
       "      <th>Idade</th>\n",
       "      <th>Anos de Estudo</th>\n",
       "      <th>Renda</th>\n",
       "      <th>Altura</th>\n",
       "    </tr>\n",
       "  </thead>\n",
       "  <tbody>\n",
       "    <tr>\n",
       "      <th>0</th>\n",
       "      <td>11</td>\n",
       "      <td>Rondônia</td>\n",
       "      <td>Rondonia</td>\n",
       "      <td>Masculino</td>\n",
       "      <td>23</td>\n",
       "      <td>12</td>\n",
       "      <td>800</td>\n",
       "      <td>1.603808</td>\n",
       "    </tr>\n",
       "    <tr>\n",
       "      <th>1</th>\n",
       "      <td>11</td>\n",
       "      <td>Rondônia</td>\n",
       "      <td>Rondonia</td>\n",
       "      <td>Feminino</td>\n",
       "      <td>23</td>\n",
       "      <td>12</td>\n",
       "      <td>1150</td>\n",
       "      <td>1.739790</td>\n",
       "    </tr>\n",
       "    <tr>\n",
       "      <th>2</th>\n",
       "      <td>11</td>\n",
       "      <td>Rondônia</td>\n",
       "      <td>Rondonia</td>\n",
       "      <td>Feminino</td>\n",
       "      <td>35</td>\n",
       "      <td>15</td>\n",
       "      <td>880</td>\n",
       "      <td>1.760444</td>\n",
       "    </tr>\n",
       "    <tr>\n",
       "      <th>3</th>\n",
       "      <td>11</td>\n",
       "      <td>Rondônia</td>\n",
       "      <td>Rondonia</td>\n",
       "      <td>Masculino</td>\n",
       "      <td>46</td>\n",
       "      <td>6</td>\n",
       "      <td>3500</td>\n",
       "      <td>1.783158</td>\n",
       "    </tr>\n",
       "    <tr>\n",
       "      <th>4</th>\n",
       "      <td>11</td>\n",
       "      <td>Rondônia</td>\n",
       "      <td>Rondonia</td>\n",
       "      <td>Feminino</td>\n",
       "      <td>47</td>\n",
       "      <td>9</td>\n",
       "      <td>150</td>\n",
       "      <td>1.690631</td>\n",
       "    </tr>\n",
       "  </tbody>\n",
       "</table>\n",
       "</div>"
      ],
      "text/plain": [
       "   UF_CODE        UF    UF_alt       Sexo  Idade  Anos de Estudo  Renda  \\\n",
       "0       11  Rondônia  Rondonia  Masculino     23              12    800   \n",
       "1       11  Rondônia  Rondonia   Feminino     23              12   1150   \n",
       "2       11  Rondônia  Rondonia   Feminino     35              15    880   \n",
       "3       11  Rondônia  Rondonia  Masculino     46               6   3500   \n",
       "4       11  Rondônia  Rondonia   Feminino     47               9    150   \n",
       "\n",
       "     Altura  \n",
       "0  1.603808  \n",
       "1  1.739790  \n",
       "2  1.760444  \n",
       "3  1.783158  \n",
       "4  1.690631  "
      ]
     },
     "execution_count": 43,
     "metadata": {},
     "output_type": "execute_result"
    }
   ],
   "source": [
    "''' Aqui está uma outra fonte de dados, desta vez do mundo real, disponibilizados\n",
    "    pelo IBGE e encontrados no Kaggle, seguindo o link:\n",
    "    https://www.kaggle.com/datasets/upadorprofzs/testes\n",
    "'''\n",
    "\n",
    "# A seguir, vamos importar os dados\n",
    "\n",
    "url =  \"https://raw.githubusercontent.com/rafands/ebac-course-content/main/dados_IBGE_pessoas.csv\"  \n",
    "\n",
    "pessoas = pd.read_csv(url, sep=';')\n",
    "\n",
    "pessoas.head()"
   ]
  },
  {
   "cell_type": "code",
   "execution_count": 44,
   "metadata": {
    "id": "eC2FV4_VnHVS"
   },
   "outputs": [],
   "source": [
    "# Aplique seus conhecimentos nesse Dataframe!"
   ]
  },
  {
   "cell_type": "code",
   "execution_count": null,
   "metadata": {
    "id": "0lUJwLYhoB4H"
   },
   "outputs": [],
   "source": []
  }
 ],
 "metadata": {
  "kernelspec": {
   "display_name": "Python 3",
   "language": "python",
   "name": "python3"
  },
  "language_info": {
   "codemirror_mode": {
    "name": "ipython",
    "version": 3
   },
   "file_extension": ".py",
   "mimetype": "text/x-python",
   "name": "python",
   "nbconvert_exporter": "python",
   "pygments_lexer": "ipython3",
   "version": "3.8.5"
  }
 },
 "nbformat": 4,
 "nbformat_minor": 4
}
