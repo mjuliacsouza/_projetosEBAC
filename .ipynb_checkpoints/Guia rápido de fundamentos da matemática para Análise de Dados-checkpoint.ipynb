{
 "cells": [
  {
   "cell_type": "markdown",
   "id": "a972a296",
   "metadata": {},
   "source": [
    "# Guia rápido de fundamentos da matemática para Análise de Dados\n",
    "\n",
    "### EBAC Webinars - Workshop\n",
    "\n",
    "Aula 1 - 21/06/2022"
   ]
  },
  {
   "cell_type": "markdown",
   "id": "299c1c4a",
   "metadata": {},
   "source": [
    "# Habilidades para análise de dados\n",
    "\n",
    "- Conhecimento em matemática e estatística\n",
    "- Proatividade em resoluçã de problemas\n",
    "- Diferenciar dados válidos e cenários de exceção\n",
    "- Espírito de trabalho em equipe\n",
    "- Saber comunicar o resultados da análise\n",
    "\n",
    "# Curso de hoje\n",
    "- Fundamentos da Matemática\n",
    "- Principais operações\n",
    "- Análise e feedback ao vivo dos desafios"
   ]
  }
 ],
 "metadata": {
  "kernelspec": {
   "display_name": "Python 3",
   "language": "python",
   "name": "python3"
  },
  "language_info": {
   "codemirror_mode": {
    "name": "ipython",
    "version": 3
   },
   "file_extension": ".py",
   "mimetype": "text/x-python",
   "name": "python",
   "nbconvert_exporter": "python",
   "pygments_lexer": "ipython3",
   "version": "3.8.5"
  }
 },
 "nbformat": 4,
 "nbformat_minor": 5
}
