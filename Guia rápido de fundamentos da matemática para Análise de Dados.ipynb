{
 "cells": [
  {
   "cell_type": "markdown",
   "id": "775f4a86",
   "metadata": {},
   "source": [
    "# Guia rápido de fundamentos da matemática para Análise de Dados\n",
    "\n",
    "## EBAC Webinars - Workshop\n",
    "\n",
    "### Aula 1 - 21/06/2022"
   ]
  },
  {
   "cell_type": "code",
   "execution_count": null,
   "id": "6bcee8a8",
   "metadata": {},
   "outputs": [],
   "source": []
  }
 ],
 "metadata": {
  "kernelspec": {
   "display_name": "Python 3",
   "language": "python",
   "name": "python3"
  },
  "language_info": {
   "codemirror_mode": {
    "name": "ipython",
    "version": 3
   },
   "file_extension": ".py",
   "mimetype": "text/x-python",
   "name": "python",
   "nbconvert_exporter": "python",
   "pygments_lexer": "ipython3",
   "version": "3.8.5"
  }
 },
 "nbformat": 4,
 "nbformat_minor": 5
}
