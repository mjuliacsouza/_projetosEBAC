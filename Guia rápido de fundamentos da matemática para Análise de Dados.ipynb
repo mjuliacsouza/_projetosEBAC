{
 "cells": [
  {
   "cell_type": "markdown",
   "id": "5da1672d",
   "metadata": {},
   "source": [
    "# Guia rápido de fundamentos da matemática para Análise de Dados\n",
    "\n",
    "### EBAC Webinars - Workshop\n",
    "\n",
    "Aula 1 - 21/06/2022"
   ]
  },
  {
   "cell_type": "markdown",
   "id": "2545dae3",
   "metadata": {},
   "source": [
    "## Habilidades para análise de dados\n",
    "\n",
    "- Conhecimento em matemática e estatística\n",
    "- Proatividade em resoluçã de problemas\n",
    "- Diferenciar dados válidos e cenários de exceção\n",
    "- Espírito de trabalho em equipe\n",
    "- Saber comunicar o resultados da análise\n",
    "\n",
    "## Curso de hoje\n",
    "1. Fundamentos da Matemática\n",
    "    - PEMDAS: Parêntesis, Exponenciação, Multiplicação, Divisão, Adição e Subtração\n",
    "    - Principais tipos de Dados: Numéricos, cadeia de caracteres, buleanos\n",
    "    - Conversão de dados: Como consultar e modificar o tipo de um dado\n",
    "    - Amostra & População\n",
    "    - Variáveis Quantitativas e Qualitativas\n",
    "2. Principais operações\n",
    "    - Medidas de Centralidade: Moda, média e mediana.\n",
    "    - Desvio padrão e Variância.\n",
    "    - Principais visualizações de Dados\n",
    "    - Desafio para exercitar seus novos conhecimentos\n",
    "3. Análise e feedback ao vivo dos desafios\n",
    "    - Acompanhe a análise ao vivo dos desafios enviados pelos participantes\n",
    "    - Tire todas as suas dúvidas sobre o workshop com o professor\n",
    "    - Anúncio da pessoa sortuda selecionada para a bolsa de estudos\n",
    "    - Presente surpresa especial da EBAC!"
   ]
  },
  {
   "cell_type": "markdown",
   "id": "5ccf4786",
   "metadata": {},
   "source": [
    "# 1. Fundamentos da Matemática"
   ]
  }
 ],
 "metadata": {
  "kernelspec": {
   "display_name": "Python 3",
   "language": "python",
   "name": "python3"
  },
  "language_info": {
   "codemirror_mode": {
    "name": "ipython",
    "version": 3
   },
   "file_extension": ".py",
   "mimetype": "text/x-python",
   "name": "python",
   "nbconvert_exporter": "python",
   "pygments_lexer": "ipython3",
   "version": "3.8.5"
  }
 },
 "nbformat": 4,
 "nbformat_minor": 5
}
