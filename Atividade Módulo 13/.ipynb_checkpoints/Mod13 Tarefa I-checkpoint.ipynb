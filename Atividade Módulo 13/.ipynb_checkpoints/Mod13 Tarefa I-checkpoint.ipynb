{
 "cells": [
  {
   "cell_type": "markdown",
   "metadata": {},
   "source": [
    "# EBAC - Regressão II - regressão múltipla\n",
    "\n",
    "## Tarefa I"
   ]
  },
  {
   "cell_type": "markdown",
   "metadata": {},
   "source": [
    "#### Previsão de renda\n",
    "\n",
    "Vamos trabalhar com a base 'previsao_de_renda.csv', que é a base do seu próximo projeto. Vamos usar os recursos que vimos até aqui nesta base.\n",
    "\n",
    "|variavel|descrição|\n",
    "|-|-|\n",
    "|data_ref                | Data de referência de coleta das variáveis |\n",
    "|index                   | Código de identificação do cliente|\n",
    "|sexo                    | Sexo do cliente|\n",
    "|posse_de_veiculo        | Indica se o cliente possui veículo|\n",
    "|posse_de_imovel         | Indica se o cliente possui imóvel|\n",
    "|qtd_filhos              | Quantidade de filhos do cliente|\n",
    "|tipo_renda              | Tipo de renda do cliente|\n",
    "|educacao                | Grau de instrução do cliente|\n",
    "|estado_civil            | Estado civil do cliente|\n",
    "|tipo_residencia         | Tipo de residência do cliente (própria, alugada etc)|\n",
    "|idade                   | Idade do cliente|\n",
    "|tempo_emprego           | Tempo no emprego atual|\n",
    "|qt_pessoas_residencia   | Quantidade de pessoas que moram na residência|\n",
    "|renda                   | Renda em reais|"
   ]
  },
  {
   "cell_type": "code",
   "execution_count": 4,
   "metadata": {},
   "outputs": [],
   "source": [
    "import pandas as pd\n",
    "import numpy as np\n",
    "import seaborn as sns\n",
    "import matplotlib.pyplot as plt\n",
    "\n",
    "import statsmodels.formula.api as smf\n",
    "import statsmodels.api as sm\n",
    "import patsy"
   ]
  },
  {
   "cell_type": "code",
   "execution_count": 13,
   "metadata": {},
   "outputs": [],
   "source": [
    "df = pd.read_csv('previsao_de_renda.csv', parse_dates=['data_ref'])"
   ]
  },
  {
   "cell_type": "code",
   "execution_count": 14,
   "metadata": {},
   "outputs": [
    {
     "name": "stdout",
     "output_type": "stream",
     "text": [
      "<class 'pandas.core.frame.DataFrame'>\n",
      "RangeIndex: 15000 entries, 0 to 14999\n",
      "Data columns (total 15 columns):\n",
      " #   Column                 Non-Null Count  Dtype         \n",
      "---  ------                 --------------  -----         \n",
      " 0   Unnamed: 0             15000 non-null  int64         \n",
      " 1   data_ref               15000 non-null  datetime64[ns]\n",
      " 2   id_cliente             15000 non-null  int64         \n",
      " 3   sexo                   15000 non-null  object        \n",
      " 4   posse_de_veiculo       15000 non-null  bool          \n",
      " 5   posse_de_imovel        15000 non-null  bool          \n",
      " 6   qtd_filhos             15000 non-null  int64         \n",
      " 7   tipo_renda             15000 non-null  object        \n",
      " 8   educacao               15000 non-null  object        \n",
      " 9   estado_civil           15000 non-null  object        \n",
      " 10  tipo_residencia        15000 non-null  object        \n",
      " 11  idade                  15000 non-null  int64         \n",
      " 12  tempo_emprego          12427 non-null  float64       \n",
      " 13  qt_pessoas_residencia  15000 non-null  float64       \n",
      " 14  renda                  15000 non-null  float64       \n",
      "dtypes: bool(2), datetime64[ns](1), float64(3), int64(4), object(5)\n",
      "memory usage: 1.5+ MB\n"
     ]
    }
   ],
   "source": [
    "df.info()"
   ]
  },
  {
   "cell_type": "markdown",
   "metadata": {},
   "source": [
    "1. Ajuste um modelo para prever log(renda) considerando todas as covariáveis disponíveis.\n",
    "    - Utilizando os recursos do Patsy, coloque as variáveis qualitativas como *dummies*.\n",
    "    - Mantenha sempre a categoria mais frequente como casela de referência\n",
    "    - Avalie os parâmetros e veja se parecem fazer sentido prático.\n",
    "\n",
    "2. Remova a variável menos significante e analise:\n",
    "    - Observe os indicadores que vimos, e avalie se o modelo melhorou ou piorou na sua opinião.\n",
    "    - Observe os parâmetros e veja se algum se alterou muito.\n",
    "\n",
    "3. Siga removendo as variáveis menos significantes, sempre que o *p-value* for menor que 5%. Compare o modelo final com o inicial. Observe os indicadores e conclua se o modelo parece melhor. \n",
    "    "
   ]
  },
  {
   "cell_type": "markdown",
   "metadata": {},
   "source": [
    "# 1"
   ]
  },
  {
   "cell_type": "code",
   "execution_count": 16,
   "metadata": {},
   "outputs": [
    {
     "data": {
      "text/html": [
       "<div>\n",
       "<style scoped>\n",
       "    .dataframe tbody tr th:only-of-type {\n",
       "        vertical-align: middle;\n",
       "    }\n",
       "\n",
       "    .dataframe tbody tr th {\n",
       "        vertical-align: top;\n",
       "    }\n",
       "\n",
       "    .dataframe thead th {\n",
       "        text-align: right;\n",
       "    }\n",
       "</style>\n",
       "<table border=\"1\" class=\"dataframe\">\n",
       "  <thead>\n",
       "    <tr style=\"text-align: right;\">\n",
       "      <th></th>\n",
       "      <th>sexo</th>\n",
       "      <th>tipo_renda</th>\n",
       "      <th>educacao</th>\n",
       "      <th>estado_civil</th>\n",
       "      <th>tipo_residencia</th>\n",
       "    </tr>\n",
       "  </thead>\n",
       "  <tbody>\n",
       "    <tr>\n",
       "      <th>0</th>\n",
       "      <td>F</td>\n",
       "      <td>Empresário</td>\n",
       "      <td>Secundário</td>\n",
       "      <td>Solteiro</td>\n",
       "      <td>Casa</td>\n",
       "    </tr>\n",
       "    <tr>\n",
       "      <th>1</th>\n",
       "      <td>M</td>\n",
       "      <td>Assalariado</td>\n",
       "      <td>Superior completo</td>\n",
       "      <td>Casado</td>\n",
       "      <td>Casa</td>\n",
       "    </tr>\n",
       "    <tr>\n",
       "      <th>2</th>\n",
       "      <td>F</td>\n",
       "      <td>Empresário</td>\n",
       "      <td>Superior completo</td>\n",
       "      <td>Casado</td>\n",
       "      <td>Casa</td>\n",
       "    </tr>\n",
       "    <tr>\n",
       "      <th>3</th>\n",
       "      <td>F</td>\n",
       "      <td>Servidor público</td>\n",
       "      <td>Superior completo</td>\n",
       "      <td>Casado</td>\n",
       "      <td>Casa</td>\n",
       "    </tr>\n",
       "    <tr>\n",
       "      <th>4</th>\n",
       "      <td>M</td>\n",
       "      <td>Assalariado</td>\n",
       "      <td>Secundário</td>\n",
       "      <td>Solteiro</td>\n",
       "      <td>Governamental</td>\n",
       "    </tr>\n",
       "  </tbody>\n",
       "</table>\n",
       "</div>"
      ],
      "text/plain": [
       "  sexo        tipo_renda           educacao estado_civil tipo_residencia\n",
       "0    F        Empresário         Secundário     Solteiro            Casa\n",
       "1    M       Assalariado  Superior completo       Casado            Casa\n",
       "2    F        Empresário  Superior completo       Casado            Casa\n",
       "3    F  Servidor público  Superior completo       Casado            Casa\n",
       "4    M       Assalariado         Secundário     Solteiro   Governamental"
      ]
     },
     "execution_count": 16,
     "metadata": {},
     "output_type": "execute_result"
    }
   ],
   "source": [
    "# selecionando variáveis qualitativas\n",
    "var_qual = df.select_dtypes(include='object')\n",
    "var_qual.head()"
   ]
  },
  {
   "cell_type": "code",
   "execution_count": 27,
   "metadata": {},
   "outputs": [
    {
     "data": {
      "image/png": "[encoded data removed]",
      "text/plain": [
       "<Figure size 432x288 with 1 Axes>"
      ]
     },
     "metadata": {
      "needs_background": "light"
     },
     "output_type": "display_data"
    }
   ],
   "source": [
    "# exemplo de variável qualitativa - tipo_renda\n",
    "sns.pointplot(y = 'renda', x = 'tipo_renda', data = df)\n",
    "plt.xticks(rotation=45);"
   ]
  }
 ],
 "metadata": {
  "kernelspec": {
   "display_name": "Python 3",
   "language": "python",
   "name": "python3"
  },
  "language_info": {
   "codemirror_mode": {
    "name": "ipython",
    "version": 3
   },
   "file_extension": ".py",
   "mimetype": "text/x-python",
   "name": "python",
   "nbconvert_exporter": "python",
   "pygments_lexer": "ipython3",
   "version": "3.8.5"
  }
 },
 "nbformat": 4,
 "nbformat_minor": 4
}
