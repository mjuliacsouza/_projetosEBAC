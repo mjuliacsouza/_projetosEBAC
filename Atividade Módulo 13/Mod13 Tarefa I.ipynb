{
 "cells": [
  {
   "cell_type": "markdown",
   "metadata": {},
   "source": [
    "# EBAC - Regressão II - regressão múltipla\n",
    "\n",
    "## Tarefa I"
   ]
  },
  {
   "cell_type": "markdown",
   "metadata": {},
   "source": [
    "#### Previsão de renda\n",
    "\n",
    "Vamos trabalhar com a base 'previsao_de_renda.csv', que é a base do seu próximo projeto. Vamos usar os recursos que vimos até aqui nesta base.\n",
    "\n",
    "|variavel|descrição|\n",
    "|-|-|\n",
    "|data_ref                | Data de referência de coleta das variáveis |\n",
    "|index                   | Código de identificação do cliente|\n",
    "|sexo                    | Sexo do cliente|\n",
    "|posse_de_veiculo        | Indica se o cliente possui veículo|\n",
    "|posse_de_imovel         | Indica se o cliente possui imóvel|\n",
    "|qtd_filhos              | Quantidade de filhos do cliente|\n",
    "|tipo_renda              | Tipo de renda do cliente|\n",
    "|educacao                | Grau de instrução do cliente|\n",
    "|estado_civil            | Estado civil do cliente|\n",
    "|tipo_residencia         | Tipo de residência do cliente (própria, alugada etc)|\n",
    "|idade                   | Idade do cliente|\n",
    "|tempo_emprego           | Tempo no emprego atual|\n",
    "|qt_pessoas_residencia   | Quantidade de pessoas que moram na residência|\n",
    "|renda                   | Renda em reais|"
   ]
  },
  {
   "cell_type": "code",
   "execution_count": 4,
   "metadata": {},
   "outputs": [],
   "source": [
    "import pandas as pd\n",
    "import numpy as np\n",
    "import seaborn as sns\n",
    "import matplotlib.pyplot as plt\n",
    "\n",
    "import statsmodels.formula.api as smf\n",
    "import statsmodels.api as sm\n",
    "import patsy"
   ]
  },
  {
   "cell_type": "code",
   "execution_count": 72,
   "metadata": {},
   "outputs": [],
   "source": [
    "df = pd.read_csv('previsao_de_renda.csv', parse_dates=['data_ref'])\n",
    "df.drop('Unnamed: 0', axis=1, inplace=True)"
   ]
  },
  {
   "cell_type": "code",
   "execution_count": 73,
   "metadata": {},
   "outputs": [
    {
     "data": {
      "text/html": [
       "<div>\n",
       "<style scoped>\n",
       "    .dataframe tbody tr th:only-of-type {\n",
       "        vertical-align: middle;\n",
       "    }\n",
       "\n",
       "    .dataframe tbody tr th {\n",
       "        vertical-align: top;\n",
       "    }\n",
       "\n",
       "    .dataframe thead th {\n",
       "        text-align: right;\n",
       "    }\n",
       "</style>\n",
       "<table border=\"1\" class=\"dataframe\">\n",
       "  <thead>\n",
       "    <tr style=\"text-align: right;\">\n",
       "      <th></th>\n",
       "      <th>data_ref</th>\n",
       "      <th>id_cliente</th>\n",
       "      <th>sexo</th>\n",
       "      <th>posse_de_veiculo</th>\n",
       "      <th>posse_de_imovel</th>\n",
       "      <th>qtd_filhos</th>\n",
       "      <th>tipo_renda</th>\n",
       "      <th>educacao</th>\n",
       "      <th>estado_civil</th>\n",
       "      <th>tipo_residencia</th>\n",
       "      <th>idade</th>\n",
       "      <th>tempo_emprego</th>\n",
       "      <th>qt_pessoas_residencia</th>\n",
       "      <th>renda</th>\n",
       "    </tr>\n",
       "  </thead>\n",
       "  <tbody>\n",
       "    <tr>\n",
       "      <th>0</th>\n",
       "      <td>2015-01-01</td>\n",
       "      <td>15056</td>\n",
       "      <td>F</td>\n",
       "      <td>False</td>\n",
       "      <td>True</td>\n",
       "      <td>0</td>\n",
       "      <td>Empresário</td>\n",
       "      <td>Secundário</td>\n",
       "      <td>Solteiro</td>\n",
       "      <td>Casa</td>\n",
       "      <td>26</td>\n",
       "      <td>6.602740</td>\n",
       "      <td>1.0</td>\n",
       "      <td>8060.34</td>\n",
       "    </tr>\n",
       "    <tr>\n",
       "      <th>1</th>\n",
       "      <td>2015-01-01</td>\n",
       "      <td>9968</td>\n",
       "      <td>M</td>\n",
       "      <td>True</td>\n",
       "      <td>True</td>\n",
       "      <td>0</td>\n",
       "      <td>Assalariado</td>\n",
       "      <td>Superior completo</td>\n",
       "      <td>Casado</td>\n",
       "      <td>Casa</td>\n",
       "      <td>28</td>\n",
       "      <td>7.183562</td>\n",
       "      <td>2.0</td>\n",
       "      <td>1852.15</td>\n",
       "    </tr>\n",
       "    <tr>\n",
       "      <th>2</th>\n",
       "      <td>2015-01-01</td>\n",
       "      <td>4312</td>\n",
       "      <td>F</td>\n",
       "      <td>True</td>\n",
       "      <td>True</td>\n",
       "      <td>0</td>\n",
       "      <td>Empresário</td>\n",
       "      <td>Superior completo</td>\n",
       "      <td>Casado</td>\n",
       "      <td>Casa</td>\n",
       "      <td>35</td>\n",
       "      <td>0.838356</td>\n",
       "      <td>2.0</td>\n",
       "      <td>2253.89</td>\n",
       "    </tr>\n",
       "    <tr>\n",
       "      <th>3</th>\n",
       "      <td>2015-01-01</td>\n",
       "      <td>10639</td>\n",
       "      <td>F</td>\n",
       "      <td>False</td>\n",
       "      <td>True</td>\n",
       "      <td>1</td>\n",
       "      <td>Servidor público</td>\n",
       "      <td>Superior completo</td>\n",
       "      <td>Casado</td>\n",
       "      <td>Casa</td>\n",
       "      <td>30</td>\n",
       "      <td>4.846575</td>\n",
       "      <td>3.0</td>\n",
       "      <td>6600.77</td>\n",
       "    </tr>\n",
       "    <tr>\n",
       "      <th>4</th>\n",
       "      <td>2015-01-01</td>\n",
       "      <td>7064</td>\n",
       "      <td>M</td>\n",
       "      <td>True</td>\n",
       "      <td>False</td>\n",
       "      <td>0</td>\n",
       "      <td>Assalariado</td>\n",
       "      <td>Secundário</td>\n",
       "      <td>Solteiro</td>\n",
       "      <td>Governamental</td>\n",
       "      <td>33</td>\n",
       "      <td>4.293151</td>\n",
       "      <td>1.0</td>\n",
       "      <td>6475.97</td>\n",
       "    </tr>\n",
       "  </tbody>\n",
       "</table>\n",
       "</div>"
      ],
      "text/plain": [
       "    data_ref  id_cliente sexo  posse_de_veiculo  posse_de_imovel  qtd_filhos  \\\n",
       "0 2015-01-01       15056    F             False             True           0   \n",
       "1 2015-01-01        9968    M              True             True           0   \n",
       "2 2015-01-01        4312    F              True             True           0   \n",
       "3 2015-01-01       10639    F             False             True           1   \n",
       "4 2015-01-01        7064    M              True            False           0   \n",
       "\n",
       "         tipo_renda           educacao estado_civil tipo_residencia  idade  \\\n",
       "0        Empresário         Secundário     Solteiro            Casa     26   \n",
       "1       Assalariado  Superior completo       Casado            Casa     28   \n",
       "2        Empresário  Superior completo       Casado            Casa     35   \n",
       "3  Servidor público  Superior completo       Casado            Casa     30   \n",
       "4       Assalariado         Secundário     Solteiro   Governamental     33   \n",
       "\n",
       "   tempo_emprego  qt_pessoas_residencia    renda  \n",
       "0       6.602740                    1.0  8060.34  \n",
       "1       7.183562                    2.0  1852.15  \n",
       "2       0.838356                    2.0  2253.89  \n",
       "3       4.846575                    3.0  6600.77  \n",
       "4       4.293151                    1.0  6475.97  "
      ]
     },
     "execution_count": 73,
     "metadata": {},
     "output_type": "execute_result"
    }
   ],
   "source": [
    "df.head()"
   ]
  },
  {
   "cell_type": "code",
   "execution_count": 74,
   "metadata": {},
   "outputs": [
    {
     "name": "stdout",
     "output_type": "stream",
     "text": [
      "<class 'pandas.core.frame.DataFrame'>\n",
      "RangeIndex: 15000 entries, 0 to 14999\n",
      "Data columns (total 14 columns):\n",
      " #   Column                 Non-Null Count  Dtype         \n",
      "---  ------                 --------------  -----         \n",
      " 0   data_ref               15000 non-null  datetime64[ns]\n",
      " 1   id_cliente             15000 non-null  int64         \n",
      " 2   sexo                   15000 non-null  object        \n",
      " 3   posse_de_veiculo       15000 non-null  bool          \n",
      " 4   posse_de_imovel        15000 non-null  bool          \n",
      " 5   qtd_filhos             15000 non-null  int64         \n",
      " 6   tipo_renda             15000 non-null  object        \n",
      " 7   educacao               15000 non-null  object        \n",
      " 8   estado_civil           15000 non-null  object        \n",
      " 9   tipo_residencia        15000 non-null  object        \n",
      " 10  idade                  15000 non-null  int64         \n",
      " 11  tempo_emprego          12427 non-null  float64       \n",
      " 12  qt_pessoas_residencia  15000 non-null  float64       \n",
      " 13  renda                  15000 non-null  float64       \n",
      "dtypes: bool(2), datetime64[ns](1), float64(3), int64(3), object(5)\n",
      "memory usage: 1.4+ MB\n"
     ]
    }
   ],
   "source": [
    "df.info()"
   ]
  },
  {
   "cell_type": "markdown",
   "metadata": {},
   "source": [
    "1. Ajuste um modelo para prever log(renda) considerando todas as covariáveis disponíveis.\n",
    "    - Utilizando os recursos do Patsy, coloque as variáveis qualitativas como *dummies*.\n",
    "    - Mantenha sempre a categoria mais frequente como casela de referência\n",
    "    - Avalie os parâmetros e veja se parecem fazer sentido prático.\n",
    "\n",
    "2. Remova a variável menos significante e analise:\n",
    "    - Observe os indicadores que vimos, e avalie se o modelo melhorou ou piorou na sua opinião.\n",
    "    - Observe os parâmetros e veja se algum se alterou muito.\n",
    "\n",
    "3. Siga removendo as variáveis menos significantes, sempre que o *p-value* for menor que 5%. Compare o modelo final com o inicial. Observe os indicadores e conclua se o modelo parece melhor. \n",
    "    "
   ]
  },
  {
   "cell_type": "markdown",
   "metadata": {},
   "source": [
    "# 1"
   ]
  },
  {
   "cell_type": "code",
   "execution_count": 53,
   "metadata": {},
   "outputs": [
    {
     "data": {
      "text/html": [
       "<div>\n",
       "<style scoped>\n",
       "    .dataframe tbody tr th:only-of-type {\n",
       "        vertical-align: middle;\n",
       "    }\n",
       "\n",
       "    .dataframe tbody tr th {\n",
       "        vertical-align: top;\n",
       "    }\n",
       "\n",
       "    .dataframe thead th {\n",
       "        text-align: right;\n",
       "    }\n",
       "</style>\n",
       "<table border=\"1\" class=\"dataframe\">\n",
       "  <thead>\n",
       "    <tr style=\"text-align: right;\">\n",
       "      <th></th>\n",
       "      <th>sexo</th>\n",
       "      <th>posse_de_veiculo</th>\n",
       "      <th>posse_de_imovel</th>\n",
       "      <th>tipo_renda</th>\n",
       "      <th>educacao</th>\n",
       "      <th>estado_civil</th>\n",
       "      <th>tipo_residencia</th>\n",
       "    </tr>\n",
       "  </thead>\n",
       "  <tbody>\n",
       "    <tr>\n",
       "      <th>0</th>\n",
       "      <td>F</td>\n",
       "      <td>False</td>\n",
       "      <td>True</td>\n",
       "      <td>Empresário</td>\n",
       "      <td>Secundário</td>\n",
       "      <td>Solteiro</td>\n",
       "      <td>Casa</td>\n",
       "    </tr>\n",
       "    <tr>\n",
       "      <th>1</th>\n",
       "      <td>M</td>\n",
       "      <td>True</td>\n",
       "      <td>True</td>\n",
       "      <td>Assalariado</td>\n",
       "      <td>Superior completo</td>\n",
       "      <td>Casado</td>\n",
       "      <td>Casa</td>\n",
       "    </tr>\n",
       "    <tr>\n",
       "      <th>2</th>\n",
       "      <td>F</td>\n",
       "      <td>True</td>\n",
       "      <td>True</td>\n",
       "      <td>Empresário</td>\n",
       "      <td>Superior completo</td>\n",
       "      <td>Casado</td>\n",
       "      <td>Casa</td>\n",
       "    </tr>\n",
       "    <tr>\n",
       "      <th>3</th>\n",
       "      <td>F</td>\n",
       "      <td>False</td>\n",
       "      <td>True</td>\n",
       "      <td>Servidor público</td>\n",
       "      <td>Superior completo</td>\n",
       "      <td>Casado</td>\n",
       "      <td>Casa</td>\n",
       "    </tr>\n",
       "    <tr>\n",
       "      <th>4</th>\n",
       "      <td>M</td>\n",
       "      <td>True</td>\n",
       "      <td>False</td>\n",
       "      <td>Assalariado</td>\n",
       "      <td>Secundário</td>\n",
       "      <td>Solteiro</td>\n",
       "      <td>Governamental</td>\n",
       "    </tr>\n",
       "  </tbody>\n",
       "</table>\n",
       "</div>"
      ],
      "text/plain": [
       "  sexo  posse_de_veiculo  posse_de_imovel        tipo_renda  \\\n",
       "0    F             False             True        Empresário   \n",
       "1    M              True             True       Assalariado   \n",
       "2    F              True             True        Empresário   \n",
       "3    F             False             True  Servidor público   \n",
       "4    M              True            False       Assalariado   \n",
       "\n",
       "            educacao estado_civil tipo_residencia  \n",
       "0         Secundário     Solteiro            Casa  \n",
       "1  Superior completo       Casado            Casa  \n",
       "2  Superior completo       Casado            Casa  \n",
       "3  Superior completo       Casado            Casa  \n",
       "4         Secundário     Solteiro   Governamental  "
      ]
     },
     "execution_count": 53,
     "metadata": {},
     "output_type": "execute_result"
    }
   ],
   "source": [
    "# selecionando variáveis qualitativas\n",
    "var_qual = df.select_dtypes(include=['object','bool'])\n",
    "var_qual.head()"
   ]
  },
  {
   "cell_type": "code",
   "execution_count": 56,
   "metadata": {},
   "outputs": [
    {
     "data": {
      "image/png": "[encoded data removed]",
      "text/plain": [
       "<Figure size 432x288 with 1 Axes>"
      ]
     },
     "metadata": {
      "needs_background": "light"
     },
     "output_type": "display_data"
    }
   ],
   "source": [
    "# exemplo de variável qualitativa \n",
    "sns.pointplot(y = 'renda', x = 'educacao', data = df)\n",
    "plt.xticks(rotation=45);"
   ]
  },
  {
   "cell_type": "code",
   "execution_count": 66,
   "metadata": {},
   "outputs": [
    {
     "data": {
      "text/plain": [
       "False    9140\n",
       "True     5860\n",
       "Name: posse_de_veiculo, dtype: int64"
      ]
     },
     "execution_count": 66,
     "metadata": {},
     "output_type": "execute_result"
    }
   ],
   "source": [
    "var_qual['posse_de_veiculo'].value_counts()"
   ]
  },
  {
   "cell_type": "code",
   "execution_count": 69,
   "metadata": {},
   "outputs": [
    {
     "data": {
      "text/plain": [
       "Index(['sexo', 'posse_de_veiculo', 'posse_de_imovel', 'tipo_renda', 'educacao',\n",
       "       'estado_civil', 'tipo_residencia'],\n",
       "      dtype='object')"
      ]
     },
     "execution_count": 69,
     "metadata": {},
     "output_type": "execute_result"
    }
   ],
   "source": [
    "var_qual.columns"
   ]
  },
  {
   "cell_type": "code",
   "execution_count": 75,
   "metadata": {},
   "outputs": [
    {
     "data": {
      "text/plain": [
       "Index(['data_ref', 'id_cliente', 'sexo', 'posse_de_veiculo', 'posse_de_imovel',\n",
       "       'qtd_filhos', 'tipo_renda', 'educacao', 'estado_civil',\n",
       "       'tipo_residencia', 'idade', 'tempo_emprego', 'qt_pessoas_residencia',\n",
       "       'renda'],\n",
       "      dtype='object')"
      ]
     },
     "execution_count": 75,
     "metadata": {},
     "output_type": "execute_result"
    }
   ],
   "source": [
    "df.columns"
   ]
  },
  {
   "cell_type": "code",
   "execution_count": 65,
   "metadata": {},
   "outputs": [
    {
     "data": {
      "text/plain": [
       "DesignMatrix with shape (15000, 21)\n",
       "  Columns:\n",
       "    ['Intercept',\n",
       "     'C(sexo, Treatment(1))[T.F]',\n",
       "     'C(tipo_renda, Treatment(1))[T.Assalariado]',\n",
       "     'C(tipo_renda, Treatment(1))[T.Empresário]',\n",
       "     'C(tipo_renda, Treatment(1))[T.Pensionista]',\n",
       "     'C(tipo_renda, Treatment(1))[T.Servidor público]',\n",
       "     'C(educacao, Treatment(3))[T.Primário]',\n",
       "     'C(educacao, Treatment(3))[T.Pós graduação]',\n",
       "     'C(educacao, Treatment(3))[T.Secundário]',\n",
       "     'C(educacao, Treatment(3))[T.Superior incompleto]',\n",
       "     'C(estado_civil, Treatment(1))[T.Casado]',\n",
       "     'C(estado_civil, Treatment(1))[T.Solteiro]',\n",
       "     'C(estado_civil, Treatment(1))[T.União]',\n",
       "     'C(estado_civil, Treatment(1))[T.Viúvo]',\n",
       "     'C(tipo_residencia, Treatment(2))[T.Aluguel]',\n",
       "     'C(tipo_residencia, Treatment(2))[T.Casa]',\n",
       "     'C(tipo_residencia, Treatment(2))[T.Comunitário]',\n",
       "     'C(tipo_residencia, Treatment(2))[T.Estúdio]',\n",
       "     'C(tipo_residencia, Treatment(2))[T.Governamental]',\n",
       "     'C(posse_de_veiculo, Treatment(0))[T.True]',\n",
       "     'C(posse_de_imovel, Treatment(1))[T.False]']\n",
       "  Terms:\n",
       "    'Intercept' (column 0)\n",
       "    'C(sexo, Treatment(1))' (column 1)\n",
       "    'C(tipo_renda, Treatment(1))' (columns 2:6)\n",
       "    'C(educacao, Treatment(3))' (columns 6:10)\n",
       "    'C(estado_civil, Treatment(1))' (columns 10:14)\n",
       "    'C(tipo_residencia, Treatment(2))' (columns 14:19)\n",
       "    'C(posse_de_veiculo, Treatment(0))' (column 19)\n",
       "    'C(posse_de_imovel, Treatment(1))' (column 20)\n",
       "  (to view full data, use np.asarray(this_obj))"
      ]
     },
     "execution_count": 65,
     "metadata": {},
     "output_type": "execute_result"
    }
   ],
   "source": [
    "# variáveis qualitativas como dummies - colocando Treatment para variável mais frequente\n",
    "y, x = patsy.dmatrices('''\n",
    "                       renda ~ \n",
    "                               C(sexo, Treatment(1))\n",
    "                               + C(tipo_renda, Treatment(1))\n",
    "                               + C(educacao, Treatment(3))\n",
    "                               + C(estado_civil, Treatment(1))\n",
    "                               + C(tipo_residencia, Treatment(2))\n",
    "                               + C(posse_de_veiculo, Treatment(0))\n",
    "                               + C(posse_de_imovel, Treatment(1))\n",
    "                       ''', data = df)\n",
    "x"
   ]
  },
  {
   "cell_type": "code",
   "execution_count": 52,
   "metadata": {},
   "outputs": [
    {
     "data": {
      "text/html": [
       "<table class=\"simpletable\">\n",
       "<caption>OLS Regression Results</caption>\n",
       "<tr>\n",
       "  <th>Dep. Variable:</th>          <td>renda</td>      <th>  R-squared:         </th>  <td>   0.093</td>  \n",
       "</tr>\n",
       "<tr>\n",
       "  <th>Model:</th>                   <td>OLS</td>       <th>  Adj. R-squared:    </th>  <td>   0.092</td>  \n",
       "</tr>\n",
       "<tr>\n",
       "  <th>Method:</th>             <td>Least Squares</td>  <th>  F-statistic:       </th>  <td>   85.04</td>  \n",
       "</tr>\n",
       "<tr>\n",
       "  <th>Date:</th>             <td>Wed, 29 Jun 2022</td> <th>  Prob (F-statistic):</th>  <td>4.41e-299</td> \n",
       "</tr>\n",
       "<tr>\n",
       "  <th>Time:</th>                 <td>15:24:46</td>     <th>  Log-Likelihood:    </th> <td>-1.5585e+05</td>\n",
       "</tr>\n",
       "<tr>\n",
       "  <th>No. Observations:</th>      <td> 15000</td>      <th>  AIC:               </th>  <td>3.117e+05</td> \n",
       "</tr>\n",
       "<tr>\n",
       "  <th>Df Residuals:</th>          <td> 14981</td>      <th>  BIC:               </th>  <td>3.119e+05</td> \n",
       "</tr>\n",
       "<tr>\n",
       "  <th>Df Model:</th>              <td>    18</td>      <th>                     </th>      <td> </td>     \n",
       "</tr>\n",
       "<tr>\n",
       "  <th>Covariance Type:</th>      <td>nonrobust</td>    <th>                     </th>      <td> </td>     \n",
       "</tr>\n",
       "</table>\n",
       "<table class=\"simpletable\">\n",
       "<tr>\n",
       "                          <td></td>                             <th>coef</th>     <th>std err</th>      <th>t</th>      <th>P>|t|</th>  <th>[0.025</th>    <th>0.975]</th>  \n",
       "</tr>\n",
       "<tr>\n",
       "  <th>Intercept</th>                                         <td> 8477.4272</td> <td> 2663.246</td> <td>    3.183</td> <td> 0.001</td> <td> 3257.139</td> <td> 1.37e+04</td>\n",
       "</tr>\n",
       "<tr>\n",
       "  <th>C(sexo, Treatment(1))[T.F]</th>                        <td>-4927.6881</td> <td>  142.392</td> <td>  -34.607</td> <td> 0.000</td> <td>-5206.793</td> <td>-4648.583</td>\n",
       "</tr>\n",
       "<tr>\n",
       "  <th>C(tipo_renda, Treatment(1))[T.Assalariado]</th>        <td> -282.1812</td> <td> 2630.498</td> <td>   -0.107</td> <td> 0.915</td> <td>-5438.279</td> <td> 4873.916</td>\n",
       "</tr>\n",
       "<tr>\n",
       "  <th>C(tipo_renda, Treatment(1))[T.Empresário]</th>         <td> -233.7746</td> <td> 2631.844</td> <td>   -0.089</td> <td> 0.929</td> <td>-5392.511</td> <td> 4924.962</td>\n",
       "</tr>\n",
       "<tr>\n",
       "  <th>C(tipo_renda, Treatment(1))[T.Pensionista]</th>        <td>-1558.3290</td> <td> 2633.766</td> <td>   -0.592</td> <td> 0.554</td> <td>-6720.832</td> <td> 3604.174</td>\n",
       "</tr>\n",
       "<tr>\n",
       "  <th>C(tipo_renda, Treatment(1))[T.Servidor público]</th>   <td> 1277.6197</td> <td> 2637.345</td> <td>    0.484</td> <td> 0.628</td> <td>-3891.900</td> <td> 6447.139</td>\n",
       "</tr>\n",
       "<tr>\n",
       "  <th>C(educacao, Treatment(3))[T.Primário]</th>             <td> -993.7568</td> <td>  625.849</td> <td>   -1.588</td> <td> 0.112</td> <td>-2220.498</td> <td>  232.985</td>\n",
       "</tr>\n",
       "<tr>\n",
       "  <th>C(educacao, Treatment(3))[T.Pós graduação]</th>        <td>-1929.8526</td> <td> 1550.320</td> <td>   -1.245</td> <td> 0.213</td> <td>-4968.669</td> <td> 1108.964</td>\n",
       "</tr>\n",
       "<tr>\n",
       "  <th>C(educacao, Treatment(3))[T.Secundário]</th>           <td> -410.1837</td> <td>  138.729</td> <td>   -2.957</td> <td> 0.003</td> <td> -682.110</td> <td> -138.257</td>\n",
       "</tr>\n",
       "<tr>\n",
       "  <th>C(educacao, Treatment(3))[T.Superior incompleto]</th>  <td>-1568.5072</td> <td>  346.368</td> <td>   -4.528</td> <td> 0.000</td> <td>-2247.431</td> <td> -889.583</td>\n",
       "</tr>\n",
       "<tr>\n",
       "  <th>C(estado_civil, Treatment(1))[T.Casado]</th>           <td> -159.0929</td> <td>  277.976</td> <td>   -0.572</td> <td> 0.567</td> <td> -703.961</td> <td>  385.775</td>\n",
       "</tr>\n",
       "<tr>\n",
       "  <th>C(estado_civil, Treatment(1))[T.Solteiro]</th>         <td> -558.4259</td> <td>  325.272</td> <td>   -1.717</td> <td> 0.086</td> <td>-1195.998</td> <td>   79.146</td>\n",
       "</tr>\n",
       "<tr>\n",
       "  <th>C(estado_civil, Treatment(1))[T.União]</th>            <td> -863.3573</td> <td>  358.641</td> <td>   -2.407</td> <td> 0.016</td> <td>-1566.338</td> <td> -160.377</td>\n",
       "</tr>\n",
       "<tr>\n",
       "  <th>C(estado_civil, Treatment(1))[T.Viúvo]</th>            <td> -128.8261</td> <td>  404.093</td> <td>   -0.319</td> <td> 0.750</td> <td> -920.897</td> <td>  663.245</td>\n",
       "</tr>\n",
       "<tr>\n",
       "  <th>C(tipo_residencia, Treatment(2))[T.Aluguel]</th>       <td>  441.8909</td> <td>  642.958</td> <td>    0.687</td> <td> 0.492</td> <td> -818.385</td> <td> 1702.167</td>\n",
       "</tr>\n",
       "<tr>\n",
       "  <th>C(tipo_residencia, Treatment(2))[T.Casa]</th>          <td> 1534.2649</td> <td>  313.710</td> <td>    4.891</td> <td> 0.000</td> <td>  919.355</td> <td> 2149.174</td>\n",
       "</tr>\n",
       "<tr>\n",
       "  <th>C(tipo_residencia, Treatment(2))[T.Comunitário]</th>   <td> -190.6610</td> <td> 1033.603</td> <td>   -0.184</td> <td> 0.854</td> <td>-2216.650</td> <td> 1835.327</td>\n",
       "</tr>\n",
       "<tr>\n",
       "  <th>C(tipo_residencia, Treatment(2))[T.Estúdio]</th>       <td> 2720.0852</td> <td>  918.637</td> <td>    2.961</td> <td> 0.003</td> <td>  919.445</td> <td> 4520.725</td>\n",
       "</tr>\n",
       "<tr>\n",
       "  <th>C(tipo_residencia, Treatment(2))[T.Governamental]</th> <td> 2103.7347</td> <td>  482.066</td> <td>    4.364</td> <td> 0.000</td> <td> 1158.826</td> <td> 3048.644</td>\n",
       "</tr>\n",
       "</table>\n",
       "<table class=\"simpletable\">\n",
       "<tr>\n",
       "  <th>Omnibus:</th>       <td>21889.980</td> <th>  Durbin-Watson:     </th>   <td>   2.018</td>  \n",
       "</tr>\n",
       "<tr>\n",
       "  <th>Prob(Omnibus):</th>  <td> 0.000</td>   <th>  Jarque-Bera (JB):  </th> <td>13268414.591</td>\n",
       "</tr>\n",
       "<tr>\n",
       "  <th>Skew:</th>           <td> 8.657</td>   <th>  Prob(JB):          </th>   <td>    0.00</td>  \n",
       "</tr>\n",
       "<tr>\n",
       "  <th>Kurtosis:</th>       <td>147.671</td>  <th>  Cond. No.          </th>   <td>    173.</td>  \n",
       "</tr>\n",
       "</table><br/><br/>Notes:<br/>[1] Standard Errors assume that the covariance matrix of the errors is correctly specified."
      ],
      "text/plain": [
       "<class 'statsmodels.iolib.summary.Summary'>\n",
       "\"\"\"\n",
       "                            OLS Regression Results                            \n",
       "==============================================================================\n",
       "Dep. Variable:                  renda   R-squared:                       0.093\n",
       "Model:                            OLS   Adj. R-squared:                  0.092\n",
       "Method:                 Least Squares   F-statistic:                     85.04\n",
       "Date:                Wed, 29 Jun 2022   Prob (F-statistic):          4.41e-299\n",
       "Time:                        15:24:46   Log-Likelihood:            -1.5585e+05\n",
       "No. Observations:               15000   AIC:                         3.117e+05\n",
       "Df Residuals:                   14981   BIC:                         3.119e+05\n",
       "Df Model:                          18                                         \n",
       "Covariance Type:            nonrobust                                         \n",
       "=====================================================================================================================\n",
       "                                                        coef    std err          t      P>|t|      [0.025      0.975]\n",
       "---------------------------------------------------------------------------------------------------------------------\n",
       "Intercept                                          8477.4272   2663.246      3.183      0.001    3257.139    1.37e+04\n",
       "C(sexo, Treatment(1))[T.F]                        -4927.6881    142.392    -34.607      0.000   -5206.793   -4648.583\n",
       "C(tipo_renda, Treatment(1))[T.Assalariado]         -282.1812   2630.498     -0.107      0.915   -5438.279    4873.916\n",
       "C(tipo_renda, Treatment(1))[T.Empresário]          -233.7746   2631.844     -0.089      0.929   -5392.511    4924.962\n",
       "C(tipo_renda, Treatment(1))[T.Pensionista]        -1558.3290   2633.766     -0.592      0.554   -6720.832    3604.174\n",
       "C(tipo_renda, Treatment(1))[T.Servidor público]    1277.6197   2637.345      0.484      0.628   -3891.900    6447.139\n",
       "C(educacao, Treatment(3))[T.Primário]              -993.7568    625.849     -1.588      0.112   -2220.498     232.985\n",
       "C(educacao, Treatment(3))[T.Pós graduação]        -1929.8526   1550.320     -1.245      0.213   -4968.669    1108.964\n",
       "C(educacao, Treatment(3))[T.Secundário]            -410.1837    138.729     -2.957      0.003    -682.110    -138.257\n",
       "C(educacao, Treatment(3))[T.Superior incompleto]  -1568.5072    346.368     -4.528      0.000   -2247.431    -889.583\n",
       "C(estado_civil, Treatment(1))[T.Casado]            -159.0929    277.976     -0.572      0.567    -703.961     385.775\n",
       "C(estado_civil, Treatment(1))[T.Solteiro]          -558.4259    325.272     -1.717      0.086   -1195.998      79.146\n",
       "C(estado_civil, Treatment(1))[T.União]             -863.3573    358.641     -2.407      0.016   -1566.338    -160.377\n",
       "C(estado_civil, Treatment(1))[T.Viúvo]             -128.8261    404.093     -0.319      0.750    -920.897     663.245\n",
       "C(tipo_residencia, Treatment(2))[T.Aluguel]         441.8909    642.958      0.687      0.492    -818.385    1702.167\n",
       "C(tipo_residencia, Treatment(2))[T.Casa]           1534.2649    313.710      4.891      0.000     919.355    2149.174\n",
       "C(tipo_residencia, Treatment(2))[T.Comunitário]    -190.6610   1033.603     -0.184      0.854   -2216.650    1835.327\n",
       "C(tipo_residencia, Treatment(2))[T.Estúdio]        2720.0852    918.637      2.961      0.003     919.445    4520.725\n",
       "C(tipo_residencia, Treatment(2))[T.Governamental]  2103.7347    482.066      4.364      0.000    1158.826    3048.644\n",
       "==============================================================================\n",
       "Omnibus:                    21889.980   Durbin-Watson:                   2.018\n",
       "Prob(Omnibus):                  0.000   Jarque-Bera (JB):         13268414.591\n",
       "Skew:                           8.657   Prob(JB):                         0.00\n",
       "Kurtosis:                     147.671   Cond. No.                         173.\n",
       "==============================================================================\n",
       "\n",
       "Notes:\n",
       "[1] Standard Errors assume that the covariance matrix of the errors is correctly specified.\n",
       "\"\"\""
      ]
     },
     "execution_count": 52,
     "metadata": {},
     "output_type": "execute_result"
    }
   ],
   "source": [
    "sm.OLS(y, x).fit().summary()"
   ]
  }
 ],
 "metadata": {
  "kernelspec": {
   "display_name": "Python 3",
   "language": "python",
   "name": "python3"
  },
  "language_info": {
   "codemirror_mode": {
    "name": "ipython",
    "version": 3
   },
   "file_extension": ".py",
   "mimetype": "text/x-python",
   "name": "python",
   "nbconvert_exporter": "python",
   "pygments_lexer": "ipython3",
   "version": "3.8.5"
  }
 },
 "nbformat": 4,
 "nbformat_minor": 4
}
